{
  "cells": [
    {
      "cell_type": "code",
      "source": [
        "import pandas as pd\n",
        "import numpy as np\n",
        "from matplotlib import pyplot as plt\n",
        "\n",
        "from sklearn.model_selection import train_test_split\n",
        "from sklearn.linear_model import LogisticRegression\n",
        "from sklearn.svm import SVC\n",
        "from sklearn.ensemble import RandomForestClassifier\n",
        "from sklearn.metrics import accuracy_score, precision_score, recall_score, f1_score\n",
        "\n",
        "from tensorflow.keras.models import Sequential\n",
        "from tensorflow.keras.layers import LSTM, Dense, Embedding, Dropout"
      ],
      "metadata": {
        "id": "1oU8pS4bHvZx"
      },
      "execution_count": 1,
      "outputs": []
    },
    {
      "cell_type": "code",
      "source": [
        "# Mounting Google Drive to access files stored in Google Colab\n",
        "from google.colab import drive\n",
        "drive.mount('/content/drive')"
      ],
      "metadata": {
        "colab": {
          "base_uri": "https://localhost:8080/"
        },
        "id": "jG3bP6KaHX2d",
        "outputId": "13f924a8-021f-45f7-a5a7-87f4dad574b1"
      },
      "execution_count": 2,
      "outputs": [
        {
          "output_type": "stream",
          "name": "stdout",
          "text": [
            "Mounted at /content/drive\n"
          ]
        }
      ]
    },
    {
      "cell_type": "code",
      "source": [
        "# Load data\n",
        "df = pd.read_csv('/content/drive/MyDrive/NLP_Project/IMDB_Dataset_Preprocessed.csv')\n",
        "df.head()"
      ],
      "metadata": {
        "colab": {
          "base_uri": "https://localhost:8080/",
          "height": 643
        },
        "id": "TdjAPtqUHwno",
        "outputId": "b66f503b-cf47-4f0b-8006-4b802e730ad0"
      },
      "execution_count": 3,
      "outputs": [
        {
          "output_type": "execute_result",
          "data": {
            "text/plain": [
              "   Unnamed: 0                                             review sentiment  \\\n",
              "0           0  One of the other reviewers has mentioned that ...  positive   \n",
              "1           1  A wonderful little production. <br /><br />The...  positive   \n",
              "2           2  I thought this was a wonderful way to spend ti...  positive   \n",
              "3           3  Basically there's a family where a little boy ...  negative   \n",
              "4           4  Petter Mattei's \"Love in the Time of Money\" is...  positive   \n",
              "\n",
              "   word_count  char_count                                     cleaned_review  \\\n",
              "0         166        1116  one reviewer mentioned watching oz episode you...   \n",
              "1          84         640  wonderful little production filming technique ...   \n",
              "2          85         572  thought wonderful way spend time hot summer we...   \n",
              "3          67         443  basically there family little boy jake think t...   \n",
              "4         125         843  petter matteis love time money visually stunni...   \n",
              "\n",
              "   sentiment_numeric  flesch_kincaid_grade  gunning_fog_index  \\\n",
              "0                  1                  68.0              70.98   \n",
              "1                  1                  40.8              43.12   \n",
              "2                  1                  37.6              41.53   \n",
              "3                  0                  30.6              32.17   \n",
              "4                  1                  53.2              55.44   \n",
              "\n",
              "   lexical_diversity  nouns  verbs  adjectives  adverbs  \\\n",
              "0           0.825301     78     33          40       10   \n",
              "1           0.904762     33     18          20       11   \n",
              "2           0.952941     39     19          18        6   \n",
              "3           0.791045     32     13          12        5   \n",
              "4           0.800000     61     23          29        5   \n",
              "\n",
              "                                              tokens  dominant_topic  \\\n",
              "0  ['one', 'reviewer', 'mentioned', 'watching', '...               2   \n",
              "1  ['wonderful', 'little', 'production', 'filming...               3   \n",
              "2  ['thought', 'wonderful', 'way', 'spend', 'time...               3   \n",
              "3  ['basically', 'there', 'family', 'little', 'bo...               4   \n",
              "4  ['petter', 'matteis', 'love', 'time', 'money',...               3   \n",
              "\n",
              "  vader_sentiment textblob_sentiment  vader_polarity  textblob_polarity  \n",
              "0        negative           positive         -0.9941           0.023881  \n",
              "1        positive           positive          0.9571           0.127604  \n",
              "2        positive           positive          0.9688           0.278571  \n",
              "3        negative           positive         -0.9061           0.018056  \n",
              "4        positive           positive          0.9887           0.239534  "
            ],
            "text/html": [
              "\n",
              "  <div id=\"df-fc31428a-b008-41a0-95d6-3633f6918883\" class=\"colab-df-container\">\n",
              "    <div>\n",
              "<style scoped>\n",
              "    .dataframe tbody tr th:only-of-type {\n",
              "        vertical-align: middle;\n",
              "    }\n",
              "\n",
              "    .dataframe tbody tr th {\n",
              "        vertical-align: top;\n",
              "    }\n",
              "\n",
              "    .dataframe thead th {\n",
              "        text-align: right;\n",
              "    }\n",
              "</style>\n",
              "<table border=\"1\" class=\"dataframe\">\n",
              "  <thead>\n",
              "    <tr style=\"text-align: right;\">\n",
              "      <th></th>\n",
              "      <th>Unnamed: 0</th>\n",
              "      <th>review</th>\n",
              "      <th>sentiment</th>\n",
              "      <th>word_count</th>\n",
              "      <th>char_count</th>\n",
              "      <th>cleaned_review</th>\n",
              "      <th>sentiment_numeric</th>\n",
              "      <th>flesch_kincaid_grade</th>\n",
              "      <th>gunning_fog_index</th>\n",
              "      <th>lexical_diversity</th>\n",
              "      <th>nouns</th>\n",
              "      <th>verbs</th>\n",
              "      <th>adjectives</th>\n",
              "      <th>adverbs</th>\n",
              "      <th>tokens</th>\n",
              "      <th>dominant_topic</th>\n",
              "      <th>vader_sentiment</th>\n",
              "      <th>textblob_sentiment</th>\n",
              "      <th>vader_polarity</th>\n",
              "      <th>textblob_polarity</th>\n",
              "    </tr>\n",
              "  </thead>\n",
              "  <tbody>\n",
              "    <tr>\n",
              "      <th>0</th>\n",
              "      <td>0</td>\n",
              "      <td>One of the other reviewers has mentioned that ...</td>\n",
              "      <td>positive</td>\n",
              "      <td>166</td>\n",
              "      <td>1116</td>\n",
              "      <td>one reviewer mentioned watching oz episode you...</td>\n",
              "      <td>1</td>\n",
              "      <td>68.0</td>\n",
              "      <td>70.98</td>\n",
              "      <td>0.825301</td>\n",
              "      <td>78</td>\n",
              "      <td>33</td>\n",
              "      <td>40</td>\n",
              "      <td>10</td>\n",
              "      <td>['one', 'reviewer', 'mentioned', 'watching', '...</td>\n",
              "      <td>2</td>\n",
              "      <td>negative</td>\n",
              "      <td>positive</td>\n",
              "      <td>-0.9941</td>\n",
              "      <td>0.023881</td>\n",
              "    </tr>\n",
              "    <tr>\n",
              "      <th>1</th>\n",
              "      <td>1</td>\n",
              "      <td>A wonderful little production. &lt;br /&gt;&lt;br /&gt;The...</td>\n",
              "      <td>positive</td>\n",
              "      <td>84</td>\n",
              "      <td>640</td>\n",
              "      <td>wonderful little production filming technique ...</td>\n",
              "      <td>1</td>\n",
              "      <td>40.8</td>\n",
              "      <td>43.12</td>\n",
              "      <td>0.904762</td>\n",
              "      <td>33</td>\n",
              "      <td>18</td>\n",
              "      <td>20</td>\n",
              "      <td>11</td>\n",
              "      <td>['wonderful', 'little', 'production', 'filming...</td>\n",
              "      <td>3</td>\n",
              "      <td>positive</td>\n",
              "      <td>positive</td>\n",
              "      <td>0.9571</td>\n",
              "      <td>0.127604</td>\n",
              "    </tr>\n",
              "    <tr>\n",
              "      <th>2</th>\n",
              "      <td>2</td>\n",
              "      <td>I thought this was a wonderful way to spend ti...</td>\n",
              "      <td>positive</td>\n",
              "      <td>85</td>\n",
              "      <td>572</td>\n",
              "      <td>thought wonderful way spend time hot summer we...</td>\n",
              "      <td>1</td>\n",
              "      <td>37.6</td>\n",
              "      <td>41.53</td>\n",
              "      <td>0.952941</td>\n",
              "      <td>39</td>\n",
              "      <td>19</td>\n",
              "      <td>18</td>\n",
              "      <td>6</td>\n",
              "      <td>['thought', 'wonderful', 'way', 'spend', 'time...</td>\n",
              "      <td>3</td>\n",
              "      <td>positive</td>\n",
              "      <td>positive</td>\n",
              "      <td>0.9688</td>\n",
              "      <td>0.278571</td>\n",
              "    </tr>\n",
              "    <tr>\n",
              "      <th>3</th>\n",
              "      <td>3</td>\n",
              "      <td>Basically there's a family where a little boy ...</td>\n",
              "      <td>negative</td>\n",
              "      <td>67</td>\n",
              "      <td>443</td>\n",
              "      <td>basically there family little boy jake think t...</td>\n",
              "      <td>0</td>\n",
              "      <td>30.6</td>\n",
              "      <td>32.17</td>\n",
              "      <td>0.791045</td>\n",
              "      <td>32</td>\n",
              "      <td>13</td>\n",
              "      <td>12</td>\n",
              "      <td>5</td>\n",
              "      <td>['basically', 'there', 'family', 'little', 'bo...</td>\n",
              "      <td>4</td>\n",
              "      <td>negative</td>\n",
              "      <td>positive</td>\n",
              "      <td>-0.9061</td>\n",
              "      <td>0.018056</td>\n",
              "    </tr>\n",
              "    <tr>\n",
              "      <th>4</th>\n",
              "      <td>4</td>\n",
              "      <td>Petter Mattei's \"Love in the Time of Money\" is...</td>\n",
              "      <td>positive</td>\n",
              "      <td>125</td>\n",
              "      <td>843</td>\n",
              "      <td>petter matteis love time money visually stunni...</td>\n",
              "      <td>1</td>\n",
              "      <td>53.2</td>\n",
              "      <td>55.44</td>\n",
              "      <td>0.800000</td>\n",
              "      <td>61</td>\n",
              "      <td>23</td>\n",
              "      <td>29</td>\n",
              "      <td>5</td>\n",
              "      <td>['petter', 'matteis', 'love', 'time', 'money',...</td>\n",
              "      <td>3</td>\n",
              "      <td>positive</td>\n",
              "      <td>positive</td>\n",
              "      <td>0.9887</td>\n",
              "      <td>0.239534</td>\n",
              "    </tr>\n",
              "  </tbody>\n",
              "</table>\n",
              "</div>\n",
              "    <div class=\"colab-df-buttons\">\n",
              "\n",
              "  <div class=\"colab-df-container\">\n",
              "    <button class=\"colab-df-convert\" onclick=\"convertToInteractive('df-fc31428a-b008-41a0-95d6-3633f6918883')\"\n",
              "            title=\"Convert this dataframe to an interactive table.\"\n",
              "            style=\"display:none;\">\n",
              "\n",
              "  <svg xmlns=\"http://www.w3.org/2000/svg\" height=\"24px\" viewBox=\"0 -960 960 960\">\n",
              "    <path d=\"M120-120v-720h720v720H120Zm60-500h600v-160H180v160Zm220 220h160v-160H400v160Zm0 220h160v-160H400v160ZM180-400h160v-160H180v160Zm440 0h160v-160H620v160ZM180-180h160v-160H180v160Zm440 0h160v-160H620v160Z\"/>\n",
              "  </svg>\n",
              "    </button>\n",
              "\n",
              "  <style>\n",
              "    .colab-df-container {\n",
              "      display:flex;\n",
              "      gap: 12px;\n",
              "    }\n",
              "\n",
              "    .colab-df-convert {\n",
              "      background-color: #E8F0FE;\n",
              "      border: none;\n",
              "      border-radius: 50%;\n",
              "      cursor: pointer;\n",
              "      display: none;\n",
              "      fill: #1967D2;\n",
              "      height: 32px;\n",
              "      padding: 0 0 0 0;\n",
              "      width: 32px;\n",
              "    }\n",
              "\n",
              "    .colab-df-convert:hover {\n",
              "      background-color: #E2EBFA;\n",
              "      box-shadow: 0px 1px 2px rgba(60, 64, 67, 0.3), 0px 1px 3px 1px rgba(60, 64, 67, 0.15);\n",
              "      fill: #174EA6;\n",
              "    }\n",
              "\n",
              "    .colab-df-buttons div {\n",
              "      margin-bottom: 4px;\n",
              "    }\n",
              "\n",
              "    [theme=dark] .colab-df-convert {\n",
              "      background-color: #3B4455;\n",
              "      fill: #D2E3FC;\n",
              "    }\n",
              "\n",
              "    [theme=dark] .colab-df-convert:hover {\n",
              "      background-color: #434B5C;\n",
              "      box-shadow: 0px 1px 3px 1px rgba(0, 0, 0, 0.15);\n",
              "      filter: drop-shadow(0px 1px 2px rgba(0, 0, 0, 0.3));\n",
              "      fill: #FFFFFF;\n",
              "    }\n",
              "  </style>\n",
              "\n",
              "    <script>\n",
              "      const buttonEl =\n",
              "        document.querySelector('#df-fc31428a-b008-41a0-95d6-3633f6918883 button.colab-df-convert');\n",
              "      buttonEl.style.display =\n",
              "        google.colab.kernel.accessAllowed ? 'block' : 'none';\n",
              "\n",
              "      async function convertToInteractive(key) {\n",
              "        const element = document.querySelector('#df-fc31428a-b008-41a0-95d6-3633f6918883');\n",
              "        const dataTable =\n",
              "          await google.colab.kernel.invokeFunction('convertToInteractive',\n",
              "                                                    [key], {});\n",
              "        if (!dataTable) return;\n",
              "\n",
              "        const docLinkHtml = 'Like what you see? Visit the ' +\n",
              "          '<a target=\"_blank\" href=https://colab.research.google.com/notebooks/data_table.ipynb>data table notebook</a>'\n",
              "          + ' to learn more about interactive tables.';\n",
              "        element.innerHTML = '';\n",
              "        dataTable['output_type'] = 'display_data';\n",
              "        await google.colab.output.renderOutput(dataTable, element);\n",
              "        const docLink = document.createElement('div');\n",
              "        docLink.innerHTML = docLinkHtml;\n",
              "        element.appendChild(docLink);\n",
              "      }\n",
              "    </script>\n",
              "  </div>\n",
              "\n",
              "\n",
              "<div id=\"df-bf99847a-09a8-4c27-adf2-cf60939aa32a\">\n",
              "  <button class=\"colab-df-quickchart\" onclick=\"quickchart('df-bf99847a-09a8-4c27-adf2-cf60939aa32a')\"\n",
              "            title=\"Suggest charts\"\n",
              "            style=\"display:none;\">\n",
              "\n",
              "<svg xmlns=\"http://www.w3.org/2000/svg\" height=\"24px\"viewBox=\"0 0 24 24\"\n",
              "     width=\"24px\">\n",
              "    <g>\n",
              "        <path d=\"M19 3H5c-1.1 0-2 .9-2 2v14c0 1.1.9 2 2 2h14c1.1 0 2-.9 2-2V5c0-1.1-.9-2-2-2zM9 17H7v-7h2v7zm4 0h-2V7h2v10zm4 0h-2v-4h2v4z\"/>\n",
              "    </g>\n",
              "</svg>\n",
              "  </button>\n",
              "\n",
              "<style>\n",
              "  .colab-df-quickchart {\n",
              "      --bg-color: #E8F0FE;\n",
              "      --fill-color: #1967D2;\n",
              "      --hover-bg-color: #E2EBFA;\n",
              "      --hover-fill-color: #174EA6;\n",
              "      --disabled-fill-color: #AAA;\n",
              "      --disabled-bg-color: #DDD;\n",
              "  }\n",
              "\n",
              "  [theme=dark] .colab-df-quickchart {\n",
              "      --bg-color: #3B4455;\n",
              "      --fill-color: #D2E3FC;\n",
              "      --hover-bg-color: #434B5C;\n",
              "      --hover-fill-color: #FFFFFF;\n",
              "      --disabled-bg-color: #3B4455;\n",
              "      --disabled-fill-color: #666;\n",
              "  }\n",
              "\n",
              "  .colab-df-quickchart {\n",
              "    background-color: var(--bg-color);\n",
              "    border: none;\n",
              "    border-radius: 50%;\n",
              "    cursor: pointer;\n",
              "    display: none;\n",
              "    fill: var(--fill-color);\n",
              "    height: 32px;\n",
              "    padding: 0;\n",
              "    width: 32px;\n",
              "  }\n",
              "\n",
              "  .colab-df-quickchart:hover {\n",
              "    background-color: var(--hover-bg-color);\n",
              "    box-shadow: 0 1px 2px rgba(60, 64, 67, 0.3), 0 1px 3px 1px rgba(60, 64, 67, 0.15);\n",
              "    fill: var(--button-hover-fill-color);\n",
              "  }\n",
              "\n",
              "  .colab-df-quickchart-complete:disabled,\n",
              "  .colab-df-quickchart-complete:disabled:hover {\n",
              "    background-color: var(--disabled-bg-color);\n",
              "    fill: var(--disabled-fill-color);\n",
              "    box-shadow: none;\n",
              "  }\n",
              "\n",
              "  .colab-df-spinner {\n",
              "    border: 2px solid var(--fill-color);\n",
              "    border-color: transparent;\n",
              "    border-bottom-color: var(--fill-color);\n",
              "    animation:\n",
              "      spin 1s steps(1) infinite;\n",
              "  }\n",
              "\n",
              "  @keyframes spin {\n",
              "    0% {\n",
              "      border-color: transparent;\n",
              "      border-bottom-color: var(--fill-color);\n",
              "      border-left-color: var(--fill-color);\n",
              "    }\n",
              "    20% {\n",
              "      border-color: transparent;\n",
              "      border-left-color: var(--fill-color);\n",
              "      border-top-color: var(--fill-color);\n",
              "    }\n",
              "    30% {\n",
              "      border-color: transparent;\n",
              "      border-left-color: var(--fill-color);\n",
              "      border-top-color: var(--fill-color);\n",
              "      border-right-color: var(--fill-color);\n",
              "    }\n",
              "    40% {\n",
              "      border-color: transparent;\n",
              "      border-right-color: var(--fill-color);\n",
              "      border-top-color: var(--fill-color);\n",
              "    }\n",
              "    60% {\n",
              "      border-color: transparent;\n",
              "      border-right-color: var(--fill-color);\n",
              "    }\n",
              "    80% {\n",
              "      border-color: transparent;\n",
              "      border-right-color: var(--fill-color);\n",
              "      border-bottom-color: var(--fill-color);\n",
              "    }\n",
              "    90% {\n",
              "      border-color: transparent;\n",
              "      border-bottom-color: var(--fill-color);\n",
              "    }\n",
              "  }\n",
              "</style>\n",
              "\n",
              "  <script>\n",
              "    async function quickchart(key) {\n",
              "      const quickchartButtonEl =\n",
              "        document.querySelector('#' + key + ' button');\n",
              "      quickchartButtonEl.disabled = true;  // To prevent multiple clicks.\n",
              "      quickchartButtonEl.classList.add('colab-df-spinner');\n",
              "      try {\n",
              "        const charts = await google.colab.kernel.invokeFunction(\n",
              "            'suggestCharts', [key], {});\n",
              "      } catch (error) {\n",
              "        console.error('Error during call to suggestCharts:', error);\n",
              "      }\n",
              "      quickchartButtonEl.classList.remove('colab-df-spinner');\n",
              "      quickchartButtonEl.classList.add('colab-df-quickchart-complete');\n",
              "    }\n",
              "    (() => {\n",
              "      let quickchartButtonEl =\n",
              "        document.querySelector('#df-bf99847a-09a8-4c27-adf2-cf60939aa32a button');\n",
              "      quickchartButtonEl.style.display =\n",
              "        google.colab.kernel.accessAllowed ? 'block' : 'none';\n",
              "    })();\n",
              "  </script>\n",
              "</div>\n",
              "\n",
              "    </div>\n",
              "  </div>\n"
            ],
            "application/vnd.google.colaboratory.intrinsic+json": {
              "type": "dataframe",
              "variable_name": "df",
              "summary": "{\n  \"name\": \"df\",\n  \"rows\": 50000,\n  \"fields\": [\n    {\n      \"column\": \"Unnamed: 0\",\n      \"properties\": {\n        \"dtype\": \"number\",\n        \"std\": 14433,\n        \"min\": 0,\n        \"max\": 49999,\n        \"num_unique_values\": 50000,\n        \"samples\": [\n          33553,\n          9427,\n          199\n        ],\n        \"semantic_type\": \"\",\n        \"description\": \"\"\n      }\n    },\n    {\n      \"column\": \"review\",\n      \"properties\": {\n        \"dtype\": \"string\",\n        \"num_unique_values\": 49582,\n        \"samples\": [\n          \"\\\"Soul Plane\\\" is a horrible attempt at comedy that only should appeal people with thick skulls, bloodshot eyes and furry pawns. <br /><br />The plot is not only incoherent but also non-existent, acting is mostly sub sub-par with a gang of highly moronic and dreadful characters thrown in for bad measure, jokes are often spotted miles ahead and almost never even a bit amusing. This movie lacks any structure and is full of racial stereotypes that must have seemed old even in the fifties, the only thing it really has going for it is some pretty ladies, but really, if you want that you can rent something from the \\\"Adult\\\" section. OK?<br /><br />I can hardly see anything here to recommend since you'll probably have a lot a better and productive time chasing rats with a sledgehammer or inventing waterproof teabags or whatever.<br /><br />2/10\",\n          \"Guest from the Future tells a fascinating story of time travel, friendship, battle of good and evil -- all with a small budget, child actors, and few special effects. Something for Spielberg and Lucas to learn from. ;) A sixth-grader Kolya \\\"Nick\\\" Gerasimov finds a time machine in the basement of a decrepit building and travels 100 years into the future. He discovers a near-perfect, utopian society where robots play guitars and write poetry, everyone is kind to each other and people enjoy everything technology has to offer. Alice is the daughter of a prominent scientist who invented a device called Mielophone that allows to read minds of humans and animals. The device can be put to both good and bad use, depending on whose hands it falls into. When two evil space pirates from Saturn who want to rule the universe attempt to steal Mielophone, it falls into the hands of 20th century school boy Nick. With the pirates hot on his tracks, he travels back to his time, followed by the pirates, and Alice. Chaos, confusion and funny situations follow as the luckless pirates try to blend in with the earthlings. Alice enrolls in the same school Nick goes to and demonstrates superhuman abilities in PE class. The catch is, Alice doesn't know what Nick looks like, while the pirates do. Also, the pirates are able to change their appearance and turn literally into anyone. (Hmm, I wonder if this is where James Cameron got the idea for Terminator...) Who gets to Nick -- and Mielophone -- first? Excellent plot, non-stop adventures, and great soundtrack. I wish Hollywood made kid movies like this one...\",\n          \"\\\"National Treasure\\\" (2004) is a thoroughly misguided hodge-podge of plot entanglements that borrow from nearly every cloak and dagger government conspiracy clich\\u00e9 that has ever been written. The film stars Nicholas Cage as Benjamin Franklin Gates (how precious is that, I ask you?); a seemingly normal fellow who, for no other reason than being of a lineage of like-minded misguided fortune hunters, decides to steal a 'national treasure' that has been hidden by the United States founding fathers. After a bit of subtext and background that plays laughably (unintentionally) like Indiana Jones meets The Patriot, the film degenerates into one misguided whimsy after another \\u0096 attempting to create a 'Stanley Goodspeed' regurgitation of Nicholas Cage and launch the whole convoluted mess forward with a series of high octane, but disconnected misadventures.<br /><br />The relevancy and logic to having George Washington and his motley crew of patriots burying a king's ransom someplace on native soil, and then, going through the meticulous plan of leaving clues scattered throughout U.S. currency art work, is something that director Jon Turteltaub never quite gets around to explaining. Couldn't Washington found better usage for such wealth during the start up of the country? Hence, we are left with a mystery built on top of an enigma that is already on shaky ground by the time Ben appoints himself the new custodian of this untold wealth. Ben's intentions are noble \\u0096 if confusing. He's set on protecting the treasure. For who and when?\\u0085your guess is as good as mine.<br /><br />But there are a few problems with Ben's crusade. First up, his friend, Ian Holmes (Sean Bean) decides that he can't wait for Ben to make up his mind about stealing the Declaration of Independence from the National Archives (oh, yeah \\u0096 brilliant idea!). Presumably, the back of that famous document holds the secret answer to the ultimate fortune. So Ian tries to kill Ben. The assassination attempt is, of course, unsuccessful, if overly melodramatic. It also affords Ben the opportunity to pick up, and pick on, the very sultry curator of the archives, Abigail Chase (Diane Kruger). She thinks Ben is clearly a nut \\u0096 at least at the beginning. But true to action/romance form, Abby's resolve melts quicker than you can say, \\\"is that the Hope Diamond?\\\" The film moves into full X-File-ish mode, as the FBI, mistakenly believing that Ben is behind the theft, retaliate in various benign ways that lead to a multi-layering of action sequences reminiscent of Mission Impossible meets The Fugitive. Honestly, don't those guys ever get 'intelligence' information that is correct? In the final analysis, \\\"National Treasure\\\" isn't great film making, so much as it's a patchwork rehash of tired old bits from other movies, woven together from scraps, the likes of which would make IL' Betsy Ross blush.<br /><br />The Buena Vista DVD delivers a far more generous treatment than this film is deserving of. The anamorphic widescreen picture exhibits a very smooth and finely detailed image with very rich colors, natural flesh tones, solid blacks and clean whites. The stylized image is also free of blemishes and digital enhancements. The audio is 5.1 and delivers a nice sonic boom to your side and rear speakers with intensity and realism. Extras include a host of promotional junket material that is rather deep and over the top in its explanation of how and why this film was made. If only, as an audience, we had had more clarification as to why Ben and co. were chasing after an illusive treasure, this might have been one good flick. Extras conclude with the theatrical trailer, audio commentary and deleted scenes. Not for the faint-hearted \\u0096 just the thick-headed.\"\n        ],\n        \"semantic_type\": \"\",\n        \"description\": \"\"\n      }\n    },\n    {\n      \"column\": \"sentiment\",\n      \"properties\": {\n        \"dtype\": \"category\",\n        \"num_unique_values\": 2,\n        \"samples\": [\n          \"negative\",\n          \"positive\"\n        ],\n        \"semantic_type\": \"\",\n        \"description\": \"\"\n      }\n    },\n    {\n      \"column\": \"word_count\",\n      \"properties\": {\n        \"dtype\": \"number\",\n        \"std\": 89,\n        \"min\": 3,\n        \"max\": 1428,\n        \"num_unique_values\": 598,\n        \"samples\": [\n          54,\n          206\n        ],\n        \"semantic_type\": \"\",\n        \"description\": \"\"\n      }\n    },\n    {\n      \"column\": \"char_count\",\n      \"properties\": {\n        \"dtype\": \"number\",\n        \"std\": 629,\n        \"min\": 17,\n        \"max\": 9187,\n        \"num_unique_values\": 3339,\n        \"samples\": [\n          454,\n          2369\n        ],\n        \"semantic_type\": \"\",\n        \"description\": \"\"\n      }\n    },\n    {\n      \"column\": \"cleaned_review\",\n      \"properties\": {\n        \"dtype\": \"string\",\n        \"num_unique_values\": 49574,\n        \"samples\": [\n          \"moving intriguing absorbing however story little choppy hard follow time although two principal actor great job seeing senn penn acting every fiber stealing every frame made memorable movie later movie revealed onerole actor also showed comedic flair sweet lowdown surprisingly talented lightweight used think\",\n          \"seems becoming fashionable rip basic instinct point significant part audience including critic found terrible even released seems even fashionable trash sharon stone like u fourteen year older unlike u still look wonderful first comment movie vicious see opinion sequel nearly good original film bad comment pretend michael catonjones paul verhoeven neither henry bean leora barish joe eszterhas basic instinct entertaining average thriller besides addition jerry goldsmith original score keep little resemblance predecessor even stone give character different dimension creating lustful devilish catherine trimell perfectly well rank among monster like hannibal lecter intelligent actress afraid taking risk play camp leisure unfortunately seems main target enjoy trashing flick became successful much main icon like actor reached level time arrived bound destroyed hollywood audience rest cast outstanding giving performance far better material deserves david morrissey much better actor far interesting michael douglas acting flawless giving dense complex dimension otherwise one dimensional character since screen time axis movie keep attention beginning end recommending basic instinct great movie expressing disagreement comment site conviction agenda movie shaping opinion spectator\"\n        ],\n        \"semantic_type\": \"\",\n        \"description\": \"\"\n      }\n    },\n    {\n      \"column\": \"sentiment_numeric\",\n      \"properties\": {\n        \"dtype\": \"number\",\n        \"std\": 0,\n        \"min\": 0,\n        \"max\": 1,\n        \"num_unique_values\": 2,\n        \"samples\": [\n          0,\n          1\n        ],\n        \"semantic_type\": \"\",\n        \"description\": \"\"\n      }\n    },\n    {\n      \"column\": \"flesch_kincaid_grade\",\n      \"properties\": {\n        \"dtype\": \"number\",\n        \"std\": 35.26281946634108,\n        \"min\": 0.5,\n        \"max\": 559.0,\n        \"num_unique_values\": 922,\n        \"samples\": [\n          70.8,\n          51.2\n        ],\n        \"semantic_type\": \"\",\n        \"description\": \"\"\n      }\n    },\n    {\n      \"column\": \"gunning_fog_index\",\n      \"properties\": {\n        \"dtype\": \"number\",\n        \"std\": 36.004666739440374,\n        \"min\": 1.2,\n        \"max\": 573.3,\n        \"num_unique_values\": 7368,\n        \"samples\": [\n          121.47,\n          158.45\n        ],\n        \"semantic_type\": \"\",\n        \"description\": \"\"\n      }\n    },\n    {\n      \"column\": \"lexical_diversity\",\n      \"properties\": {\n        \"dtype\": \"number\",\n        \"std\": 0.0780672727371598,\n        \"min\": 0.0486111111111111,\n        \"max\": 1.0,\n        \"num_unique_values\": 6817,\n        \"samples\": [\n          0.9206349206349206,\n          0.6715176715176715\n        ],\n        \"semantic_type\": \"\",\n        \"description\": \"\"\n      }\n    },\n    {\n      \"column\": \"nouns\",\n      \"properties\": {\n        \"dtype\": \"number\",\n        \"std\": 41,\n        \"min\": 1,\n        \"max\": 670,\n        \"num_unique_values\": 312,\n        \"samples\": [\n          181,\n          7\n        ],\n        \"semantic_type\": \"\",\n        \"description\": \"\"\n      }\n    },\n    {\n      \"column\": \"verbs\",\n      \"properties\": {\n        \"dtype\": \"number\",\n        \"std\": 17,\n        \"min\": 0,\n        \"max\": 367,\n        \"num_unique_values\": 141,\n        \"samples\": [\n          62,\n          175\n        ],\n        \"semantic_type\": \"\",\n        \"description\": \"\"\n      }\n    },\n    {\n      \"column\": \"adjectives\",\n      \"properties\": {\n        \"dtype\": \"number\",\n        \"std\": 19,\n        \"min\": 0,\n        \"max\": 255,\n        \"num_unique_values\": 159,\n        \"samples\": [\n          62,\n          209\n        ],\n        \"semantic_type\": \"\",\n        \"description\": \"\"\n      }\n    },\n    {\n      \"column\": \"adverbs\",\n      \"properties\": {\n        \"dtype\": \"number\",\n        \"std\": 8,\n        \"min\": 0,\n        \"max\": 144,\n        \"num_unique_values\": 84,\n        \"samples\": [\n          84,\n          10\n        ],\n        \"semantic_type\": \"\",\n        \"description\": \"\"\n      }\n    },\n    {\n      \"column\": \"tokens\",\n      \"properties\": {\n        \"dtype\": \"string\",\n        \"num_unique_values\": 49574,\n        \"samples\": [\n          \"['moving', 'intriguing', 'absorbing', 'however', 'story', 'little', 'choppy', 'hard', 'follow', 'time', 'although', 'two', 'principal', 'actor', 'great', 'job', 'seeing', 'senn', 'penn', 'acting', 'every', 'fiber', 'stealing', 'every', 'frame', 'made', 'memorable', 'movie', 'later', 'movie', 'revealed', 'onerole', 'actor', 'also', 'showed', 'comedic', 'flair', 'sweet', 'lowdown', 'surprisingly', 'talented', 'lightweight', 'used', 'think']\",\n          \"['seems', 'becoming', 'fashionable', 'rip', 'basic', 'instinct', 'point', 'significant', 'part', 'audience', 'including', 'critic', 'found', 'terrible', 'even', 'released', 'seems', 'even', 'fashionable', 'trash', 'sharon', 'stone', 'like', 'u', 'fourteen', 'year', 'older', 'unlike', 'u', 'still', 'look', 'wonderful', 'first', 'comment', 'movie', 'vicious', 'see', 'opinion', 'sequel', 'nearly', 'good', 'original', 'film', 'bad', 'comment', 'pretend', 'michael', 'catonjones', 'paul', 'verhoeven', 'neither', 'henry', 'bean', 'leora', 'barish', 'joe', 'eszterhas', 'basic', 'instinct', 'entertaining', 'average', 'thriller', 'besides', 'addition', 'jerry', 'goldsmith', 'original', 'score', 'keep', 'little', 'resemblance', 'predecessor', 'even', 'stone', 'give', 'character', 'different', 'dimension', 'creating', 'lustful', 'devilish', 'catherine', 'trimell', 'perfectly', 'well', 'rank', 'among', 'monster', 'like', 'hannibal', 'lecter', 'intelligent', 'actress', 'afraid', 'taking', 'risk', 'play', 'camp', 'leisure', 'unfortunately', 'seems', 'main', 'target', 'enjoy', 'trashing', 'flick', 'became', 'successful', 'much', 'main', 'icon', 'like', 'actor', 'reached', 'level', 'time', 'arrived', 'bound', 'destroyed', 'hollywood', 'audience', 'rest', 'cast', 'outstanding', 'giving', 'performance', 'far', 'better', 'material', 'deserves', 'david', 'morrissey', 'much', 'better', 'actor', 'far', 'interesting', 'michael', 'douglas', 'acting', 'flawless', 'giving', 'dense', 'complex', 'dimension', 'otherwise', 'one', 'dimensional', 'character', 'since', 'screen', 'time', 'axis', 'movie', 'keep', 'attention', 'beginning', 'end', 'recommending', 'basic', 'instinct', 'great', 'movie', 'expressing', 'disagreement', 'comment', 'site', 'conviction', 'agenda', 'movie', 'shaping', 'opinion', 'spectator']\"\n        ],\n        \"semantic_type\": \"\",\n        \"description\": \"\"\n      }\n    },\n    {\n      \"column\": \"dominant_topic\",\n      \"properties\": {\n        \"dtype\": \"number\",\n        \"std\": 0,\n        \"min\": 0,\n        \"max\": 4,\n        \"num_unique_values\": 5,\n        \"samples\": [\n          3,\n          0\n        ],\n        \"semantic_type\": \"\",\n        \"description\": \"\"\n      }\n    },\n    {\n      \"column\": \"vader_sentiment\",\n      \"properties\": {\n        \"dtype\": \"category\",\n        \"num_unique_values\": 2,\n        \"samples\": [\n          \"positive\",\n          \"negative\"\n        ],\n        \"semantic_type\": \"\",\n        \"description\": \"\"\n      }\n    },\n    {\n      \"column\": \"textblob_sentiment\",\n      \"properties\": {\n        \"dtype\": \"category\",\n        \"num_unique_values\": 2,\n        \"samples\": [\n          \"negative\",\n          \"positive\"\n        ],\n        \"semantic_type\": \"\",\n        \"description\": \"\"\n      }\n    },\n    {\n      \"column\": \"vader_polarity\",\n      \"properties\": {\n        \"dtype\": \"number\",\n        \"std\": 0.7715121231158342,\n        \"min\": -0.9995,\n        \"max\": 0.9998,\n        \"num_unique_values\": 10009,\n        \"samples\": [\n          -0.9753,\n          0.7322\n        ],\n        \"semantic_type\": \"\",\n        \"description\": \"\"\n      }\n    },\n    {\n      \"column\": \"textblob_polarity\",\n      \"properties\": {\n        \"dtype\": \"number\",\n        \"std\": 0.17274992867854153,\n        \"min\": -1.0,\n        \"max\": 1.0,\n        \"num_unique_values\": 35592,\n        \"samples\": [\n          0.1256792058516196,\n          0.1752380952380952\n        ],\n        \"semantic_type\": \"\",\n        \"description\": \"\"\n      }\n    }\n  ]\n}"
            }
          },
          "metadata": {},
          "execution_count": 3
        }
      ]
    },
    {
      "cell_type": "code",
      "source": [
        "# Function to print evaluation metrics\n",
        "def evaluate_model(true_labels, predicted_labels):\n",
        "    accuracy = accuracy_score(true_labels, predicted_labels)\n",
        "    precision = precision_score(true_labels, predicted_labels)\n",
        "    recall = recall_score(true_labels, predicted_labels)\n",
        "    f1 = f1_score(true_labels, predicted_labels)\n",
        "\n",
        "    print(f\"Accuracy: {accuracy:.2f}\")\n",
        "    print(f\"Precision: {precision:.2f}\")\n",
        "    print(f\"Recall: {recall:.2f}\")\n",
        "    print(f\"F1-Score: {f1:.2f}\")"
      ],
      "metadata": {
        "id": "LDpB0vo1HZdU"
      },
      "execution_count": 4,
      "outputs": []
    },
    {
      "cell_type": "markdown",
      "source": [
        "**RoBERTa**"
      ],
      "metadata": {
        "id": "OwSKU8b0ICyW"
      }
    },
    {
      "cell_type": "code",
      "source": [
        "X_roberta = np.load('/content/drive/MyDrive/NLP_Project/X_roberta.npy')\n",
        "print(\"RoBERTa Feature Shape:\", X_roberta.shape)"
      ],
      "metadata": {
        "colab": {
          "base_uri": "https://localhost:8080/"
        },
        "id": "UD_fDxHBH-32",
        "outputId": "ce7002e3-b329-4596-f89b-eab6ba53fbdd"
      },
      "execution_count": 5,
      "outputs": [
        {
          "output_type": "stream",
          "name": "stdout",
          "text": [
            "RoBERTa Feature Shape: (50000, 768)\n"
          ]
        }
      ]
    },
    {
      "cell_type": "code",
      "source": [
        "from sklearn.preprocessing import StandardScaler\n",
        "scaler = StandardScaler()\n",
        "model = scaler.fit(X_roberta)\n",
        "X_roberta = model.transform(X_roberta)"
      ],
      "metadata": {
        "id": "7H-ZGCNM_gou"
      },
      "execution_count": 6,
      "outputs": []
    },
    {
      "cell_type": "code",
      "source": [
        "# Split data into training and testing\n",
        "X_train, X_test, y_train, y_test = train_test_split(X_roberta, df['sentiment_numeric'], test_size=0.2, random_state=42)"
      ],
      "metadata": {
        "id": "3dY04ZbwHqVf"
      },
      "execution_count": 7,
      "outputs": []
    },
    {
      "cell_type": "code",
      "source": [
        "# Train a Logistic Regression model\n",
        "clf_roberta = LogisticRegression(max_iter=1000)\n",
        "clf_roberta.fit(X_train, y_train)\n",
        "print(\"Logistic Regression with RoBERTa:\")\n",
        "evaluate_model(y_test, clf_roberta.predict(X_test))"
      ],
      "metadata": {
        "colab": {
          "base_uri": "https://localhost:8080/"
        },
        "id": "OGGvmfe8HqM5",
        "outputId": "c68721c7-b416-457f-dc23-2827019f202d"
      },
      "execution_count": 25,
      "outputs": [
        {
          "output_type": "stream",
          "name": "stdout",
          "text": [
            "Logistic Regression with RoBERTa:\n",
            "Accuracy: 0.86\n",
            "Precision: 0.87\n",
            "Recall: 0.85\n",
            "F1-Score: 0.86\n"
          ]
        }
      ]
    },
    {
      "cell_type": "code",
      "source": [
        "# Train a Support Vector Machine (SVM)\n",
        "svm_roberta = SVC(kernel='linear')\n",
        "svm_roberta.fit(X_train, y_train)\n",
        "print(\"SVM with RoBERTa:\")\n",
        "evaluate_model(y_test, svm_roberta.predict(X_test))"
      ],
      "metadata": {
        "colab": {
          "base_uri": "https://localhost:8080/"
        },
        "id": "yj0uHDgGIxyH",
        "outputId": "744c9ee4-b7df-4012-cc2a-ee978dda4c89"
      },
      "execution_count": null,
      "outputs": [
        {
          "output_type": "stream",
          "name": "stdout",
          "text": [
            "SVM with RoBERTa:\n",
            "Accuracy: 0.86\n",
            "Precision: 0.86\n",
            "Recall: 0.86\n",
            "F1-Score: 0.86\n"
          ]
        }
      ]
    },
    {
      "cell_type": "code",
      "source": [
        "# Train a RF Classifier\n",
        "rf_roberta = RandomForestClassifier(n_estimators=100)\n",
        "rf_roberta.fit(X_train, y_train)\n",
        "print(\"Random Forest with RoBERTa:\")\n",
        "evaluate_model(y_test, rf_roberta.predict(X_test))"
      ],
      "metadata": {
        "colab": {
          "base_uri": "https://localhost:8080/"
        },
        "id": "hyKh6M_AIGeV",
        "outputId": "0feffb8e-b02e-488a-8e70-a0fce8e76961"
      },
      "execution_count": null,
      "outputs": [
        {
          "output_type": "stream",
          "name": "stdout",
          "text": [
            "Random Forest with RoBERTa:\n",
            "Accuracy: 0.81\n",
            "Precision: 0.81\n",
            "Recall: 0.82\n",
            "F1-Score: 0.81\n"
          ]
        }
      ]
    },
    {
      "cell_type": "code",
      "source": [
        "# LSTM model:\n",
        "lstm_model_roberta = Sequential()\n",
        "lstm_model_roberta.add(Embedding(input_dim=768, output_dim=128))\n",
        "lstm_model_roberta.add(LSTM(units=128, dropout=0.2, recurrent_dropout=0.2))\n",
        "lstm_model_roberta.add(Dense(1, activation='sigmoid'))\n",
        "lstm_model_roberta.compile(optimizer='adam', loss='binary_crossentropy', metrics=['accuracy'])\n",
        "history = lstm_model_roberta.fit(X_train, y_train, epochs=1, batch_size=2048, validation_split=0.2, verbose=1)"
      ],
      "metadata": {
        "colab": {
          "base_uri": "https://localhost:8080/"
        },
        "id": "uWWPMFyUvbVp",
        "outputId": "4d3fb972-0963-415e-ceb9-318ac9a371bd"
      },
      "execution_count": 10,
      "outputs": [
        {
          "output_type": "stream",
          "name": "stdout",
          "text": [
            "\u001b[1m16/16\u001b[0m \u001b[32m━━━━━━━━━━━━━━━━━━━━\u001b[0m\u001b[37m\u001b[0m \u001b[1m19s\u001b[0m 1s/step - accuracy: 0.5025 - loss: 0.6927 - val_accuracy: 0.5565 - val_loss: 0.6881\n"
          ]
        }
      ]
    },
    {
      "cell_type": "code",
      "source": [
        "#  \"Accuracy\"\n",
        "plt.plot(history.history['accuracy'])\n",
        "plt.plot(history.history['val_accuracy'])\n",
        "plt.title('model accuracy')\n",
        "plt.ylabel('accuracy')\n",
        "plt.xlabel('epoch')\n",
        "plt.legend(['train', 'validation'], loc='upper left')\n",
        "plt.show()\n",
        "# \"Loss\"\n",
        "plt.plot(history.history['loss'])\n",
        "plt.plot(history.history['val_loss'])\n",
        "plt.title('model loss')\n",
        "plt.ylabel('loss')\n",
        "plt.xlabel('epoch')\n",
        "plt.legend(['train', 'validation'], loc='upper left')\n",
        "plt.show()"
      ],
      "metadata": {
        "colab": {
          "base_uri": "https://localhost:8080/",
          "height": 927
        },
        "id": "BBvljF59GiF0",
        "outputId": "671420e3-a387-4c21-a609-cccf00b82104"
      },
      "execution_count": 12,
      "outputs": [
        {
          "output_type": "display_data",
          "data": {
            "text/plain": [
              "<Figure size 640x480 with 1 Axes>"
            ],
            "image/png": "[encoded data removed]"
          },
          "metadata": {}
        },
        {
          "output_type": "display_data",
          "data": {
            "text/plain": [
              "<Figure size 640x480 with 1 Axes>"
            ],
            "image/png": "[encoded data removed]"
          },
          "metadata": {}
        }
      ]
    },
    {
      "cell_type": "code",
      "source": [
        "print(\"LSTM with RoBERTa:\")\n",
        "evaluate_model(y_test, lstm_model_roberta.predict(X_test).round())"
      ],
      "metadata": {
        "colab": {
          "base_uri": "https://localhost:8080/"
        },
        "id": "WrtpRbm0DQUL",
        "outputId": "3ee32aef-f9a1-4043-8891-e09466f53fe1"
      },
      "execution_count": 38,
      "outputs": [
        {
          "output_type": "stream",
          "name": "stdout",
          "text": [
            "LSTM with RoBERTa:\n",
            "\u001b[1m313/313\u001b[0m \u001b[32m━━━━━━━━━━━━━━━━━━━━\u001b[0m\u001b[37m\u001b[0m \u001b[1m151s\u001b[0m 482ms/step\n",
            "Accuracy: 0.58\n",
            "Precision: 0.60\n",
            "Recall: 0.51\n",
            "F1-Score: 0.55\n"
          ]
        }
      ]
    },
    {
      "cell_type": "markdown",
      "source": [
        "**DistilBERT**"
      ],
      "metadata": {
        "id": "lZP1ONdbIX7u"
      }
    },
    {
      "cell_type": "code",
      "source": [
        "X_distilbert = np.load('/content/drive/MyDrive/NLP_Project/X_distilbert.npy')\n",
        "print(\"DistilBERT Feature Shape:\", X_distilbert.shape)"
      ],
      "metadata": {
        "id": "-RpViu3VIfJ7",
        "colab": {
          "base_uri": "https://localhost:8080/"
        },
        "outputId": "ef2248b3-9ea3-4564-cf2c-68af7e754212"
      },
      "execution_count": 13,
      "outputs": [
        {
          "output_type": "stream",
          "name": "stdout",
          "text": [
            "DistilBERT Feature Shape: (50000, 768)\n"
          ]
        }
      ]
    },
    {
      "cell_type": "code",
      "source": [
        "scaler = StandardScaler()\n",
        "model = scaler.fit(X_distilbert)\n",
        "X_distilbert = model.transform(X_distilbert)"
      ],
      "metadata": {
        "id": "8xdlv_-sCGZD"
      },
      "execution_count": 14,
      "outputs": []
    },
    {
      "cell_type": "code",
      "source": [
        "# Split data into training and testing\n",
        "X_train, X_test, y_train, y_test = train_test_split(X_distilbert, df['sentiment_numeric'], test_size=0.5, random_state=42)"
      ],
      "metadata": {
        "id": "1ocYkLfwJnGq"
      },
      "execution_count": 15,
      "outputs": []
    },
    {
      "cell_type": "code",
      "source": [
        "# Train a Logistic Regression model\n",
        "clf_distilbert = LogisticRegression(max_iter=1000)\n",
        "clf_distilbert.fit(X_train, y_train)\n",
        "print(\"Logistic Regression with DistilBERT:\")\n",
        "evaluate_model(y_test, clf_distilbert.predict(X_test))"
      ],
      "metadata": {
        "colab": {
          "base_uri": "https://localhost:8080/"
        },
        "id": "KfUfFwMDJo_N",
        "outputId": "c03d39c4-2ccf-4448-9a10-b5be00198dd3"
      },
      "execution_count": null,
      "outputs": [
        {
          "output_type": "stream",
          "name": "stdout",
          "text": [
            "Logistic Regression with DistilBERT:\n",
            "Accuracy: 0.85\n",
            "Precision: 0.85\n",
            "Recall: 0.85\n",
            "F1-Score: 0.85\n"
          ]
        }
      ]
    },
    {
      "cell_type": "code",
      "source": [
        "# Train a Support Vector Machine (SVM)\n",
        "svm_distilbert = SVC(kernel='linear')\n",
        "svm_distilbert.fit(X_train, y_train)\n",
        "print(\"SVM with DistilBERT:\")\n",
        "evaluate_model(y_test, svm_distilbert.predict(X_test))"
      ],
      "metadata": {
        "colab": {
          "base_uri": "https://localhost:8080/"
        },
        "id": "jqJ8vO0FJo70",
        "outputId": "50dd8963-171b-42f2-a14f-15164ced8dbc"
      },
      "execution_count": null,
      "outputs": [
        {
          "output_type": "stream",
          "name": "stdout",
          "text": [
            "SVM with DistilBERT:\n",
            "Accuracy: 0.85\n",
            "Precision: 0.85\n",
            "Recall: 0.85\n",
            "F1-Score: 0.85\n"
          ]
        }
      ]
    },
    {
      "cell_type": "code",
      "source": [
        "# Train a RF Classifier\n",
        "rf_distilbert = RandomForestClassifier(n_estimators=100)\n",
        "rf_distilbert.fit(X_train, y_train)\n",
        "print(\"Random Forest with DistilBERT:\")\n",
        "evaluate_model(y_test, rf_distilbert.predict(X_test))"
      ],
      "metadata": {
        "colab": {
          "base_uri": "https://localhost:8080/"
        },
        "id": "dGNXzxZlJo4u",
        "outputId": "5b1a116c-5cca-4eef-89c8-a5380bfba64c"
      },
      "execution_count": null,
      "outputs": [
        {
          "output_type": "stream",
          "name": "stdout",
          "text": [
            "Random Forest with DistilBERT:\n",
            "Accuracy: 0.79\n",
            "Precision: 0.79\n",
            "Recall: 0.80\n",
            "F1-Score: 0.79\n"
          ]
        }
      ]
    },
    {
      "cell_type": "code",
      "source": [
        "# LSTM model:\n",
        "lstm_model_distilbert = Sequential()\n",
        "lstm_model_distilbert.add(Embedding(input_dim=768, output_dim=128))\n",
        "lstm_model_distilbert.add(LSTM(units=128, dropout=0.2, recurrent_dropout=0.2))\n",
        "lstm_model_distilbert.add(Dense(1, activation='sigmoid'))\n",
        "lstm_model_distilbert.compile(optimizer='adam', loss='binary_crossentropy', metrics=['accuracy'])\n",
        "history = lstm_model_distilbert.fit(X_train, y_train, epochs=1, batch_size=2048, validation_split=0.2, verbose=1)"
      ],
      "metadata": {
        "id": "S3sszdbiJo1E",
        "colab": {
          "base_uri": "https://localhost:8080/"
        },
        "outputId": "a4a95c3b-d4cb-4cc0-baf3-f44331da2c20"
      },
      "execution_count": 17,
      "outputs": [
        {
          "output_type": "stream",
          "name": "stdout",
          "text": [
            "\u001b[1m10/10\u001b[0m \u001b[32m━━━━━━━━━━━━━━━━━━━━\u001b[0m\u001b[37m\u001b[0m \u001b[1m13s\u001b[0m 1s/step - accuracy: 0.5095 - loss: 0.6923 - val_accuracy: 0.5512 - val_loss: 0.6854\n"
          ]
        }
      ]
    },
    {
      "cell_type": "code",
      "source": [
        "#  \"Accuracy\"\n",
        "plt.plot(history.history['accuracy'])\n",
        "plt.plot(history.history['val_accuracy'])\n",
        "plt.title('model accuracy')\n",
        "plt.ylabel('accuracy')\n",
        "plt.xlabel('epoch')\n",
        "plt.legend(['train', 'validation'], loc='upper left')\n",
        "plt.show()\n",
        "# \"Loss\"\n",
        "plt.plot(history.history['loss'])\n",
        "plt.plot(history.history['val_loss'])\n",
        "plt.title('model loss')\n",
        "plt.ylabel('loss')\n",
        "plt.xlabel('epoch')\n",
        "plt.legend(['train', 'validation'], loc='upper left')\n",
        "plt.show()"
      ],
      "metadata": {
        "colab": {
          "base_uri": "https://localhost:8080/",
          "height": 927
        },
        "id": "Jl22RWrKG33w",
        "outputId": "3ec82949-f47b-4af1-a681-0c7e7370f2e0"
      },
      "execution_count": 16,
      "outputs": [
        {
          "output_type": "display_data",
          "data": {
            "text/plain": [
              "<Figure size 640x480 with 1 Axes>"
            ],
            "image/png": "[encoded data removed]"
          },
          "metadata": {}
        },
        {
          "output_type": "display_data",
          "data": {
            "text/plain": [
              "<Figure size 640x480 with 1 Axes>"
            ],
            "image/png": "[encoded data removed]"
          },
          "metadata": {}
        }
      ]
    },
    {
      "cell_type": "code",
      "source": [
        "print(\"LSTM with DistilBERT:\")\n",
        "evaluate_model(y_test, lstm_model_distilbert.predict(X_test).round())"
      ],
      "metadata": {
        "colab": {
          "base_uri": "https://localhost:8080/"
        },
        "id": "brkVeVJIDSL-",
        "outputId": "0b45f4b0-221a-41ae-9e2b-2620dea12d45"
      },
      "execution_count": 18,
      "outputs": [
        {
          "output_type": "stream",
          "name": "stdout",
          "text": [
            "LSTM with DistilBERT:\n",
            "\u001b[1m782/782\u001b[0m \u001b[32m━━━━━━━━━━━━━━━━━━━━\u001b[0m\u001b[37m\u001b[0m \u001b[1m177s\u001b[0m 226ms/step\n",
            "Accuracy: 0.55\n",
            "Precision: 0.59\n",
            "Recall: 0.32\n",
            "F1-Score: 0.41\n"
          ]
        }
      ]
    }
  ],
  "metadata": {
    "kernelspec": {
      "display_name": "Python 3",
      "name": "python3"
    },
    "language_info": {
      "codemirror_mode": {
        "name": "ipython",
        "version": 3
      },
      "file_extension": ".py",
      "mimetype": "text/x-python",
      "name": "python",
      "nbconvert_exporter": "python",
      "pygments_lexer": "ipython3",
      "version": "3.12.2"
    },
    "colab": {
      "provenance": [],
      "gpuType": "A100"
    },
    "accelerator": "GPU"
  },
  "nbformat": 4,
  "nbformat_minor": 0
}