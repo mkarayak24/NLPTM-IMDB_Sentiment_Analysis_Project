{
 "cells": [
  {
   "cell_type": "code",
   "execution_count": 1,
   "metadata": {
    "id": "Rc_QKidSZ97b"
   },
   "outputs": [],
   "source": [
    "import pandas as pd\n",
    "import numpy as np\n",
    "\n",
    "from sklearn.model_selection import train_test_split\n",
    "from sklearn.linear_model import LogisticRegression\n",
    "from sklearn.svm import SVC\n",
    "from sklearn.ensemble import RandomForestClassifier\n",
    "from sklearn.metrics import accuracy_score, precision_score, recall_score, f1_score\n",
    "from sklearn.preprocessing import StandardScaler"
   ]
  },
  {
   "cell_type": "code",
   "execution_count": 2,
   "metadata": {
    "id": "N3XSOBOmhju_"
   },
   "outputs": [],
   "source": [
    "# Load data\n",
    "df = pd.read_csv('IMDB_Dataset_Preprocessed.csv')"
   ]
  },
  {
   "cell_type": "code",
   "execution_count": 3,
   "metadata": {
    "id": "HOwvdJoqX30Y"
   },
   "outputs": [],
   "source": [
    "# Function to print evaluation metrics\n",
    "def evaluate_model(true_labels, predicted_labels):\n",
    "    accuracy = accuracy_score(true_labels, predicted_labels)\n",
    "    precision = precision_score(true_labels, predicted_labels)\n",
    "    recall = recall_score(true_labels, predicted_labels)\n",
    "    f1 = f1_score(true_labels, predicted_labels)\n",
    "\n",
    "    print(f\"Accuracy: {accuracy:.2f}\")\n",
    "    print(f\"Precision: {precision:.2f}\")\n",
    "    print(f\"Recall: {recall:.2f}\")\n",
    "    print(f\"F1-Score: {f1:.2f}\")"
   ]
  },
  {
   "cell_type": "markdown",
   "metadata": {
    "id": "PKDNrKCSv7EC"
   },
   "source": [
    "**RoBERTa**"
   ]
  },
  {
   "cell_type": "code",
   "execution_count": 4,
   "metadata": {
    "colab": {
     "base_uri": "https://localhost:8080/"
    },
    "id": "cHOibnDyhwlY",
    "outputId": "b541dcea-45e6-4464-83c1-2349e306b271"
   },
   "outputs": [
    {
     "name": "stdout",
     "output_type": "stream",
     "text": [
      "RoBERTa Feature Shape: (50000, 768)\n"
     ]
    }
   ],
   "source": [
    "# Loading data and Normalization\n",
    "X_roberta = np.load('X_roberta.npy')\n",
    "print(\"RoBERTa Feature Shape:\", X_roberta.shape)\n",
    "scaler = StandardScaler()\n",
    "model = scaler.fit(X_roberta)\n",
    "X_roberta = model.transform(X_roberta)"
   ]
  },
  {
   "cell_type": "code",
   "execution_count": 5,
   "metadata": {
    "colab": {
     "base_uri": "https://localhost:8080/"
    },
    "id": "uGMjK_BfieJD",
    "outputId": "d5b78679-ebf0-4c1d-892b-ff808e351a3c"
   },
   "outputs": [
    {
     "name": "stdout",
     "output_type": "stream",
     "text": [
      "Train Feature Shape: (25000, 768)\n",
      "Train Labels Shape: (25000,)\n",
      "Test Feature Shape: (25000, 768)\n",
      "Test Labels Shape: (25000,)\n"
     ]
    }
   ],
   "source": [
    "# Prepare Dataset\n",
    "X_train, X_test, y_train, y_test = train_test_split(X_roberta, df['sentiment_numeric'].values, test_size=0.5, random_state=42)\n",
    "print(\"Train Feature Shape:\", X_train.shape)\n",
    "print(\"Train Labels Shape:\", y_train.shape)\n",
    "print(\"Test Feature Shape:\", X_test.shape)\n",
    "print(\"Test Labels Shape:\", y_test.shape)"
   ]
  },
  {
   "cell_type": "code",
   "execution_count": 6,
   "metadata": {
    "colab": {
     "base_uri": "https://localhost:8080/"
    },
    "id": "BbKImTgIYHPV",
    "outputId": "fc4b8f16-b0be-433e-e82a-ca2ec40535ec"
   },
   "outputs": [
    {
     "name": "stdout",
     "output_type": "stream",
     "text": [
      "Logistic Regression with RoBERTa Features:\n",
      "Accuracy: 0.86\n",
      "Precision: 0.86\n",
      "Recall: 0.86\n",
      "F1-Score: 0.86\n"
     ]
    }
   ],
   "source": [
    "# Train a Logistic Regression model\n",
    "clf_roberta= LogisticRegression(max_iter=1000)\n",
    "clf_roberta.fit(X_train, y_train)\n",
    "print(\"Logistic Regression with RoBERTa Features:\")\n",
    "evaluate_model(y_test, clf_roberta.predict(X_test))"
   ]
  },
  {
   "cell_type": "code",
   "execution_count": 7,
   "metadata": {
    "id": "PiJ5cWTbzYcr"
   },
   "outputs": [
    {
     "name": "stdout",
     "output_type": "stream",
     "text": [
      "SVM with with RoBERTa Features:\n",
      "Accuracy: 0.86\n",
      "Precision: 0.86\n",
      "Recall: 0.86\n",
      "F1-Score: 0.86\n"
     ]
    }
   ],
   "source": [
    "# Train a Support Vector Machine (SVM)\n",
    "svm_roberta = SVC(kernel='linear')\n",
    "svm_roberta.fit(X_train, y_train)\n",
    "print(\"SVM with with RoBERTa Features:\")\n",
    "evaluate_model(y_test, svm_roberta.predict(X_test))"
   ]
  },
  {
   "cell_type": "code",
   "execution_count": 8,
   "metadata": {
    "colab": {
     "base_uri": "https://localhost:8080/"
    },
    "id": "cDA7PKsJYP8Q",
    "outputId": "bb20b393-df29-4323-d83d-5e33121a1c05"
   },
   "outputs": [
    {
     "name": "stdout",
     "output_type": "stream",
     "text": [
      "Random Forest with RoBERTa Features::\n",
      "Accuracy: 0.81\n",
      "Precision: 0.80\n",
      "Recall: 0.82\n",
      "F1-Score: 0.81\n"
     ]
    }
   ],
   "source": [
    "# Train a RF Classifier\n",
    "rf_roberta = RandomForestClassifier(n_estimators=100)\n",
    "rf_roberta.fit(X_train, y_train)\n",
    "print(\"Random Forest with RoBERTa Features::\")\n",
    "evaluate_model(y_test, rf_roberta.predict(X_test))"
   ]
  },
  {
   "cell_type": "markdown",
   "metadata": {
    "id": "evR-fo9MvzUB"
   },
   "source": [
    "**DistilBERT**"
   ]
  },
  {
   "cell_type": "code",
   "execution_count": 9,
   "metadata": {
    "id": "XC5eLCZMw36-"
   },
   "outputs": [
    {
     "name": "stdout",
     "output_type": "stream",
     "text": [
      "DistilBERT Feature Shape: (50000, 768)\n"
     ]
    }
   ],
   "source": [
    "# Loading data and Normalization\n",
    "X_distilbert = np.load('X_distilbert.npy')\n",
    "print(\"DistilBERT Feature Shape:\", X_distilbert.shape)\n",
    "scaler = StandardScaler()\n",
    "model = scaler.fit(X_distilbert)\n",
    "X_distilbert = model.transform(X_distilbert)"
   ]
  },
  {
   "cell_type": "code",
   "execution_count": 10,
   "metadata": {
    "id": "lgdwctP4uAR4"
   },
   "outputs": [
    {
     "name": "stdout",
     "output_type": "stream",
     "text": [
      "Train Feature Shape: (25000, 768)\n",
      "Train Labels Shape: (25000,)\n",
      "Test Feature Shape: (25000, 768)\n",
      "Test Labels Shape: (25000,)\n"
     ]
    }
   ],
   "source": [
    "# Prepare Dataset\n",
    "X_train, X_test, y_train, y_test = train_test_split(X_distilbert, df['sentiment_numeric'].values, test_size=0.5, random_state=42)\n",
    "print(\"Train Feature Shape:\", X_train.shape)\n",
    "print(\"Train Labels Shape:\", y_train.shape)\n",
    "print(\"Test Feature Shape:\", X_test.shape)\n",
    "print(\"Test Labels Shape:\", y_test.shape)"
   ]
  },
  {
   "cell_type": "code",
   "execution_count": 11,
   "metadata": {
    "colab": {
     "base_uri": "https://localhost:8080/"
    },
    "id": "MClAwOB8zbDP",
    "outputId": "a187d433-31d0-495f-f120-e066ef6c6e76"
   },
   "outputs": [
    {
     "name": "stdout",
     "output_type": "stream",
     "text": [
      "Logistic Regression with DistilBERT Features:\n",
      "Accuracy: 0.85\n",
      "Precision: 0.85\n",
      "Recall: 0.85\n",
      "F1-Score: 0.85\n"
     ]
    }
   ],
   "source": [
    "# Train a Logistic Regression model\n",
    "clf_distilbert = LogisticRegression(max_iter=1000)\n",
    "clf_distilbert.fit(X_train, y_train)\n",
    "print(\"Logistic Regression with DistilBERT Features:\")\n",
    "evaluate_model(y_test, clf_distilbert.predict(X_test))"
   ]
  },
  {
   "cell_type": "code",
   "execution_count": 12,
   "metadata": {
    "id": "TNzoxig8Yl-2"
   },
   "outputs": [
    {
     "name": "stdout",
     "output_type": "stream",
     "text": [
      "SVM with with DistilBERT Features:\n",
      "Accuracy: 0.85\n",
      "Precision: 0.85\n",
      "Recall: 0.84\n",
      "F1-Score: 0.85\n"
     ]
    }
   ],
   "source": [
    "# Train a Support Vector Machine (SVM)\n",
    "svm_distilbert = SVC(kernel='linear')\n",
    "svm_distilbert.fit(X_train, y_train)\n",
    "print(\"SVM with with DistilBERT Features:\")\n",
    "evaluate_model(y_test, svm_distilbert.predict(X_test))"
   ]
  },
  {
   "cell_type": "code",
   "execution_count": 13,
   "metadata": {
    "colab": {
     "base_uri": "https://localhost:8080/"
    },
    "id": "RrmDGjJeYpAe",
    "outputId": "6910e1b2-fa75-4245-ce07-b2980b89df2b"
   },
   "outputs": [
    {
     "name": "stdout",
     "output_type": "stream",
     "text": [
      "Random Forest with DistilBERT Features::\n",
      "Accuracy: 0.79\n",
      "Precision: 0.79\n",
      "Recall: 0.80\n",
      "F1-Score: 0.79\n"
     ]
    }
   ],
   "source": [
    "# Train a RF Classifier\n",
    "rf_distilbert= RandomForestClassifier(n_estimators=100)\n",
    "rf_distilbert.fit(X_train, y_train)\n",
    "print(\"Random Forest with DistilBERT Features::\")\n",
    "evaluate_model(y_test, rf_distilbert.predict(X_test))"
   ]
  }
 ],
 "metadata": {
  "accelerator": "TPU",
  "colab": {
   "gpuType": "V28",
   "provenance": []
  },
  "kernelspec": {
   "display_name": "nlp",
   "language": "python",
   "name": "python3"
  },
  "language_info": {
   "codemirror_mode": {
    "name": "ipython",
    "version": 3
   },
   "file_extension": ".py",
   "mimetype": "text/x-python",
   "name": "python",
   "nbconvert_exporter": "python",
   "pygments_lexer": "ipython3",
   "version": "3.12.2"
  }
 },
 "nbformat": 4,
 "nbformat_minor": 0
}
