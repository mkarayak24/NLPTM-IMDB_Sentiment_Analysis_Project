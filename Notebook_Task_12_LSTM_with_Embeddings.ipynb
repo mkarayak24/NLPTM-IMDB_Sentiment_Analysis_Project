{
 "cells": [
  {
   "cell_type": "code",
   "execution_count": 17,
   "metadata": {
    "id": "Rc_QKidSZ97b"
   },
   "outputs": [],
   "source": [
    "import torch\n",
    "import torch.nn as nn\n",
    "import torch.optim as optim\n",
    "import matplotlib.pyplot as plt\n",
    "import numpy as np\n",
    "import pandas as pd\n",
    "import seaborn as sns\n",
    "\n",
    "from sklearn.model_selection import train_test_split\n",
    "from sklearn.metrics import accuracy_score, precision_score, recall_score, f1_score\n",
    "from torch.utils.data import Dataset, DataLoader\n",
    "from sklearn.preprocessing import StandardScaler\n",
    "from sklearn.metrics import confusion_matrix"
   ]
  },
  {
   "cell_type": "code",
   "execution_count": 18,
   "metadata": {
    "colab": {
     "base_uri": "https://localhost:8080/"
    },
    "id": "IdPebWh0henk",
    "outputId": "771a7dbf-f142-4438-d1e8-395d093a1969"
   },
   "outputs": [
    {
     "name": "stdout",
     "output_type": "stream",
     "text": [
      "Drive already mounted at /content/drive; to attempt to forcibly remount, call drive.mount(\"/content/drive\", force_remount=True).\n"
     ]
    }
   ],
   "source": [
    "# Mounting Google Drive to access files stored in Google Colab\n",
    "from google.colab import drive\n",
    "drive.mount('/content/drive')"
   ]
  },
  {
   "cell_type": "code",
   "execution_count": 19,
   "metadata": {
    "id": "N3XSOBOmhju_"
   },
   "outputs": [],
   "source": [
    "# Load data\n",
    "df = pd.read_csv('/content/drive/MyDrive/NLP_Project/IMDB_Dataset_Preprocessed.csv')"
   ]
  },
  {
   "cell_type": "code",
   "execution_count": 20,
   "metadata": {
    "colab": {
     "base_uri": "https://localhost:8080/"
    },
    "id": "ADePLt4IZ_Vv",
    "outputId": "370e87e7-4424-495d-9c42-c6842e4b8dbe"
   },
   "outputs": [
    {
     "name": "stdout",
     "output_type": "stream",
     "text": [
      "Using device: cuda\n"
     ]
    }
   ],
   "source": [
    "# Check for CUDA\n",
    "device = torch.device(\"cuda\" if torch.cuda.is_available() else \"cpu\")\n",
    "print(f\"Using device: {device}\")"
   ]
  },
  {
   "cell_type": "code",
   "execution_count": 21,
   "metadata": {
    "id": "P57joGt7aCSd"
   },
   "outputs": [],
   "source": [
    "# 1. Define Custom Dataset Class\n",
    "class NumpyDataset(Dataset):\n",
    "    def __init__(self, features, targets):\n",
    "        self.features = features\n",
    "        self.targets = targets\n",
    "\n",
    "    def __len__(self):\n",
    "        return len(self.features)\n",
    "\n",
    "    def __getitem__(self, idx):\n",
    "        x = self.features[idx]\n",
    "        y = self.targets[idx]\n",
    "        x = torch.tensor(x, dtype=torch.float32)\n",
    "        y = torch.tensor(y, dtype=torch.float32)\n",
    "        return x, y\n",
    "\n",
    "# 2. Define LSTM Model Class\n",
    "class LSTMNetwork(nn.Module):\n",
    "    def __init__(self, input_size, hidden_size, num_layers, output_size):\n",
    "        super(LSTMNetwork, self).__init__()\n",
    "        self.hidden_size = hidden_size\n",
    "        self.num_layers = num_layers\n",
    "        self.lstm = nn.LSTM(input_size, hidden_size, num_layers, batch_first=True)\n",
    "        self.fc = nn.Linear(hidden_size, output_size)\n",
    "\n",
    "    def forward(self, x):\n",
    "        h0 = torch.zeros(self.num_layers, x.size(0), self.hidden_size).to(x.device)\n",
    "        c0 = torch.zeros(self.num_layers, x.size(0), self.hidden_size).to(x.device)\n",
    "        out, _ = self.lstm(x.unsqueeze(1), (h0, c0))\n",
    "        out = self.fc(out[:, -1, :])\n",
    "        out = torch.sigmoid(out)\n",
    "        return out\n",
    "\n",
    "# 3. Training Loop\n",
    "def train_model(model, train_loader, criterion, optimizer, num_epochs):\n",
    "    for epoch in range(num_epochs):\n",
    "        model.train()\n",
    "        for inputs, targets in train_loader:\n",
    "            inputs, targets = inputs.to(device), targets.to(device).view(-1, 1)\n",
    "            optimizer.zero_grad()\n",
    "            outputs = model(inputs)\n",
    "            loss = criterion(outputs, targets)\n",
    "            loss.backward()\n",
    "            optimizer.step()\n",
    "        print(f'Epoch [{epoch + 1}/{num_epochs}], Loss: {loss.item():.8f}')\n",
    "\n",
    "# 4. Create Test Function\n",
    "def test_model(model, data_loader):\n",
    "    model.eval()\n",
    "    all_preds = []\n",
    "    all_targets = []\n",
    "    with torch.no_grad():\n",
    "        for inputs, targets in test_loader:\n",
    "            inputs, targets = inputs.to(device), targets.to(device).view(-1, 1)\n",
    "            outputs = model(inputs)\n",
    "            all_preds.append(outputs.cpu().numpy())\n",
    "            all_targets.append(targets.cpu().numpy())\n",
    "    all_preds = np.concatenate(all_preds).flatten().round()\n",
    "    all_targets = np.concatenate(all_targets).flatten()\n",
    "    return all_targets, all_preds\n",
    "\n",
    "# 5. Create Evaluation Function\n",
    "def evaluate_model(true_labels, predicted_labels):\n",
    "    accuracy = accuracy_score(true_labels, predicted_labels)\n",
    "    precision = precision_score(true_labels, predicted_labels)\n",
    "    recall = recall_score(true_labels, predicted_labels)\n",
    "    f1 = f1_score(true_labels, predicted_labels)\n",
    "\n",
    "    print(f\"Accuracy: {accuracy:.2f}\")\n",
    "    print(f\"Precision: {precision:.2f}\")\n",
    "    print(f\"Recall: {recall:.2f}\")\n",
    "    print(f\"F1-Score: {f1:.2f}\")"
   ]
  },
  {
   "cell_type": "code",
   "execution_count": 22,
   "metadata": {
    "id": "zCOVCDAhwGPd"
   },
   "outputs": [],
   "source": [
    "# Define Training Parameters\n",
    "input_size = 768  # Number of features\n",
    "hidden_size = 128  # Example hidden layer size\n",
    "num_layers = 2 # Number of LSTM layers\n",
    "output_size = 1 # Output size (single scalar value)\n",
    "batch_size = 256 # Define Batch Size\n",
    "num_epochs = 10 # Number of epochs"
   ]
  },
  {
   "cell_type": "markdown",
   "metadata": {
    "id": "PKDNrKCSv7EC"
   },
   "source": [
    "**RoBERTa**"
   ]
  },
  {
   "cell_type": "code",
   "execution_count": 23,
   "metadata": {
    "colab": {
     "base_uri": "https://localhost:8080/"
    },
    "id": "cHOibnDyhwlY",
    "outputId": "062138eb-63f8-44ef-9de7-bb55a8c6f414"
   },
   "outputs": [
    {
     "name": "stdout",
     "output_type": "stream",
     "text": [
      "RoBERTa Feature Shape: (50000, 768)\n"
     ]
    }
   ],
   "source": [
    "# Loading data and Normalization\n",
    "X_roberta = np.load('/content/drive/MyDrive/NLP_Project/X_roberta.npy')\n",
    "print(\"RoBERTa Feature Shape:\", X_roberta.shape)\n",
    "scaler = StandardScaler()\n",
    "model = scaler.fit(X_roberta)\n",
    "X_roberta = model.transform(X_roberta)"
   ]
  },
  {
   "cell_type": "code",
   "execution_count": 24,
   "metadata": {
    "colab": {
     "base_uri": "https://localhost:8080/"
    },
    "id": "uGMjK_BfieJD",
    "outputId": "d41fb304-f048-4bf5-cf04-897f3ff3301a"
   },
   "outputs": [
    {
     "name": "stdout",
     "output_type": "stream",
     "text": [
      "Train Feature Shape: (25000, 768)\n",
      "Train Labels Shape: (25000,)\n",
      "Test Feature Shape: (25000, 768)\n",
      "Test Labels Shape: (25000,)\n"
     ]
    }
   ],
   "source": [
    "# Prepare Dataset\n",
    "X_train, X_test, y_train, y_test = train_test_split(X_roberta, df['sentiment_numeric'].values, test_size=0.5, random_state=42)\n",
    "print(\"Train Feature Shape:\", X_train.shape)\n",
    "print(\"Train Labels Shape:\", y_train.shape)\n",
    "print(\"Test Feature Shape:\", X_test.shape)\n",
    "print(\"Test Labels Shape:\", y_test.shape)\n",
    "train_dataset = NumpyDataset(X_train, y_train)\n",
    "test_dataset = NumpyDataset(X_test, y_test)"
   ]
  },
  {
   "cell_type": "code",
   "execution_count": 25,
   "metadata": {
    "colab": {
     "base_uri": "https://localhost:8080/"
    },
    "id": "rhVPMDYDwwA4",
    "outputId": "a4d956cb-cb7b-4dcb-c360-0b08b1f417d4"
   },
   "outputs": [
    {
     "name": "stdout",
     "output_type": "stream",
     "text": [
      "Epoch [1/10], Loss: 0.08589511\n",
      "Epoch [2/10], Loss: 0.05976142\n",
      "Epoch [3/10], Loss: 0.07284470\n",
      "Epoch [4/10], Loss: 0.04663409\n",
      "Epoch [5/10], Loss: 0.02386037\n",
      "Epoch [6/10], Loss: 0.02932696\n",
      "Epoch [7/10], Loss: 0.03043082\n",
      "Epoch [8/10], Loss: 0.01165925\n",
      "Epoch [9/10], Loss: 0.02145613\n",
      "Epoch [10/10], Loss: 0.01622243\n"
     ]
    }
   ],
   "source": [
    "# Prepare DataLoader\n",
    "train_loader = DataLoader(dataset=train_dataset, batch_size=batch_size, shuffle=True)\n",
    "test_loader = DataLoader(dataset=test_dataset, batch_size=batch_size, shuffle=False)\n",
    "# Instantiate Model, Define Loss and Optimizer\n",
    "model = LSTMNetwork(input_size, hidden_size, num_layers, output_size)\n",
    "model = model.to(device)\n",
    "criterion = nn.MSELoss()\n",
    "optimizer = optim.Adam(model.parameters(), lr=0.001)\n",
    "# Run Training Loops\n",
    "train_model(model, train_loader, criterion, optimizer, num_epochs)"
   ]
  },
  {
   "cell_type": "code",
   "execution_count": 26,
   "metadata": {
    "colab": {
     "base_uri": "https://localhost:8080/",
     "height": 561
    },
    "id": "PiJ5cWTbzYcr",
    "outputId": "139ad0b7-eb1d-485e-c244-6c04dfc5aed0"
   },
   "outputs": [
    {
     "name": "stdout",
     "output_type": "stream",
     "text": [
      "LSTM with RoBERTa Features:\n",
      "Accuracy: 0.85\n",
      "Precision: 0.84\n",
      "Recall: 0.86\n",
      "F1-Score: 0.85\n"
     ]
    },
    {
     "data": {
      "image/png": "[encoded data removed]",
      "text/plain": [
       "<Figure size 640x480 with 2 Axes>"
      ]
     },
     "metadata": {},
     "output_type": "display_data"
    }
   ],
   "source": [
    "# Run Test\n",
    "y_test, y_pre = test_model(model, test_loader)\n",
    "print(\"LSTM with RoBERTa Features:\")\n",
    "evaluate_model(y_test, y_pre)\n",
    "# Confusion matrix\n",
    "textblob_cm = confusion_matrix(y_test, y_pre, labels=[0, 1])\n",
    "sns.heatmap(textblob_cm, annot=True, fmt='d', cmap='Greens', xticklabels=['positive', 'negative'], yticklabels=['positive', 'negative'])\n",
    "plt.title(\"LSTM with Embeddings from RoBERTa Confusion Matrix\")\n",
    "plt.xlabel(\"Predicted\")\n",
    "plt.ylabel(\"Actual\")\n",
    "plt.show()"
   ]
  },
  {
   "cell_type": "markdown",
   "metadata": {
    "id": "evR-fo9MvzUB"
   },
   "source": [
    "**DistilBERT**"
   ]
  },
  {
   "cell_type": "code",
   "execution_count": 27,
   "metadata": {
    "colab": {
     "base_uri": "https://localhost:8080/"
    },
    "id": "XC5eLCZMw36-",
    "outputId": "557fd612-8adb-4cba-aa23-6fc35c124aa8"
   },
   "outputs": [
    {
     "name": "stdout",
     "output_type": "stream",
     "text": [
      "DistilBERT Feature Shape: (50000, 768)\n"
     ]
    }
   ],
   "source": [
    "# Loading data and Normalization\n",
    "X_distilbert = np.load('/content/drive/MyDrive/NLP_Project/X_distilbert.npy')\n",
    "print(\"DistilBERT Feature Shape:\", X_distilbert.shape)\n",
    "scaler = StandardScaler()\n",
    "model = scaler.fit(X_distilbert)\n",
    "X_distilbert = model.transform(X_distilbert)"
   ]
  },
  {
   "cell_type": "code",
   "execution_count": 28,
   "metadata": {
    "colab": {
     "base_uri": "https://localhost:8080/"
    },
    "id": "lgdwctP4uAR4",
    "outputId": "007823d9-1e6c-475a-cb94-307f3bfee939"
   },
   "outputs": [
    {
     "name": "stdout",
     "output_type": "stream",
     "text": [
      "Train Feature Shape: (25000, 768)\n",
      "Train Labels Shape: (25000,)\n",
      "Test Feature Shape: (25000, 768)\n",
      "Test Labels Shape: (25000,)\n"
     ]
    }
   ],
   "source": [
    "# Prepare Dataset\n",
    "X_train, X_test, y_train, y_test = train_test_split(X_distilbert, df['sentiment_numeric'].values, test_size=0.5, random_state=42)\n",
    "print(\"Train Feature Shape:\", X_train.shape)\n",
    "print(\"Train Labels Shape:\", y_train.shape)\n",
    "print(\"Test Feature Shape:\", X_test.shape)\n",
    "print(\"Test Labels Shape:\", y_test.shape)\n",
    "train_dataset = NumpyDataset(X_train, y_train)\n",
    "test_dataset = NumpyDataset(X_test, y_test)"
   ]
  },
  {
   "cell_type": "code",
   "execution_count": 29,
   "metadata": {
    "colab": {
     "base_uri": "https://localhost:8080/"
    },
    "id": "lQdxKm7MwQQm",
    "outputId": "2c921e16-9542-4c56-9f6e-0d2fb6d09855"
   },
   "outputs": [
    {
     "name": "stdout",
     "output_type": "stream",
     "text": [
      "Epoch [1/10], Loss: 0.12408202\n",
      "Epoch [2/10], Loss: 0.11048902\n",
      "Epoch [3/10], Loss: 0.09373505\n",
      "Epoch [4/10], Loss: 0.05490085\n",
      "Epoch [5/10], Loss: 0.04311466\n",
      "Epoch [6/10], Loss: 0.03753021\n",
      "Epoch [7/10], Loss: 0.04913709\n",
      "Epoch [8/10], Loss: 0.03979946\n",
      "Epoch [9/10], Loss: 0.03274050\n",
      "Epoch [10/10], Loss: 0.03252877\n"
     ]
    }
   ],
   "source": [
    "# Prepare DataLoader\n",
    "train_loader = DataLoader(dataset=train_dataset, batch_size=batch_size, shuffle=True)\n",
    "test_loader = DataLoader(dataset=test_dataset, batch_size=batch_size, shuffle=False)\n",
    "# Instantiate Model, Define Loss and Optimizer\n",
    "model = LSTMNetwork(input_size, hidden_size, num_layers, output_size)\n",
    "model = model.to(device)\n",
    "criterion = nn.MSELoss()\n",
    "optimizer = optim.Adam(model.parameters(), lr=0.001)\n",
    "# Run Training Loops\n",
    "train_model(model, train_loader, criterion, optimizer, num_epochs)"
   ]
  },
  {
   "cell_type": "code",
   "execution_count": 30,
   "metadata": {
    "colab": {
     "base_uri": "https://localhost:8080/",
     "height": 561
    },
    "id": "MClAwOB8zbDP",
    "outputId": "fa35c59b-ec83-487a-b496-8cb708fcc917"
   },
   "outputs": [
    {
     "name": "stdout",
     "output_type": "stream",
     "text": [
      "LSTM with DistilBERT Features:\n",
      "Accuracy: 0.83\n",
      "Precision: 0.80\n",
      "Recall: 0.87\n",
      "F1-Score: 0.84\n"
     ]
    },
    {
     "data": {
      "image/png": "[encoded data removed]",
      "text/plain": [
       "<Figure size 640x480 with 2 Axes>"
      ]
     },
     "metadata": {},
     "output_type": "display_data"
    }
   ],
   "source": [
    "# Run Test\n",
    "y_test, y_pre = test_model(model, test_loader)\n",
    "print(\"LSTM with DistilBERT Features:\")\n",
    "evaluate_model(y_test, y_pre)\n",
    "# Confusion matrix\n",
    "textblob_cm = confusion_matrix(y_test, y_pre, labels=[0, 1])\n",
    "sns.heatmap(textblob_cm, annot=True, fmt='d', cmap='Greens', xticklabels=['positive', 'negative'], yticklabels=['positive', 'negative'])\n",
    "plt.title(\"LSTM with Embeddings from DistilBERT Confusion Matrix\")\n",
    "plt.xlabel(\"Predicted\")\n",
    "plt.ylabel(\"Actual\")\n",
    "plt.show()"
   ]
  }
 ],
 "metadata": {
  "accelerator": "GPU",
  "colab": {
   "gpuType": "T4",
   "provenance": []
  },
  "kernelspec": {
   "display_name": "Python 3",
   "name": "python3"
  },
  "language_info": {
   "name": "python"
  }
 },
 "nbformat": 4,
 "nbformat_minor": 0
}
