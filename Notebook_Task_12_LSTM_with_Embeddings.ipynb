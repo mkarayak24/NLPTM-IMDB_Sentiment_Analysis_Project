{
 "cells": [
  {
   "cell_type": "code",
   "execution_count": 1,
   "metadata": {
    "id": "Rc_QKidSZ97b"
   },
   "outputs": [],
   "source": [
    "import torch\n",
    "import torch.nn as nn\n",
    "import torch.optim as optim\n",
    "import matplotlib.pyplot as plt\n",
    "import numpy as np\n",
    "import pandas as pd\n",
    "import seaborn as sns\n",
    "\n",
    "from sklearn.model_selection import train_test_split\n",
    "from sklearn.metrics import accuracy_score, precision_score, recall_score, f1_score\n",
    "from torch.utils.data import Dataset, DataLoader\n",
    "from sklearn.preprocessing import StandardScaler\n",
    "from sklearn.metrics import confusion_matrix"
   ]
  },
  {
   "cell_type": "code",
   "execution_count": 2,
   "metadata": {
    "colab": {
     "base_uri": "https://localhost:8080/"
    },
    "id": "IdPebWh0henk",
    "outputId": "acd0c500-5677-4ed5-8e35-b265b5d615da"
   },
   "outputs": [
    {
     "name": "stdout",
     "output_type": "stream",
     "text": [
      "Mounted at /content/drive\n"
     ]
    }
   ],
   "source": [
    "# Mounting Google Drive to access files stored in Google Colab\n",
    "from google.colab import drive\n",
    "drive.mount('/content/drive')"
   ]
  },
  {
   "cell_type": "code",
   "execution_count": 3,
   "metadata": {
    "id": "N3XSOBOmhju_"
   },
   "outputs": [],
   "source": [
    "# Load data\n",
    "df = pd.read_csv('/content/drive/MyDrive/NLP_Project/IMDB_Dataset_Preprocessed.csv')"
   ]
  },
  {
   "cell_type": "code",
   "execution_count": 4,
   "metadata": {
    "colab": {
     "base_uri": "https://localhost:8080/"
    },
    "id": "ADePLt4IZ_Vv",
    "outputId": "ad31f859-a28d-42b6-f1cf-8c5595a5e3fa"
   },
   "outputs": [
    {
     "name": "stdout",
     "output_type": "stream",
     "text": [
      "Using device: cuda\n"
     ]
    }
   ],
   "source": [
    "# Check for CUDA\n",
    "device = torch.device(\"cuda\" if torch.cuda.is_available() else \"cpu\")\n",
    "print(f\"Using device: {device}\")"
   ]
  },
  {
   "cell_type": "code",
   "execution_count": 5,
   "metadata": {
    "id": "P57joGt7aCSd"
   },
   "outputs": [],
   "source": [
    "# 1. Define Custom Dataset Class\n",
    "class NumpyDataset(Dataset):\n",
    "    def __init__(self, features, targets):\n",
    "        self.features = features\n",
    "        self.targets = targets\n",
    "\n",
    "    def __len__(self):\n",
    "        return len(self.features)\n",
    "\n",
    "    def __getitem__(self, idx):\n",
    "        x = self.features[idx]\n",
    "        y = self.targets[idx]\n",
    "        x = torch.tensor(x, dtype=torch.float32)\n",
    "        y = torch.tensor(y, dtype=torch.float32)\n",
    "        return x, y\n",
    "\n",
    "# 2. Define LSTM Model Class\n",
    "class LSTMNetwork(nn.Module):\n",
    "    def __init__(self, input_size, hidden_size, num_layers, output_size):\n",
    "        super(LSTMNetwork, self).__init__()\n",
    "        self.hidden_size = hidden_size\n",
    "        self.num_layers = num_layers\n",
    "        self.lstm = nn.LSTM(input_size, hidden_size, num_layers, batch_first=True)\n",
    "        self.fc = nn.Linear(hidden_size, output_size)\n",
    "\n",
    "    def forward(self, x):\n",
    "        h0 = torch.zeros(self.num_layers, x.size(0), self.hidden_size).to(x.device)\n",
    "        c0 = torch.zeros(self.num_layers, x.size(0), self.hidden_size).to(x.device)\n",
    "        out, _ = self.lstm(x.unsqueeze(1), (h0, c0))\n",
    "        out = self.fc(out[:, -1, :])\n",
    "        return out\n",
    "\n",
    "# 3. Training Loop\n",
    "def train_model(model, train_loader, criterion, optimizer, num_epochs):\n",
    "    for epoch in range(num_epochs):\n",
    "        model.train()\n",
    "        for inputs, targets in train_loader:\n",
    "            inputs, targets = inputs.to(device), targets.to(device).view(-1, 1)\n",
    "            optimizer.zero_grad()\n",
    "            outputs = model(inputs)\n",
    "            loss = criterion(outputs, targets)\n",
    "            loss.backward()\n",
    "            optimizer.step()\n",
    "        print(f'Epoch [{epoch + 1}/{num_epochs}], Loss: {loss.item():.4f}')\n",
    "\n",
    "# 4. Create Test Function\n",
    "def test_model(model, data_loader):\n",
    "    model.eval()\n",
    "    all_preds = []\n",
    "    all_targets = []\n",
    "    with torch.no_grad():\n",
    "        for inputs, targets in test_loader:\n",
    "            inputs, targets = inputs.to(device), targets.to(device).view(-1, 1)\n",
    "            outputs = model(inputs)\n",
    "            all_preds.append(outputs.cpu().numpy())\n",
    "            all_targets.append(targets.cpu().numpy())\n",
    "    all_preds = np.concatenate(all_preds).flatten().round()\n",
    "    all_targets = np.concatenate(all_targets).flatten()\n",
    "    return all_targets, all_preds\n",
    "\n",
    "# 5. Create Evaluation Function\n",
    "def evaluate_model(true_labels, predicted_labels):\n",
    "    accuracy = accuracy_score(true_labels, predicted_labels)\n",
    "    precision = precision_score(true_labels, predicted_labels)\n",
    "    recall = recall_score(true_labels, predicted_labels)\n",
    "    f1 = f1_score(true_labels, predicted_labels)\n",
    "\n",
    "    print(f\"Accuracy: {accuracy:.2f}\")\n",
    "    print(f\"Precision: {precision:.2f}\")\n",
    "    print(f\"Recall: {recall:.2f}\")\n",
    "    print(f\"F1-Score: {f1:.2f}\")"
   ]
  },
  {
   "cell_type": "code",
   "execution_count": 6,
   "metadata": {
    "id": "zCOVCDAhwGPd"
   },
   "outputs": [],
   "source": [
    "# Define Training Parameters\n",
    "input_size = 768  # Number of features\n",
    "hidden_size = 128  # Example hidden layer size\n",
    "num_layers = 2 # Number of LSTM layers\n",
    "output_size = 1 # Output size (single scalar value)\n",
    "batch_size = 32 # Define Batch Size\n",
    "num_epochs = 50 # Number of epochs"
   ]
  },
  {
   "cell_type": "markdown",
   "metadata": {
    "id": "PKDNrKCSv7EC"
   },
   "source": [
    "**RoBERTa**"
   ]
  },
  {
   "cell_type": "code",
   "execution_count": 7,
   "metadata": {
    "colab": {
     "base_uri": "https://localhost:8080/"
    },
    "id": "cHOibnDyhwlY",
    "outputId": "50d107fa-d2c1-447b-fc43-f5e670235fc9"
   },
   "outputs": [
    {
     "name": "stdout",
     "output_type": "stream",
     "text": [
      "RoBERTa Feature Shape: (50000, 768)\n"
     ]
    }
   ],
   "source": [
    "# Loading data and Normalization\n",
    "X_roberta = np.load('/content/drive/MyDrive/NLP_Project/X_roberta.npy')\n",
    "print(\"RoBERTa Feature Shape:\", X_roberta.shape)\n",
    "scaler = StandardScaler()\n",
    "model = scaler.fit(X_roberta)\n",
    "X_roberta = model.transform(X_roberta)"
   ]
  },
  {
   "cell_type": "code",
   "execution_count": 8,
   "metadata": {
    "colab": {
     "base_uri": "https://localhost:8080/"
    },
    "id": "uGMjK_BfieJD",
    "outputId": "4f18f4e9-9a92-48f9-89d3-ef1b910ee796"
   },
   "outputs": [
    {
     "name": "stdout",
     "output_type": "stream",
     "text": [
      "Train Feature Shape: (25000, 768)\n",
      "Train Labels Shape: (25000,)\n",
      "Test Feature Shape: (25000, 768)\n",
      "Test Labels Shape: (25000,)\n"
     ]
    }
   ],
   "source": [
    "# Prepare Dataset\n",
    "X_train, X_test, y_train, y_test = train_test_split(X_roberta, df['sentiment_numeric'].values, test_size=0.5, random_state=42)\n",
    "print(\"Train Feature Shape:\", X_train.shape)\n",
    "print(\"Train Labels Shape:\", y_train.shape)\n",
    "print(\"Test Feature Shape:\", X_test.shape)\n",
    "print(\"Test Labels Shape:\", y_test.shape)\n",
    "train_dataset = NumpyDataset(X_train, y_train)\n",
    "test_dataset = NumpyDataset(X_test, y_test)"
   ]
  },
  {
   "cell_type": "code",
   "execution_count": 9,
   "metadata": {
    "colab": {
     "base_uri": "https://localhost:8080/"
    },
    "id": "rhVPMDYDwwA4",
    "outputId": "02e5adf9-c3ab-40d3-e27c-eacb735ef7bb"
   },
   "outputs": [
    {
     "name": "stdout",
     "output_type": "stream",
     "text": [
      "Epoch [1/50], Loss: 0.1548\n",
      "Epoch [2/50], Loss: 0.0835\n",
      "Epoch [3/50], Loss: 0.0276\n",
      "Epoch [4/50], Loss: 0.0744\n",
      "Epoch [5/50], Loss: 0.0396\n",
      "Epoch [6/50], Loss: 0.0273\n",
      "Epoch [7/50], Loss: 0.0015\n",
      "Epoch [8/50], Loss: 0.0068\n",
      "Epoch [9/50], Loss: 0.0072\n",
      "Epoch [10/50], Loss: 0.0070\n",
      "Epoch [11/50], Loss: 0.0045\n",
      "Epoch [12/50], Loss: 0.0041\n",
      "Epoch [13/50], Loss: 0.0004\n",
      "Epoch [14/50], Loss: 0.0480\n",
      "Epoch [15/50], Loss: 0.0023\n",
      "Epoch [16/50], Loss: 0.0015\n",
      "Epoch [17/50], Loss: 0.0002\n",
      "Epoch [18/50], Loss: 0.0073\n",
      "Epoch [19/50], Loss: 0.0148\n",
      "Epoch [20/50], Loss: 0.0011\n",
      "Epoch [21/50], Loss: 0.0244\n",
      "Epoch [22/50], Loss: 0.0057\n",
      "Epoch [23/50], Loss: 0.0003\n",
      "Epoch [24/50], Loss: 0.0052\n",
      "Epoch [25/50], Loss: 0.0001\n",
      "Epoch [26/50], Loss: 0.0083\n",
      "Epoch [27/50], Loss: 0.0035\n",
      "Epoch [28/50], Loss: 0.0025\n",
      "Epoch [29/50], Loss: 0.0009\n",
      "Epoch [30/50], Loss: 0.0006\n",
      "Epoch [31/50], Loss: 0.0026\n",
      "Epoch [32/50], Loss: 0.0007\n",
      "Epoch [33/50], Loss: 0.1243\n",
      "Epoch [34/50], Loss: 0.0034\n",
      "Epoch [35/50], Loss: 0.0171\n",
      "Epoch [36/50], Loss: 0.0545\n",
      "Epoch [37/50], Loss: 0.0003\n",
      "Epoch [38/50], Loss: 0.0005\n",
      "Epoch [39/50], Loss: 0.0020\n",
      "Epoch [40/50], Loss: 0.0173\n",
      "Epoch [41/50], Loss: 0.0004\n",
      "Epoch [42/50], Loss: 0.0008\n",
      "Epoch [43/50], Loss: 0.0071\n",
      "Epoch [44/50], Loss: 0.0050\n",
      "Epoch [45/50], Loss: 0.0003\n",
      "Epoch [46/50], Loss: 0.0014\n",
      "Epoch [47/50], Loss: 0.0006\n",
      "Epoch [48/50], Loss: 0.0004\n",
      "Epoch [49/50], Loss: 0.0010\n",
      "Epoch [50/50], Loss: 0.0008\n"
     ]
    }
   ],
   "source": [
    "# Prepare DataLoader\n",
    "train_loader = DataLoader(dataset=train_dataset, batch_size=batch_size, shuffle=True)\n",
    "test_loader = DataLoader(dataset=test_dataset, batch_size=batch_size, shuffle=False)\n",
    "# Instantiate Model, Define Loss and Optimizer\n",
    "model = LSTMNetwork(input_size, hidden_size, num_layers, output_size)\n",
    "model = model.to(device)\n",
    "criterion = nn.MSELoss()\n",
    "optimizer = optim.Adam(model.parameters(), lr=0.001)\n",
    "# Run Training Loops\n",
    "train_model(model, train_loader, criterion, optimizer, num_epochs)"
   ]
  },
  {
   "cell_type": "code",
   "execution_count": 10,
   "metadata": {
    "colab": {
     "base_uri": "https://localhost:8080/",
     "height": 561
    },
    "id": "PiJ5cWTbzYcr",
    "outputId": "3874c567-6789-4f34-92c8-aec50545e3c0"
   },
   "outputs": [
    {
     "name": "stdout",
     "output_type": "stream",
     "text": [
      "LSTM with RoBERTa Features:\n",
      "Accuracy: 0.84\n",
      "Precision: 0.83\n",
      "Recall: 0.84\n",
      "F1-Score: 0.84\n"
     ]
    },
    {
     "data": {
      "image/png": "[encoded data removed]",
      "text/plain": [
       "<Figure size 640x480 with 2 Axes>"
      ]
     },
     "metadata": {},
     "output_type": "display_data"
    }
   ],
   "source": [
    "# Run Test\n",
    "y_test, y_pre = test_model(model, test_loader)\n",
    "print(\"LSTM with RoBERTa Features:\")\n",
    "evaluate_model(y_test, y_pre)\n",
    "# Confusion matrix\n",
    "textblob_cm = confusion_matrix(y_test, y_pre, labels=[0, 1])\n",
    "sns.heatmap(textblob_cm, annot=True, fmt='d', cmap='Greens', xticklabels=['positive', 'negative'], yticklabels=['positive', 'negative'])\n",
    "plt.title(\"LSTM with Embeddings from RoBERTa Confusion Matrix\")\n",
    "plt.xlabel(\"Predicted\")\n",
    "plt.ylabel(\"Actual\")\n",
    "plt.show()"
   ]
  },
  {
   "cell_type": "markdown",
   "metadata": {
    "id": "evR-fo9MvzUB"
   },
   "source": [
    "**DistilBERT**"
   ]
  },
  {
   "cell_type": "code",
   "execution_count": 11,
   "metadata": {
    "colab": {
     "base_uri": "https://localhost:8080/"
    },
    "id": "XC5eLCZMw36-",
    "outputId": "29e0e28a-4c3e-4934-829b-c3b82ff390cc"
   },
   "outputs": [
    {
     "name": "stdout",
     "output_type": "stream",
     "text": [
      "DistilBERT Feature Shape: (50000, 768)\n"
     ]
    }
   ],
   "source": [
    "# Loading data and Normalization\n",
    "X_distilbert = np.load('/content/drive/MyDrive/NLP_Project/X_distilbert.npy')\n",
    "print(\"DistilBERT Feature Shape:\", X_distilbert.shape)\n",
    "scaler = StandardScaler()\n",
    "model = scaler.fit(X_distilbert)\n",
    "X_distilbert = model.transform(X_distilbert)"
   ]
  },
  {
   "cell_type": "code",
   "execution_count": 12,
   "metadata": {
    "colab": {
     "base_uri": "https://localhost:8080/"
    },
    "id": "lgdwctP4uAR4",
    "outputId": "8503ef73-445e-437c-d4a7-a8503d1c2ba4"
   },
   "outputs": [
    {
     "name": "stdout",
     "output_type": "stream",
     "text": [
      "Train Feature Shape: (25000, 768)\n",
      "Train Labels Shape: (25000,)\n",
      "Test Feature Shape: (25000, 768)\n",
      "Test Labels Shape: (25000,)\n"
     ]
    }
   ],
   "source": [
    "# Prepare Dataset\n",
    "X_train, X_test, y_train, y_test = train_test_split(X_distilbert, df['sentiment_numeric'].values, test_size=0.5, random_state=42)\n",
    "print(\"Train Feature Shape:\", X_train.shape)\n",
    "print(\"Train Labels Shape:\", y_train.shape)\n",
    "print(\"Test Feature Shape:\", X_test.shape)\n",
    "print(\"Test Labels Shape:\", y_test.shape)\n",
    "train_dataset = NumpyDataset(X_train, y_train)\n",
    "test_dataset = NumpyDataset(X_test, y_test)"
   ]
  },
  {
   "cell_type": "code",
   "execution_count": 13,
   "metadata": {
    "colab": {
     "base_uri": "https://localhost:8080/"
    },
    "id": "lQdxKm7MwQQm",
    "outputId": "b5adc5ce-4f71-4806-b177-1aeb22b2bd89"
   },
   "outputs": [
    {
     "name": "stdout",
     "output_type": "stream",
     "text": [
      "Epoch [1/50], Loss: 0.2487\n",
      "Epoch [2/50], Loss: 0.1803\n",
      "Epoch [3/50], Loss: 0.2660\n",
      "Epoch [4/50], Loss: 0.1873\n",
      "Epoch [5/50], Loss: 0.0083\n",
      "Epoch [6/50], Loss: 0.0474\n",
      "Epoch [7/50], Loss: 0.0019\n",
      "Epoch [8/50], Loss: 0.0098\n",
      "Epoch [9/50], Loss: 0.0528\n",
      "Epoch [10/50], Loss: 0.0003\n",
      "Epoch [11/50], Loss: 0.0126\n",
      "Epoch [12/50], Loss: 0.0006\n",
      "Epoch [13/50], Loss: 0.1797\n",
      "Epoch [14/50], Loss: 0.0005\n",
      "Epoch [15/50], Loss: 0.0099\n",
      "Epoch [16/50], Loss: 0.1218\n",
      "Epoch [17/50], Loss: 0.0036\n",
      "Epoch [18/50], Loss: 0.0003\n",
      "Epoch [19/50], Loss: 0.0720\n",
      "Epoch [20/50], Loss: 0.0140\n",
      "Epoch [21/50], Loss: 0.0006\n",
      "Epoch [22/50], Loss: 0.0161\n",
      "Epoch [23/50], Loss: 0.1332\n",
      "Epoch [24/50], Loss: 0.0138\n",
      "Epoch [25/50], Loss: 0.0006\n",
      "Epoch [26/50], Loss: 0.0002\n",
      "Epoch [27/50], Loss: 0.0128\n",
      "Epoch [28/50], Loss: 0.0095\n",
      "Epoch [29/50], Loss: 0.0002\n",
      "Epoch [30/50], Loss: 0.0007\n",
      "Epoch [31/50], Loss: 0.0009\n",
      "Epoch [32/50], Loss: 0.0003\n",
      "Epoch [33/50], Loss: 0.0005\n",
      "Epoch [34/50], Loss: 0.0028\n",
      "Epoch [35/50], Loss: 0.0064\n",
      "Epoch [36/50], Loss: 0.0002\n",
      "Epoch [37/50], Loss: 0.0140\n",
      "Epoch [38/50], Loss: 0.0974\n",
      "Epoch [39/50], Loss: 0.0003\n",
      "Epoch [40/50], Loss: 0.0087\n",
      "Epoch [41/50], Loss: 0.0009\n",
      "Epoch [42/50], Loss: 0.1238\n",
      "Epoch [43/50], Loss: 0.0025\n",
      "Epoch [44/50], Loss: 0.0065\n",
      "Epoch [45/50], Loss: 0.0002\n",
      "Epoch [46/50], Loss: 0.0008\n",
      "Epoch [47/50], Loss: 0.0002\n",
      "Epoch [48/50], Loss: 0.0008\n",
      "Epoch [49/50], Loss: 0.0002\n",
      "Epoch [50/50], Loss: 0.0004\n"
     ]
    }
   ],
   "source": [
    "# Prepare DataLoader\n",
    "train_loader = DataLoader(dataset=train_dataset, batch_size=batch_size, shuffle=True)\n",
    "test_loader = DataLoader(dataset=test_dataset, batch_size=batch_size, shuffle=False)\n",
    "# Instantiate Model, Define Loss and Optimizer\n",
    "model = LSTMNetwork(input_size, hidden_size, num_layers, output_size)\n",
    "model = model.to(device)\n",
    "criterion = nn.MSELoss()\n",
    "optimizer = optim.Adam(model.parameters(), lr=0.001)\n",
    "# Run Training Loops\n",
    "train_model(model, train_loader, criterion, optimizer, num_epochs)"
   ]
  },
  {
   "cell_type": "code",
   "execution_count": 14,
   "metadata": {
    "colab": {
     "base_uri": "https://localhost:8080/",
     "height": 561
    },
    "id": "MClAwOB8zbDP",
    "outputId": "e8feed84-d23e-4fcb-9930-253f2eb2e2f3"
   },
   "outputs": [
    {
     "name": "stdout",
     "output_type": "stream",
     "text": [
      "LSTM with DistilBERT Features:\n",
      "Accuracy: 0.82\n",
      "Precision: 0.81\n",
      "Recall: 0.83\n",
      "F1-Score: 0.82\n"
     ]
    },
    {
     "data": {
      "image/png": "[encoded data removed]",
      "text/plain": [
       "<Figure size 640x480 with 2 Axes>"
      ]
     },
     "metadata": {},
     "output_type": "display_data"
    }
   ],
   "source": [
    "# Run Test\n",
    "y_test, y_pre = test_model(model, test_loader)\n",
    "print(\"LSTM with DistilBERT Features:\")\n",
    "evaluate_model(y_test, y_pre)\n",
    "# Confusion matrix\n",
    "textblob_cm = confusion_matrix(y_test, y_pre, labels=[0, 1])\n",
    "sns.heatmap(textblob_cm, annot=True, fmt='d', cmap='Greens', xticklabels=['positive', 'negative'], yticklabels=['positive', 'negative'])\n",
    "plt.title(\"LSTM with Embeddings from DistilBERT Confusion Matrix\")\n",
    "plt.xlabel(\"Predicted\")\n",
    "plt.ylabel(\"Actual\")\n",
    "plt.show()"
   ]
  }
 ],
 "metadata": {
  "accelerator": "GPU",
  "colab": {
   "gpuType": "T4",
   "provenance": []
  },
  "kernelspec": {
   "display_name": "Python 3",
   "name": "python3"
  },
  "language_info": {
   "name": "python"
  }
 },
 "nbformat": 4,
 "nbformat_minor": 0
}
