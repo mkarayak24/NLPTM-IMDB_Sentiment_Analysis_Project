{
 "cells": [
  {
   "cell_type": "markdown",
   "metadata": {},
   "source": [
    "## LSTM"
   ]
  },
  {
   "cell_type": "code",
   "execution_count": null,
   "metadata": {},
   "outputs": [],
   "source": [
    "import pandas as pd\n",
    "import numpy as np\n",
    "\n",
    "from sklearn.feature_extraction.text import CountVectorizer, TfidfVectorizer\n",
    "from sklearn.model_selection import train_test_split\n",
    "from sklearn.linear_model import LogisticRegression\n",
    "from sklearn.svm import SVC\n",
    "from sklearn.ensemble import RandomForestClassifier\n",
    "from sklearn.metrics import accuracy_score, precision_score, recall_score, f1_score\n",
    "from sklearn.linear_model import SGDClassifier\n",
    "from gensim.models import Word2Vec\n",
    "\n",
    "from nltk.tokenize import word_tokenize\n"
   ]
  },
  {
   "cell_type": "code",
   "execution_count": 2,
   "metadata": {},
   "outputs": [
    {
     "data": {
      "text/html": [
       "<div>\n",
       "<style scoped>\n",
       "    .dataframe tbody tr th:only-of-type {\n",
       "        vertical-align: middle;\n",
       "    }\n",
       "\n",
       "    .dataframe tbody tr th {\n",
       "        vertical-align: top;\n",
       "    }\n",
       "\n",
       "    .dataframe thead th {\n",
       "        text-align: right;\n",
       "    }\n",
       "</style>\n",
       "<table border=\"1\" class=\"dataframe\">\n",
       "  <thead>\n",
       "    <tr style=\"text-align: right;\">\n",
       "      <th></th>\n",
       "      <th>Unnamed: 0</th>\n",
       "      <th>review</th>\n",
       "      <th>sentiment</th>\n",
       "      <th>cleaned_review</th>\n",
       "      <th>sentiment_numeric</th>\n",
       "      <th>tokens</th>\n",
       "    </tr>\n",
       "  </thead>\n",
       "  <tbody>\n",
       "    <tr>\n",
       "      <th>0</th>\n",
       "      <td>0</td>\n",
       "      <td>One of the other reviewers has mentioned that ...</td>\n",
       "      <td>positive</td>\n",
       "      <td>one reviewer mentioned watching oz episode you...</td>\n",
       "      <td>1</td>\n",
       "      <td>['one', 'reviewer', 'mentioned', 'watching', '...</td>\n",
       "    </tr>\n",
       "    <tr>\n",
       "      <th>1</th>\n",
       "      <td>1</td>\n",
       "      <td>A wonderful little production. &lt;br /&gt;&lt;br /&gt;The...</td>\n",
       "      <td>positive</td>\n",
       "      <td>wonderful little production filming technique ...</td>\n",
       "      <td>1</td>\n",
       "      <td>['wonderful', 'little', 'production', 'filming...</td>\n",
       "    </tr>\n",
       "    <tr>\n",
       "      <th>2</th>\n",
       "      <td>2</td>\n",
       "      <td>I thought this was a wonderful way to spend ti...</td>\n",
       "      <td>positive</td>\n",
       "      <td>thought wonderful way spend time hot summer we...</td>\n",
       "      <td>1</td>\n",
       "      <td>['thought', 'wonderful', 'way', 'spend', 'time...</td>\n",
       "    </tr>\n",
       "    <tr>\n",
       "      <th>3</th>\n",
       "      <td>3</td>\n",
       "      <td>Basically there's a family where a little boy ...</td>\n",
       "      <td>negative</td>\n",
       "      <td>basically there family little boy jake think t...</td>\n",
       "      <td>0</td>\n",
       "      <td>['basically', 'there', 'family', 'little', 'bo...</td>\n",
       "    </tr>\n",
       "    <tr>\n",
       "      <th>4</th>\n",
       "      <td>4</td>\n",
       "      <td>Petter Mattei's \"Love in the Time of Money\" is...</td>\n",
       "      <td>positive</td>\n",
       "      <td>petter matteis love time money visually stunni...</td>\n",
       "      <td>1</td>\n",
       "      <td>['petter', 'matteis', 'love', 'time', 'money',...</td>\n",
       "    </tr>\n",
       "  </tbody>\n",
       "</table>\n",
       "</div>"
      ],
      "text/plain": [
       "   Unnamed: 0                                             review sentiment  \\\n",
       "0           0  One of the other reviewers has mentioned that ...  positive   \n",
       "1           1  A wonderful little production. <br /><br />The...  positive   \n",
       "2           2  I thought this was a wonderful way to spend ti...  positive   \n",
       "3           3  Basically there's a family where a little boy ...  negative   \n",
       "4           4  Petter Mattei's \"Love in the Time of Money\" is...  positive   \n",
       "\n",
       "                                      cleaned_review  sentiment_numeric  \\\n",
       "0  one reviewer mentioned watching oz episode you...                  1   \n",
       "1  wonderful little production filming technique ...                  1   \n",
       "2  thought wonderful way spend time hot summer we...                  1   \n",
       "3  basically there family little boy jake think t...                  0   \n",
       "4  petter matteis love time money visually stunni...                  1   \n",
       "\n",
       "                                              tokens  \n",
       "0  ['one', 'reviewer', 'mentioned', 'watching', '...  \n",
       "1  ['wonderful', 'little', 'production', 'filming...  \n",
       "2  ['thought', 'wonderful', 'way', 'spend', 'time...  \n",
       "3  ['basically', 'there', 'family', 'little', 'bo...  \n",
       "4  ['petter', 'matteis', 'love', 'time', 'money',...  "
      ]
     },
     "execution_count": 2,
     "metadata": {},
     "output_type": "execute_result"
    }
   ],
   "source": [
    "# Load data\n",
    "df = pd.read_csv('IMDB_Dataset_Preprocessed.csv') \n",
    "df.head()\n"
   ]
  },
  {
   "cell_type": "markdown",
   "metadata": {},
   "source": [
    "## LSTM related classes and methods"
   ]
  },
  {
   "cell_type": "code",
   "execution_count": null,
   "metadata": {},
   "outputs": [
    {
     "name": "stderr",
     "output_type": "stream",
     "text": [
      "c:\\Users\\Fatih\\miniconda3\\envs\\fth_cuda_3_8\\lib\\site-packages\\tqdm\\auto.py:21: TqdmWarning: IProgress not found. Please update jupyter and ipywidgets. See https://ipywidgets.readthedocs.io/en/stable/user_install.html\n",
      "  from .autonotebook import tqdm as notebook_tqdm\n"
     ]
    },
    {
     "name": "stdout",
     "output_type": "stream",
     "text": [
      "Using device: cuda\n"
     ]
    }
   ],
   "source": [
    "import torch\n",
    "import torch.nn as nn\n",
    "import torch.optim as optim\n",
    "import matplotlib.pyplot as plt\n",
    "import numpy as np\n",
    "import pandas as pd\n",
    "import seaborn as sns\n",
    "\n",
    "from sklearn.model_selection import train_test_split\n",
    "from sklearn.metrics import accuracy_score, precision_score, recall_score, f1_score\n",
    "from torch.utils.data import Dataset, DataLoader\n",
    "from sklearn.preprocessing import StandardScaler\n",
    "from sklearn.metrics import confusion_matrix\n",
    "\n",
    "\n",
    "# Check for CUDA\n",
    "device = torch.device(\"cuda\" if torch.cuda.is_available() else \"cpu\")\n",
    "print(f\"Using device: {device}\")\n",
    "\n",
    "\n",
    "# 1. Define Custom Dataset Class\n",
    "class NumpyDataset(Dataset):\n",
    "    def __init__(self, features, targets):\n",
    "        self.features = features\n",
    "        self.targets = targets\n",
    "\n",
    "    def __len__(self):\n",
    "        return len(self.features)\n",
    "\n",
    "    def __getitem__(self, idx):\n",
    "        x = self.features[idx]\n",
    "        y = self.targets[idx]\n",
    "        x = torch.tensor(x, dtype=torch.float32)\n",
    "        y = torch.tensor(y, dtype=torch.float32)\n",
    "        return x, y\n",
    "\n",
    "# 2. Define LSTM Model Class\n",
    "class LSTMNetwork(nn.Module):\n",
    "    def __init__(self, input_size, hidden_size, num_layers, output_size):\n",
    "        super(LSTMNetwork, self).__init__()\n",
    "        self.hidden_size = hidden_size\n",
    "        self.num_layers = num_layers\n",
    "        self.lstm = nn.LSTM(input_size, hidden_size, num_layers, batch_first=True)\n",
    "        self.fc = nn.Linear(hidden_size, output_size)\n",
    "\n",
    "    def forward(self, x):\n",
    "        h0 = torch.zeros(self.num_layers, x.size(0), self.hidden_size).to(x.device)\n",
    "        c0 = torch.zeros(self.num_layers, x.size(0), self.hidden_size).to(x.device)\n",
    "        out, _ = self.lstm(x.unsqueeze(1), (h0, c0))\n",
    "        out = self.fc(out[:, -1, :])\n",
    "        return out\n",
    "\n",
    "# 3. Training Loop\n",
    "def train_model(model, train_loader, criterion, optimizer, num_epochs):\n",
    "    for epoch in range(num_epochs):\n",
    "        model.train()\n",
    "        for inputs, targets in train_loader:\n",
    "            inputs, targets = inputs.to(device), targets.to(device).view(-1, 1)\n",
    "            optimizer.zero_grad()\n",
    "            outputs = model(inputs)\n",
    "            loss = criterion(outputs, targets)\n",
    "            loss.backward()\n",
    "            optimizer.step()\n",
    "        print(f'Epoch [{epoch + 1}/{num_epochs}], Loss: {loss.item():.4f}')\n",
    "\n",
    "# 4. Create Test Function\n",
    "def test_model(model, test_loader):\n",
    "    model.eval()\n",
    "    all_preds = []\n",
    "    all_targets = []\n",
    "    with torch.no_grad():\n",
    "        for inputs, targets in test_loader:\n",
    "            inputs, targets = inputs.to(device), targets.to(device).view(-1, 1)\n",
    "            outputs = model(inputs)\n",
    "            all_preds.append(outputs.cpu().numpy())\n",
    "            all_targets.append(targets.cpu().numpy())\n",
    "    all_preds = np.concatenate(all_preds).flatten().round()\n",
    "    all_targets = np.concatenate(all_targets).flatten()\n",
    "    return all_targets, all_preds\n",
    "\n",
    "# Define LSTM Training Parameters\n",
    "# input_size = 5000  # Input size (BoW features)\n",
    "hidden_size = 128  # Example hidden layer size\n",
    "num_layers = 2 # Number of LSTM layers\n",
    "output_size = 1 # Output size (single scalar value)\n",
    "batch_size = 32 # Define Batch Size\n",
    "num_epochs = 10 # Number of epochs"
   ]
  },
  {
   "cell_type": "code",
   "execution_count": null,
   "metadata": {},
   "outputs": [
    {
     "data": {
      "text/plain": [
       "'# Function to print evaluation metrics\\ndef evaluate_model(true_labels, predicted_labels):\\n    accuracy = accuracy_score(true_labels, predicted_labels)\\n    precision = precision_score(true_labels, predicted_labels)\\n    recall = recall_score(true_labels, predicted_labels)\\n    f1 = f1_score(true_labels, predicted_labels)\\n    \\n    print(f\"Accuracy: {accuracy:.2f}\")\\n    print(f\"Precision: {precision:.2f}\")\\n    print(f\"Recall: {recall:.2f}\")\\n    print(f\"F1-Score: {f1:.2f}\")'"
      ]
     },
     "execution_count": 5,
     "metadata": {},
     "output_type": "execute_result"
    }
   ],
   "source": [
    "# Function to print evaluation metrics\n",
    "def evaluate_model(true_labels, predicted_labels):\n",
    "    accuracy = accuracy_score(true_labels, predicted_labels)\n",
    "    precision = precision_score(true_labels, predicted_labels)\n",
    "    recall = recall_score(true_labels, predicted_labels)\n",
    "    f1 = f1_score(true_labels, predicted_labels)\n",
    "    \n",
    "    print(f\"Accuracy: {accuracy:.2f}\")\n",
    "    print(f\"Precision: {precision:.2f}\")\n",
    "    print(f\"Recall: {recall:.2f}\")\n",
    "    print(f\"F1-Score: {f1:.2f}\")"
   ]
  },
  {
   "cell_type": "markdown",
   "metadata": {},
   "source": [
    "## 3000 Features"
   ]
  },
  {
   "cell_type": "code",
   "execution_count": null,
   "metadata": {},
   "outputs": [],
   "source": [
    "input_size = 3000"
   ]
  },
  {
   "cell_type": "markdown",
   "metadata": {},
   "source": [
    "### Unigram"
   ]
  },
  {
   "cell_type": "code",
   "execution_count": 19,
   "metadata": {},
   "outputs": [
    {
     "name": "stdout",
     "output_type": "stream",
     "text": [
      "BoW Unigram Feature Shape with 3000 features: (50000, 3000)\n"
     ]
    }
   ],
   "source": [
    "# Unigram (varsayılan)\n",
    "vectorizer_bow_unigram = CountVectorizer(max_features=3000)\n",
    "X_bow_unigram = vectorizer_bow_unigram.fit_transform(df['cleaned_review']).toarray()\n",
    "\n",
    "print(\"BoW Unigram Feature Shape with 3000 features:\", X_bow_unigram.shape)\n",
    "\n",
    "# Convert to numpy array\n",
    "X_bow_unigram = np.asarray(X_bow_unigram)\n",
    "\n",
    "scaler = StandardScaler()\n",
    "model = scaler.fit(X_bow_unigram)\n",
    "X_bow_unigram = model.transform(X_bow_unigram)\n",
    "\n",
    "# Split data into training and testing\n",
    "X_train, X_test, y_train, y_test = train_test_split(X_bow_unigram, df['sentiment_numeric'].values, test_size=0.5, random_state=42)\n"
   ]
  },
  {
   "cell_type": "code",
   "execution_count": 20,
   "metadata": {},
   "outputs": [],
   "source": [
    "\n",
    "train_dataset = NumpyDataset(X_train, y_train)\n",
    "test_dataset = NumpyDataset(X_test, y_test)\n"
   ]
  },
  {
   "cell_type": "code",
   "execution_count": 21,
   "metadata": {},
   "outputs": [
    {
     "name": "stdout",
     "output_type": "stream",
     "text": [
      "Epoch [1/10], Loss: 0.0971\n",
      "Epoch [2/10], Loss: 0.0022\n",
      "Epoch [3/10], Loss: 0.0001\n",
      "Epoch [4/10], Loss: 0.0000\n",
      "Epoch [5/10], Loss: 0.0001\n",
      "Epoch [6/10], Loss: 0.0000\n",
      "Epoch [7/10], Loss: 0.0000\n",
      "Epoch [8/10], Loss: 0.0000\n",
      "Epoch [9/10], Loss: 0.0000\n",
      "Epoch [10/10], Loss: 0.0000\n"
     ]
    }
   ],
   "source": [
    "# Prepare DataLoader\n",
    "train_loader = DataLoader(dataset=train_dataset, batch_size=batch_size, shuffle=True)\n",
    "test_loader = DataLoader(dataset=test_dataset, batch_size=batch_size, shuffle=False)\n",
    "# Instantiate Model, Define Loss and Optimizer\n",
    "model = LSTMNetwork(input_size, hidden_size, num_layers, output_size)\n",
    "model = model.to(device)\n",
    "criterion = nn.MSELoss()\n",
    "optimizer = optim.Adam(model.parameters(), lr=0.001)\n",
    "# Run Training Loops\n",
    "train_model(model, train_loader, criterion, optimizer, num_epochs)\n"
   ]
  },
  {
   "cell_type": "code",
   "execution_count": 22,
   "metadata": {},
   "outputs": [
    {
     "name": "stdout",
     "output_type": "stream",
     "text": [
      "LSTM with BoW using unigrams and 3000 features:\n",
      "Accuracy: 0.87\n",
      "Precision: 0.85\n",
      "Recall: 0.88\n",
      "F1-Score: 0.87\n"
     ]
    }
   ],
   "source": [
    "# Run Test\n",
    "y_test, y_pre = test_model(model, test_loader)\n",
    "print(\"LSTM with BoW using unigrams and 3000 features:\")\n",
    "evaluate_model(y_test, y_pre)"
   ]
  },
  {
   "cell_type": "markdown",
   "metadata": {},
   "source": [
    "### Bigram"
   ]
  },
  {
   "cell_type": "code",
   "execution_count": 11,
   "metadata": {},
   "outputs": [
    {
     "name": "stdout",
     "output_type": "stream",
     "text": [
      "BoW Bigram Feature Shape with 3000 features: (50000, 3000)\n"
     ]
    }
   ],
   "source": [
    "# Bigram\n",
    "vectorizer_bow_bigram = CountVectorizer(max_features=3000, ngram_range=(1, 2))\n",
    "X_bow_bigram = vectorizer_bow_bigram.fit_transform(df['cleaned_review']).toarray()\n",
    "\n",
    "print(\"BoW Bigram Feature Shape with 3000 features:\", X_bow_bigram.shape)\n",
    "\n",
    "# Convert to numpy array\n",
    "X_bow_bigram = np.asarray(X_bow_bigram)\n",
    "\n",
    "scaler = StandardScaler()\n",
    "model = scaler.fit(X_bow_bigram)\n",
    "X_bow_bigram = model.transform(X_bow_bigram)\n",
    "\n",
    "# Split data into training and testing\n",
    "X_train, X_test, y_train, y_test = train_test_split(X_bow_bigram, df['sentiment_numeric'].values, test_size=0.5, random_state=42)"
   ]
  },
  {
   "cell_type": "code",
   "execution_count": 12,
   "metadata": {},
   "outputs": [],
   "source": [
    "train_dataset = NumpyDataset(X_train, y_train)\n",
    "test_dataset = NumpyDataset(X_test, y_test)"
   ]
  },
  {
   "cell_type": "code",
   "execution_count": 13,
   "metadata": {},
   "outputs": [
    {
     "name": "stdout",
     "output_type": "stream",
     "text": [
      "Epoch [1/10], Loss: 0.1599\n",
      "Epoch [2/10], Loss: 0.0019\n",
      "Epoch [3/10], Loss: 0.0002\n",
      "Epoch [4/10], Loss: 0.0001\n",
      "Epoch [5/10], Loss: 0.0000\n",
      "Epoch [6/10], Loss: 0.0000\n",
      "Epoch [7/10], Loss: 0.0000\n",
      "Epoch [8/10], Loss: 0.0000\n",
      "Epoch [9/10], Loss: 0.0000\n",
      "Epoch [10/10], Loss: 0.0000\n"
     ]
    }
   ],
   "source": [
    "# Prepare DataLoader\n",
    "train_loader = DataLoader(dataset=train_dataset, batch_size=batch_size, shuffle=True)\n",
    "test_loader = DataLoader(dataset=test_dataset, batch_size=batch_size, shuffle=False)\n",
    "# Instantiate Model, Define Loss and Optimizer\n",
    "model = LSTMNetwork(input_size, hidden_size, num_layers, output_size)\n",
    "model = model.to(device)\n",
    "criterion = nn.MSELoss()\n",
    "optimizer = optim.Adam(model.parameters(), lr=0.001)\n",
    "# Run Training Loops\n",
    "train_model(model, train_loader, criterion, optimizer, num_epochs)"
   ]
  },
  {
   "cell_type": "code",
   "execution_count": 14,
   "metadata": {},
   "outputs": [
    {
     "name": "stdout",
     "output_type": "stream",
     "text": [
      "LSTM with BoW using bigrams and 3000 features:\n",
      "Accuracy: 0.86\n",
      "Precision: 0.85\n",
      "Recall: 0.88\n",
      "F1-Score: 0.87\n"
     ]
    }
   ],
   "source": [
    "# Run Test\n",
    "y_test, y_pre = test_model(model, test_loader)\n",
    "print(\"LSTM with BoW using bigrams and 3000 features:\")\n",
    "evaluate_model(y_test, y_pre)"
   ]
  },
  {
   "cell_type": "markdown",
   "metadata": {},
   "source": [
    "### Trigram"
   ]
  },
  {
   "cell_type": "code",
   "execution_count": 15,
   "metadata": {},
   "outputs": [
    {
     "name": "stdout",
     "output_type": "stream",
     "text": [
      "BoW Trigram Feature Shape with 3000 features: (50000, 3000)\n"
     ]
    }
   ],
   "source": [
    "# Trigram\n",
    "vectorizer_bow_trigram = CountVectorizer(max_features=3000, ngram_range=(1, 3))\n",
    "X_bow_trigram = vectorizer_bow_trigram.fit_transform(df['cleaned_review']).toarray()\n",
    "\n",
    "print(\"BoW Trigram Feature Shape with 3000 features:\", X_bow_trigram.shape)\n",
    "\n",
    "# Convert to numpy array\n",
    "X_bow_trigram = np.asarray(X_bow_trigram)\n",
    "\n",
    "scaler = StandardScaler()\n",
    "model = scaler.fit(X_bow_trigram)\n",
    "X_bow_trigram = model.transform(X_bow_trigram)\n",
    "\n",
    "# Split data into training and testing\n",
    "X_train, X_test, y_train, y_test = train_test_split(X_bow_trigram, df['sentiment_numeric'].values, test_size=0.5, random_state=42)"
   ]
  },
  {
   "cell_type": "code",
   "execution_count": 16,
   "metadata": {},
   "outputs": [],
   "source": [
    "train_dataset = NumpyDataset(X_train, y_train)\n",
    "test_dataset = NumpyDataset(X_test, y_test)"
   ]
  },
  {
   "cell_type": "code",
   "execution_count": 17,
   "metadata": {},
   "outputs": [
    {
     "name": "stdout",
     "output_type": "stream",
     "text": [
      "Epoch [1/10], Loss: 0.1205\n",
      "Epoch [2/10], Loss: 0.0084\n",
      "Epoch [3/10], Loss: 0.0001\n",
      "Epoch [4/10], Loss: 0.0000\n",
      "Epoch [5/10], Loss: 0.0000\n",
      "Epoch [6/10], Loss: 0.0000\n",
      "Epoch [7/10], Loss: 0.0000\n",
      "Epoch [8/10], Loss: 0.0000\n",
      "Epoch [9/10], Loss: 0.0000\n",
      "Epoch [10/10], Loss: 0.0000\n"
     ]
    }
   ],
   "source": [
    "# Prepare DataLoader\n",
    "train_loader = DataLoader(dataset=train_dataset, batch_size=batch_size, shuffle=True)\n",
    "test_loader = DataLoader(dataset=test_dataset, batch_size=batch_size, shuffle=False)\n",
    "# Instantiate Model, Define Loss and Optimizer\n",
    "model = LSTMNetwork(input_size, hidden_size, num_layers, output_size)\n",
    "model = model.to(device)\n",
    "criterion = nn.MSELoss()\n",
    "optimizer = optim.Adam(model.parameters(), lr=0.001)\n",
    "# Run Training Loops\n",
    "train_model(model, train_loader, criterion, optimizer, num_epochs)"
   ]
  },
  {
   "cell_type": "code",
   "execution_count": 18,
   "metadata": {},
   "outputs": [
    {
     "name": "stdout",
     "output_type": "stream",
     "text": [
      "LSTM with BoW using trigrams and 3000 features:\n",
      "Accuracy: 0.86\n",
      "Precision: 0.85\n",
      "Recall: 0.89\n",
      "F1-Score: 0.87\n"
     ]
    }
   ],
   "source": [
    "# Run Test\n",
    "y_test, y_pre = test_model(model, test_loader)\n",
    "print(\"LSTM with BoW using trigrams and 3000 features:\")\n",
    "evaluate_model(y_test, y_pre)"
   ]
  },
  {
   "cell_type": "markdown",
   "metadata": {},
   "source": [
    "## 5000 Features"
   ]
  },
  {
   "cell_type": "code",
   "execution_count": 23,
   "metadata": {},
   "outputs": [],
   "source": [
    "input_size = 5000"
   ]
  },
  {
   "cell_type": "markdown",
   "metadata": {},
   "source": [
    "### Unigram"
   ]
  },
  {
   "cell_type": "code",
   "execution_count": 24,
   "metadata": {},
   "outputs": [
    {
     "name": "stdout",
     "output_type": "stream",
     "text": [
      "BoW Unigram Feature Shape with 5000 features: (50000, 5000)\n"
     ]
    }
   ],
   "source": [
    "# Unigram (varsayılan)\n",
    "vectorizer_bow_unigram = CountVectorizer(max_features=5000)\n",
    "X_bow_unigram = vectorizer_bow_unigram.fit_transform(df['cleaned_review']).toarray()\n",
    "\n",
    "print(\"BoW Unigram Feature Shape with 5000 features:\", X_bow_unigram.shape)\n",
    "\n",
    "# Convert to numpy array\n",
    "X_bow_unigram = np.asarray(X_bow_unigram)\n",
    "\n",
    "scaler = StandardScaler()\n",
    "model = scaler.fit(X_bow_unigram)\n",
    "X_bow_unigram = model.transform(X_bow_unigram)\n",
    "\n",
    "# Split data into training and testing\n",
    "X_train, X_test, y_train, y_test = train_test_split(X_bow_unigram, df['sentiment_numeric'].values, test_size=0.5, random_state=42)"
   ]
  },
  {
   "cell_type": "code",
   "execution_count": 25,
   "metadata": {},
   "outputs": [],
   "source": [
    "train_dataset = NumpyDataset(X_train, y_train)\n",
    "test_dataset = NumpyDataset(X_test, y_test)"
   ]
  },
  {
   "cell_type": "code",
   "execution_count": 26,
   "metadata": {},
   "outputs": [
    {
     "name": "stdout",
     "output_type": "stream",
     "text": [
      "Epoch [1/10], Loss: 0.0632\n",
      "Epoch [2/10], Loss: 0.0016\n",
      "Epoch [3/10], Loss: 0.0016\n",
      "Epoch [4/10], Loss: 0.0002\n",
      "Epoch [5/10], Loss: 0.0001\n",
      "Epoch [6/10], Loss: 0.0000\n",
      "Epoch [7/10], Loss: 0.0000\n",
      "Epoch [8/10], Loss: 0.0000\n",
      "Epoch [9/10], Loss: 0.0000\n",
      "Epoch [10/10], Loss: 0.0000\n"
     ]
    }
   ],
   "source": [
    "# Prepare DataLoader\n",
    "train_loader = DataLoader(dataset=train_dataset, batch_size=batch_size, shuffle=True)\n",
    "test_loader = DataLoader(dataset=test_dataset, batch_size=batch_size, shuffle=False)\n",
    "# Instantiate Model, Define Loss and Optimizer\n",
    "model = LSTMNetwork(input_size, hidden_size, num_layers, output_size)\n",
    "model = model.to(device)\n",
    "criterion = nn.MSELoss()\n",
    "optimizer = optim.Adam(model.parameters(), lr=0.001)\n",
    "# Run Training Loops\n",
    "train_model(model, train_loader, criterion, optimizer, num_epochs)\n"
   ]
  },
  {
   "cell_type": "code",
   "execution_count": 27,
   "metadata": {},
   "outputs": [
    {
     "name": "stdout",
     "output_type": "stream",
     "text": [
      "LSTM with BoW using unigrams and 5000 features:\n",
      "Accuracy: 0.86\n",
      "Precision: 0.83\n",
      "Recall: 0.90\n",
      "F1-Score: 0.86\n"
     ]
    }
   ],
   "source": [
    "# Run Test\n",
    "y_test, y_pre = test_model(model, test_loader)\n",
    "print(\"LSTM with BoW using unigrams and 5000 features:\")\n",
    "evaluate_model(y_test, y_pre)\n"
   ]
  },
  {
   "cell_type": "markdown",
   "metadata": {},
   "source": [
    "### Bigram"
   ]
  },
  {
   "cell_type": "code",
   "execution_count": null,
   "metadata": {},
   "outputs": [],
   "source": [
    "vectorizer_bow_bigram = CountVectorizer(max_features=5000, ngram_range=(1, 2))\n",
    "X_bow_bigram = vectorizer_bow_bigram.fit_transform(df['cleaned_review']).toarray()\n",
    "\n",
    "print(\"BoW bigram Feature Shape with 5000 features:\", X_bow_bigram.shape)\n",
    "\n",
    "# Convert to numpy array\n",
    "X_bow_bigram = np.asarray(X_bow_bigram)\n",
    "\n",
    "scaler = StandardScaler()\n",
    "model = scaler.fit(X_bow_bigram)\n",
    "X_bow_bigram = model.transform(X_bow_bigram)\n",
    "\n",
    "# Split data into training and testing\n",
    "X_train, X_test, y_train, y_test = train_test_split(X_bow_bigram, df['sentiment_numeric'].values, test_size=0.5, random_state=42)"
   ]
  },
  {
   "cell_type": "code",
   "execution_count": null,
   "metadata": {},
   "outputs": [],
   "source": [
    "train_dataset = NumpyDataset(X_train, y_train)\n",
    "test_dataset = NumpyDataset(X_test, y_test)"
   ]
  },
  {
   "cell_type": "code",
   "execution_count": null,
   "metadata": {},
   "outputs": [],
   "source": [
    "# Prepare DataLoader\n",
    "train_loader = DataLoader(dataset=train_dataset, batch_size=batch_size, shuffle=True)\n",
    "test_loader = DataLoader(dataset=test_dataset, batch_size=batch_size, shuffle=False)\n",
    "# Instantiate Model, Define Loss and Optimizer\n",
    "model = LSTMNetwork(input_size, hidden_size, num_layers, output_size)\n",
    "model = model.to(device)\n",
    "criterion = nn.MSELoss()\n",
    "optimizer = optim.Adam(model.parameters(), lr=0.001)\n",
    "# Run Training Loops\n",
    "train_model(model, train_loader, criterion, optimizer, num_epochs)"
   ]
  },
  {
   "cell_type": "code",
   "execution_count": null,
   "metadata": {},
   "outputs": [],
   "source": [
    "# Run Test\n",
    "y_test, y_pre = test_model(model, test_loader)\n",
    "print(\"LSTM with BoW using bigrams and 5000 features:\")\n",
    "evaluate_model(y_test, y_pre)"
   ]
  },
  {
   "cell_type": "markdown",
   "metadata": {},
   "source": [
    "### Trigram"
   ]
  },
  {
   "cell_type": "code",
   "execution_count": null,
   "metadata": {},
   "outputs": [],
   "source": [
    "# Trigram\n",
    "vectorizer_bow_trigram = CountVectorizer(max_features=5000, ngram_range=(1, 3))\n",
    "X_bow_trigram = vectorizer_bow_trigram.fit_transform(df['cleaned_review']).toarray()\n",
    "\n",
    "print(\"BoW trigram Feature Shape with 5000 features:\", X_bow_trigram.shape)\n",
    "\n",
    "# Convert to numpy array\n",
    "X_bow_trigram = np.asarray(X_bow_trigram)\n",
    "\n",
    "scaler = StandardScaler()\n",
    "model = scaler.fit(X_bow_trigram)\n",
    "X_bow_trigram = model.transform(X_bow_trigram)\n",
    "\n",
    "# Split data into training and testing\n",
    "X_train, X_test, y_train, y_test = train_test_split(X_bow_trigram, df['sentiment_numeric'].values, test_size=0.5, random_state=42)"
   ]
  },
  {
   "cell_type": "code",
   "execution_count": null,
   "metadata": {},
   "outputs": [],
   "source": [
    "train_dataset = NumpyDataset(X_train, y_train)\n",
    "test_dataset = NumpyDataset(X_test, y_test)"
   ]
  },
  {
   "cell_type": "code",
   "execution_count": null,
   "metadata": {},
   "outputs": [],
   "source": [
    "# Prepare DataLoader\n",
    "train_loader = DataLoader(dataset=train_dataset, batch_size=batch_size, shuffle=True)\n",
    "test_loader = DataLoader(dataset=test_dataset, batch_size=batch_size, shuffle=False)\n",
    "# Instantiate Model, Define Loss and Optimizer\n",
    "model = LSTMNetwork(input_size, hidden_size, num_layers, output_size)\n",
    "model = model.to(device)\n",
    "criterion = nn.MSELoss()\n",
    "optimizer = optim.Adam(model.parameters(), lr=0.001)\n",
    "# Run Training Loops\n",
    "train_model(model, train_loader, criterion, optimizer, num_epochs)"
   ]
  },
  {
   "cell_type": "code",
   "execution_count": null,
   "metadata": {},
   "outputs": [],
   "source": [
    "# Run Test\n",
    "y_test, y_pre = test_model(model, test_loader)\n",
    "print(\"LSTM with BoW using trigrams and 5000 features:\")\n",
    "evaluate_model(y_test, y_pre)"
   ]
  },
  {
   "cell_type": "markdown",
   "metadata": {},
   "source": [
    "## 7000 Features"
   ]
  },
  {
   "cell_type": "code",
   "execution_count": null,
   "metadata": {},
   "outputs": [],
   "source": [
    "input_size = 7000"
   ]
  },
  {
   "cell_type": "markdown",
   "metadata": {},
   "source": [
    "### Unigram"
   ]
  },
  {
   "cell_type": "code",
   "execution_count": null,
   "metadata": {},
   "outputs": [],
   "source": [
    "# Unigram (varsayılan)\n",
    "vectorizer_bow_unigram = CountVectorizer(max_features=7000)\n",
    "X_bow_unigram = vectorizer_bow_unigram.fit_transform(df['cleaned_review']).toarray()\n",
    "\n",
    "print(\"BoW unigram Feature Shape with 7000 features:\", X_bow_unigram.shape)\n",
    "\n",
    "# Convert to numpy array\n",
    "X_bow_unigram = np.asarray(X_bow_unigram)\n",
    "\n",
    "scaler = StandardScaler()\n",
    "model = scaler.fit(X_bow_unigram)\n",
    "X_bow_unigram = model.transform(X_bow_unigram)\n",
    "\n",
    "\n",
    "# Split data into training and testing\n",
    "X_train, X_test, y_train, y_test = train_test_split(X_bow_unigram, df['sentiment_numeric'].values, test_size=0.5, random_state=42)"
   ]
  },
  {
   "cell_type": "code",
   "execution_count": null,
   "metadata": {},
   "outputs": [],
   "source": [
    "train_dataset = NumpyDataset(X_train, y_train)\n",
    "test_dataset = NumpyDataset(X_test, y_test)"
   ]
  },
  {
   "cell_type": "code",
   "execution_count": null,
   "metadata": {},
   "outputs": [],
   "source": [
    "# Prepare DataLoader\n",
    "train_loader = DataLoader(dataset=train_dataset, batch_size=batch_size, shuffle=True)\n",
    "test_loader = DataLoader(dataset=test_dataset, batch_size=batch_size, shuffle=False)\n",
    "# Instantiate Model, Define Loss and Optimizer\n",
    "model = LSTMNetwork(input_size, hidden_size, num_layers, output_size)\n",
    "model = model.to(device)\n",
    "criterion = nn.MSELoss()\n",
    "optimizer = optim.Adam(model.parameters(), lr=0.001)\n",
    "# Run Training Loops\n",
    "train_model(model, train_loader, criterion, optimizer, num_epochs)"
   ]
  },
  {
   "cell_type": "code",
   "execution_count": null,
   "metadata": {},
   "outputs": [],
   "source": [
    "# Run Test\n",
    "y_test, y_pre = test_model(model, test_loader)\n",
    "print(\"LSTM with BoW using unigrams and 7000 features:\")\n",
    "evaluate_model(y_test, y_pre)"
   ]
  },
  {
   "cell_type": "markdown",
   "metadata": {},
   "source": [
    "### Bigram"
   ]
  },
  {
   "cell_type": "code",
   "execution_count": null,
   "metadata": {},
   "outputs": [],
   "source": [
    "# Bigram\n",
    "vectorizer_bow_bigram = CountVectorizer(max_features=7000, ngram_range=(1, 2))\n",
    "X_bow_bigram = vectorizer_bow_bigram.fit_transform(df['cleaned_review']).toarray()\n",
    "\n",
    "print(\"BoW bigram Feature Shape with 7000 features:\", X_bow_bigram.shape)\n",
    "\n",
    "# Convert to numpy array\n",
    "X_bow_bigram = np.asarray(X_bow_bigram)\n",
    "\n",
    "scaler = StandardScaler()\n",
    "model = scaler.fit(X_bow_bigram)\n",
    "X_bow_bigram = model.transform(X_bow_bigram)\n",
    "\n",
    "# Split data into training and testing\n",
    "X_train, X_test, y_train, y_test = train_test_split(X_bow_bigram, df['sentiment_numeric'].values, test_size=0.5, random_state=42)\n"
   ]
  },
  {
   "cell_type": "code",
   "execution_count": null,
   "metadata": {},
   "outputs": [],
   "source": [
    "train_dataset = NumpyDataset(X_train, y_train)\n",
    "test_dataset = NumpyDataset(X_test, y_test)"
   ]
  },
  {
   "cell_type": "code",
   "execution_count": null,
   "metadata": {},
   "outputs": [],
   "source": [
    "# Prepare DataLoader\n",
    "train_loader = DataLoader(dataset=train_dataset, batch_size=batch_size, shuffle=True)\n",
    "test_loader = DataLoader(dataset=test_dataset, batch_size=batch_size, shuffle=False)\n",
    "# Instantiate Model, Define Loss and Optimizer\n",
    "model = LSTMNetwork(input_size, hidden_size, num_layers, output_size)\n",
    "model = model.to(device)\n",
    "criterion = nn.MSELoss()\n",
    "optimizer = optim.Adam(model.parameters(), lr=0.001)\n",
    "# Run Training Loops\n",
    "train_model(model, train_loader, criterion, optimizer, num_epochs)"
   ]
  },
  {
   "cell_type": "code",
   "execution_count": null,
   "metadata": {},
   "outputs": [],
   "source": [
    "# Run Test\n",
    "y_test, y_pre = test_model(model, test_loader)\n",
    "print(\"LSTM with BoW using bigrams and 7000 features:\")\n",
    "evaluate_model(y_test, y_pre)"
   ]
  },
  {
   "cell_type": "markdown",
   "metadata": {},
   "source": [
    "### Trigram"
   ]
  },
  {
   "cell_type": "code",
   "execution_count": null,
   "metadata": {},
   "outputs": [],
   "source": [
    "# Trigram\n",
    "vectorizer_bow_trigram = CountVectorizer(max_features=7000, ngram_range=(1, 3))\n",
    "X_bow_trigram = vectorizer_bow_trigram.fit_transform(df['cleaned_review']).toarray()\n",
    "\n",
    "print(\"BoW trigram Feature Shape with 7000 features:\", X_bow_trigram.shape)\n",
    "\n",
    "# Convert to numpy array\n",
    "X_bow_trigram = np.asarray(X_bow_trigram)\n",
    "\n",
    "scaler = StandardScaler()\n",
    "model = scaler.fit(X_bow_trigram)\n",
    "X_bow_trigram = model.transform(X_bow_trigram)\n",
    "\n",
    "# Split data into training and testing\n",
    "X_train, X_test, y_train, y_test = train_test_split(X_bow_trigram, df['sentiment_numeric'].values, test_size=0.5, random_state=42)\n"
   ]
  },
  {
   "cell_type": "code",
   "execution_count": null,
   "metadata": {},
   "outputs": [],
   "source": [
    "train_dataset = NumpyDataset(X_train, y_train)\n",
    "test_dataset = NumpyDataset(X_test, y_test)"
   ]
  },
  {
   "cell_type": "code",
   "execution_count": null,
   "metadata": {},
   "outputs": [],
   "source": [
    "# Prepare DataLoader\n",
    "train_loader = DataLoader(dataset=train_dataset, batch_size=batch_size, shuffle=True)\n",
    "test_loader = DataLoader(dataset=test_dataset, batch_size=batch_size, shuffle=False)\n",
    "# Instantiate Model, Define Loss and Optimizer\n",
    "model = LSTMNetwork(input_size, hidden_size, num_layers, output_size)\n",
    "model = model.to(device)\n",
    "criterion = nn.MSELoss()\n",
    "optimizer = optim.Adam(model.parameters(), lr=0.001)\n",
    "# Run Training Loops\n",
    "train_model(model, train_loader, criterion, optimizer, num_epochs)"
   ]
  },
  {
   "cell_type": "code",
   "execution_count": null,
   "metadata": {},
   "outputs": [],
   "source": [
    "# Run Test\n",
    "y_test, y_pre = test_model(model, test_loader)\n",
    "print(\"LSTM with BoW using trigrams and 7000 features:\")\n",
    "evaluate_model(y_test, y_pre)"
   ]
  }
 ],
 "metadata": {
  "kernelspec": {
   "display_name": "fth_cuda_3_8",
   "language": "python",
   "name": "python3"
  },
  "language_info": {
   "codemirror_mode": {
    "name": "ipython",
    "version": 3
   },
   "file_extension": ".py",
   "mimetype": "text/x-python",
   "name": "python",
   "nbconvert_exporter": "python",
   "pygments_lexer": "ipython3",
   "version": "3.8.20"
  }
 },
 "nbformat": 4,
 "nbformat_minor": 2
}
