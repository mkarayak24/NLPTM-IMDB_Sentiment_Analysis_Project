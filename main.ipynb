{
 "cells": [
  {
   "cell_type": "code",
   "execution_count": 1,
   "metadata": {},
   "outputs": [
    {
     "name": "stderr",
     "output_type": "stream",
     "text": [
      "[nltk_data] Downloading package punkt to\n",
      "[nltk_data]     C:\\Users\\Keaton\\AppData\\Roaming\\nltk_data...\n",
      "[nltk_data]   Package punkt is already up-to-date!\n",
      "[nltk_data] Downloading package stopwords to\n",
      "[nltk_data]     C:\\Users\\Keaton\\AppData\\Roaming\\nltk_data...\n",
      "[nltk_data]   Package stopwords is already up-to-date!\n",
      "[nltk_data] Downloading package wordnet to\n",
      "[nltk_data]     C:\\Users\\Keaton\\AppData\\Roaming\\nltk_data...\n",
      "[nltk_data]   Package wordnet is already up-to-date!\n",
      "[nltk_data] Downloading package averaged_perceptron_tagger to\n",
      "[nltk_data]     C:\\Users\\Keaton\\AppData\\Roaming\\nltk_data...\n",
      "[nltk_data]   Package averaged_perceptron_tagger is already up-to-\n",
      "[nltk_data]       date!\n"
     ]
    },
    {
     "data": {
      "text/plain": [
       "True"
      ]
     },
     "execution_count": 1,
     "metadata": {},
     "output_type": "execute_result"
    }
   ],
   "source": [
    "import pandas as pd\n",
    "import numpy as np\n",
    "import matplotlib.pyplot as plt\n",
    "import seaborn as sns\n",
    "from sklearn.feature_extraction.text import CountVectorizer, TfidfVectorizer\n",
    "from sklearn.model_selection import train_test_split\n",
    "from sklearn.linear_model import LogisticRegression\n",
    "from sklearn.svm import SVC\n",
    "from sklearn.ensemble import RandomForestClassifier\n",
    "from sklearn.metrics import accuracy_score, precision_score, recall_score, f1_score, confusion_matrix\n",
    "from sklearn.pipeline import Pipeline\n",
    "import nltk\n",
    "from nltk.corpus import stopwords\n",
    "from nltk.tokenize import word_tokenize\n",
    "from nltk.stem import PorterStemmer, WordNetLemmatizer\n",
    "import string\n",
    "from wordcloud import WordCloud\n",
    "import re\n",
    "from collections import Counter\n",
    "from gensim import corpora\n",
    "from gensim.models import LdaModel\n",
    "\n",
    "nltk.download('punkt')\n",
    "nltk.download('stopwords')\n",
    "nltk.download('wordnet')\n",
    "nltk.download('averaged_perceptron_tagger')"
   ]
  },
  {
   "cell_type": "code",
   "execution_count": 2,
   "metadata": {},
   "outputs": [
    {
     "data": {
      "text/html": [
       "<div>\n",
       "<style scoped>\n",
       "    .dataframe tbody tr th:only-of-type {\n",
       "        vertical-align: middle;\n",
       "    }\n",
       "\n",
       "    .dataframe tbody tr th {\n",
       "        vertical-align: top;\n",
       "    }\n",
       "\n",
       "    .dataframe thead th {\n",
       "        text-align: right;\n",
       "    }\n",
       "</style>\n",
       "<table border=\"1\" class=\"dataframe\">\n",
       "  <thead>\n",
       "    <tr style=\"text-align: right;\">\n",
       "      <th></th>\n",
       "      <th>review</th>\n",
       "      <th>sentiment</th>\n",
       "    </tr>\n",
       "  </thead>\n",
       "  <tbody>\n",
       "    <tr>\n",
       "      <th>0</th>\n",
       "      <td>One of the other reviewers has mentioned that ...</td>\n",
       "      <td>positive</td>\n",
       "    </tr>\n",
       "    <tr>\n",
       "      <th>1</th>\n",
       "      <td>A wonderful little production. &lt;br /&gt;&lt;br /&gt;The...</td>\n",
       "      <td>positive</td>\n",
       "    </tr>\n",
       "    <tr>\n",
       "      <th>2</th>\n",
       "      <td>I thought this was a wonderful way to spend ti...</td>\n",
       "      <td>positive</td>\n",
       "    </tr>\n",
       "    <tr>\n",
       "      <th>3</th>\n",
       "      <td>Basically there's a family where a little boy ...</td>\n",
       "      <td>negative</td>\n",
       "    </tr>\n",
       "    <tr>\n",
       "      <th>4</th>\n",
       "      <td>Petter Mattei's \"Love in the Time of Money\" is...</td>\n",
       "      <td>positive</td>\n",
       "    </tr>\n",
       "  </tbody>\n",
       "</table>\n",
       "</div>"
      ],
      "text/plain": [
       "                                              review sentiment\n",
       "0  One of the other reviewers has mentioned that ...  positive\n",
       "1  A wonderful little production. <br /><br />The...  positive\n",
       "2  I thought this was a wonderful way to spend ti...  positive\n",
       "3  Basically there's a family where a little boy ...  negative\n",
       "4  Petter Mattei's \"Love in the Time of Money\" is...  positive"
      ]
     },
     "execution_count": 2,
     "metadata": {},
     "output_type": "execute_result"
    }
   ],
   "source": [
    "# Load data\n",
    "df = pd.read_csv('IMDB_Dataset.csv') \n",
    "df.head()"
   ]
  },
  {
   "cell_type": "markdown",
   "metadata": {},
   "source": [
    "1- Data Exploration: Compute basic statistics (mean, median, min, max) for the length of the reviews (measured by the\n",
    "number of words and characters). Visualize the distribution of review lengths using histograms or box plots. Compare the\n",
    "length of reviews for positive and negative sentiments."
   ]
  },
  {
   "cell_type": "code",
   "execution_count": 4,
   "metadata": {},
   "outputs": [
    {
     "name": "stdout",
     "output_type": "stream",
     "text": [
      "Word Count Stats:\n",
      "count    50000.000000\n",
      "mean       231.156940\n",
      "std        171.343997\n",
      "min          4.000000\n",
      "25%        126.000000\n",
      "50%        173.000000\n",
      "75%        280.000000\n",
      "max       2470.000000\n",
      "Name: word_count, dtype: float64\n",
      "\n",
      "Character Count Stats:\n",
      "count    50000.000000\n",
      "mean      1309.431020\n",
      "std        989.728014\n",
      "min         32.000000\n",
      "25%        699.000000\n",
      "50%        970.000000\n",
      "75%       1590.250000\n",
      "max      13704.000000\n",
      "Name: char_count, dtype: float64\n"
     ]
    }
   ],
   "source": [
    "# Add review length columns\n",
    "df['word_count'] = df['review'].apply(lambda x: len(x.split()))\n",
    "df['char_count'] = df['review'].apply(lambda x: len(x))\n",
    "\n",
    "# Calculate basic statistics\n",
    "print(\"Word Count Stats:\")\n",
    "print(df['word_count'].describe())\n",
    "print(\"\\nCharacter Count Stats:\")\n",
    "print(df['char_count'].describe())"
   ]
  },
  {
   "cell_type": "code",
   "execution_count": 5,
   "metadata": {},
   "outputs": [
    {
     "data": {
      "image/png": "[encoded data removed]",
      "text/plain": [
       "<Figure size 1000x600 with 1 Axes>"
      ]
     },
     "metadata": {},
     "output_type": "display_data"
    },
    {
     "data": {
      "image/png": "[encoded data removed]",
      "text/plain": [
       "<Figure size 640x480 with 1 Axes>"
      ]
     },
     "metadata": {},
     "output_type": "display_data"
    }
   ],
   "source": [
    "# Histograms for word count\n",
    "plt.figure(figsize=(10,6))\n",
    "sns.histplot(df['word_count'], bins=30, kde=True)\n",
    "plt.title('Distribution of Review Word Counts')\n",
    "plt.xlabel('Word Count')\n",
    "plt.show()\n",
    "\n",
    "# Box plot comparison for positive vs. negative reviews\n",
    "sns.boxplot(x='sentiment', y='word_count', data=df)\n",
    "plt.title('Review Length Comparison: Positive vs. Negative')\n",
    "plt.show();"
   ]
  },
  {
   "cell_type": "code",
   "execution_count": 7,
   "metadata": {},
   "outputs": [
    {
     "data": {
      "image/png": "[encoded data removed]",
      "text/plain": [
       "<Figure size 1000x600 with 1 Axes>"
      ]
     },
     "metadata": {},
     "output_type": "display_data"
    },
    {
     "data": {
      "image/png": "[encoded data removed]",
      "text/plain": [
       "<Figure size 640x480 with 1 Axes>"
      ]
     },
     "metadata": {},
     "output_type": "display_data"
    }
   ],
   "source": [
    "# Histograms for char count\n",
    "plt.figure(figsize=(10,6))\n",
    "sns.histplot(df['char_count'], bins=30, kde=True)\n",
    "plt.title('Distribution of Review Char Counts')\n",
    "plt.xlabel('Char Count')\n",
    "plt.show()\n",
    "\n",
    "# Box plot comparison for positive vs. negative reviews\n",
    "sns.boxplot(x='sentiment', y='char_count', data=df)\n",
    "plt.title('Review Char Length Comparison: Positive vs. Negative')\n",
    "plt.show();"
   ]
  },
  {
   "cell_type": "code",
   "execution_count": 11,
   "metadata": {},
   "outputs": [
    {
     "name": "stderr",
     "output_type": "stream",
     "text": [
      "C:\\Users\\Keaton\\AppData\\Local\\Temp\\ipykernel_13924\\3931274703.py:11: MarkupResemblesLocatorWarning: The input looks more like a filename than markup. You may want to open this file and pass the filehandle into Beautiful Soup.\n",
      "  soup = BeautifulSoup(review, \"html.parser\")\n"
     ]
    },
    {
     "name": "stdout",
     "output_type": "stream",
     "text": [
      "{'hr', 'p', 'i', 'br', 'grin', 'http:', 'spoiler', 'sigh', 'em', 'sp?)'}\n"
     ]
    }
   ],
   "source": [
    "import pandas as pd\n",
    "from bs4 import BeautifulSoup\n",
    "\n",
    "# Sample DataFrame df (replace this with your actual data)\n",
    "# df = pd.DataFrame({'review': ['<p>This is a <b>bold</b> review.</p>', '<div><a href=\"#\">Link</a></div>']})\n",
    "\n",
    "# Function to extract unique HTML tags from each review in df['review']\n",
    "def extract_html_tags(reviews):\n",
    "    unique_tags = set()  # Set to store unique tags\n",
    "    for review in reviews:\n",
    "        soup = BeautifulSoup(review, \"html.parser\")\n",
    "        for tag in soup.find_all(True):  # True finds all tags\n",
    "            unique_tags.add(tag.name)\n",
    "    return unique_tags\n",
    "\n",
    "# Applying the function to the 'review' column\n",
    "unique_html_tags = extract_html_tags(df['review'])\n",
    "\n",
    "# Displaying the unique HTML tags\n",
    "print(unique_html_tags)"
   ]
  },
  {
   "cell_type": "markdown",
   "metadata": {},
   "source": [
    "2- Data Cleaning: Perform standard text preprocessing tasks, including: Removing stop words, punctuation, and special\n",
    "characters, Lowercasing the text, Tokenizing the reviews, Stemming or lemmatization."
   ]
  },
  {
   "cell_type": "code",
   "execution_count": null,
   "metadata": {},
   "outputs": [],
   "source": [
    "stop_words = set(stopwords.words('english'))\n",
    "ps = PorterStemmer()\n",
    "\n",
    "def preprocess_text(text):\n",
    "    # Lowercase\n",
    "    text = text.lower()\n",
    "    # Remove HTML tags\n",
    "    text = re.sub(r'<.*?>', ' ', text)\n",
    "    # Remove URLs\n",
    "    text = re.sub(r'http\\S+', ' ', text)\n",
    "    # Remove punctuation\n",
    "    text = text.translate(str.maketrans('', '', string.punctuation))\n",
    "    # Remove special characters and digits\n",
    "    text = re.sub(r'\\W|\\d', ' ', text)\n",
    "    # Tokenization\n",
    "    tokens = word_tokenize(text)\n",
    "    # Remove stopwords and stemming\n",
    "    tokens = [ps.stem(word) for word in tokens if word not in stop_words]\n",
    "    return ' '.join(tokens)\n",
    "\n",
    "# Apply preprocessing\n",
    "df['cleaned_review'] = df['review'].apply(preprocess_text)"
   ]
  },
  {
   "cell_type": "markdown",
   "metadata": {},
   "source": [
    "3- Review Word Frequency Analysis: 1- Most Common Words: Generate a word frequency count for both the positive and\n",
    "negative reviews. Visualize the most frequent words using word clouds and bar charts, with separate visualizations for positive\n",
    "and negative reviews. and 2- N-gram Analysis: Explore bi-grams and tri-grams (two- and three-word combinations) to\n",
    "uncover common phrases in the reviews. Separate this analysis for positive and negative reviews to observe any recurring\n",
    "phrases that indicate strong sentiment."
   ]
  },
  {
   "cell_type": "code",
   "execution_count": null,
   "metadata": {},
   "outputs": [],
   "source": [
    "df['word_count'] = df['cleaned_review'].apply(lambda x: len(x.split()))\n",
    "df['char_count'] = df['cleaned_review'].apply(lambda x: len(x))"
   ]
  },
  {
   "cell_type": "code",
   "execution_count": null,
   "metadata": {},
   "outputs": [],
   "source": [
    "df['cleaned_review']"
   ]
  },
  {
   "cell_type": "code",
   "execution_count": null,
   "metadata": {},
   "outputs": [],
   "source": [
    "# Separate positive and negative reviews\n",
    "positive_reviews = df[df['sentiment'] == 'positive']['cleaned_review']\n",
    "negative_reviews = df[df['sentiment'] == 'negative']['cleaned_review']"
   ]
  },
  {
   "cell_type": "code",
   "execution_count": null,
   "metadata": {},
   "outputs": [],
   "source": [
    "# Function to get word frequency\n",
    "def get_word_frequencies(text):\n",
    "    words = ' '.join(text).split()\n",
    "    word_count = Counter(words)\n",
    "    return word_count\n",
    "\n",
    "# Get word frequencies for positive and negative reviews\n",
    "positive_word_freq = get_word_frequencies(positive_reviews)\n",
    "negative_word_freq = get_word_frequencies(negative_reviews)\n",
    "\n",
    "# Convert to DataFrame for easier viewing and sorting\n",
    "positive_word_freq_df = pd.DataFrame(positive_word_freq.items(), columns=['Word', 'Frequency']).sort_values(by='Frequency', ascending=False)\n",
    "negative_word_freq_df = pd.DataFrame(negative_word_freq.items(), columns=['Word', 'Frequency']).sort_values(by='Frequency', ascending=False)\n",
    "\n",
    "# Display top 10 most common words for each\n",
    "print(\"Top 10 words in Positive Reviews:\")\n",
    "print(positive_word_freq_df.head(10))\n",
    "\n",
    "print(\"\\nTop 10 words in Negative Reviews:\")\n",
    "print(negative_word_freq_df.head(10))"
   ]
  },
  {
   "cell_type": "code",
   "execution_count": null,
   "metadata": {},
   "outputs": [],
   "source": [
    "# Function to plot top words\n",
    "def plot_top_words(word_freq_df, title):\n",
    "    top_words = word_freq_df.head(10)\n",
    "    plt.figure(figsize=(10,6))\n",
    "    sns.barplot(x='Frequency', y='Word', data=top_words)\n",
    "    plt.title(title)\n",
    "    plt.xlabel('Frequency')\n",
    "    plt.ylabel('Word')\n",
    "    plt.show()\n",
    "\n",
    "# Plot top words for positive and negative reviews\n",
    "plot_top_words(positive_word_freq_df, 'Top 10 Words in Positive Reviews')\n",
    "plot_top_words(negative_word_freq_df, 'Top 10 Words in Negative Reviews')"
   ]
  },
  {
   "cell_type": "code",
   "execution_count": null,
   "metadata": {},
   "outputs": [],
   "source": [
    "# Generate word cloud\n",
    "def generate_wordcloud(text):\n",
    "    wordcloud = WordCloud(width=800, height=400, background_color='white').generate(' '.join(text))\n",
    "    plt.figure(figsize=(10, 6))\n",
    "    plt.imshow(wordcloud, interpolation='bilinear')\n",
    "    plt.axis('off')\n",
    "    plt.show()\n",
    "\n",
    "generate_wordcloud(positive_reviews)\n",
    "generate_wordcloud(negative_reviews)"
   ]
  },
  {
   "cell_type": "code",
   "execution_count": null,
   "metadata": {},
   "outputs": [],
   "source": [
    "# Function to get n-grams\n",
    "def get_top_ngrams(corpus, n=2, top_n=10):\n",
    "    \"\"\"\n",
    "    Generate the most common n-grams from a list of documents.\n",
    "    \n",
    "    :param corpus: List of documents (text reviews)\n",
    "    :param n: The number of words in the n-gram (2 for bi-grams, 3 for tri-grams)\n",
    "    :param top_n: The number of top n-grams to return\n",
    "    :return: DataFrame of the top n-grams and their frequencies\n",
    "    \"\"\"\n",
    "    vec = CountVectorizer(ngram_range=(n, n), stop_words='english').fit(corpus)\n",
    "    ngram_freq = vec.transform(corpus)\n",
    "    sum_ngrams = ngram_freq.sum(axis=0)\n",
    "    \n",
    "    # Get n-grams and their frequencies\n",
    "    ngrams = [(ngram, sum_ngrams[0, idx]) for ngram, idx in vec.vocabulary_.items()]\n",
    "    ngrams = sorted(ngrams, key=lambda x: x[1], reverse=True)[:top_n]\n",
    "    \n",
    "    # Convert to DataFrame for easier viewing\n",
    "    ngram_df = pd.DataFrame(ngrams, columns=['N-gram', 'Frequency'])\n",
    "    return ngram_df\n",
    "\n",
    "# Example usage:\n",
    "positive_bigrams = get_top_ngrams(positive_reviews, n=2, top_n=10)\n",
    "negative_bigrams = get_top_ngrams(negative_reviews, n=2, top_n=10)\n",
    "\n",
    "positive_trigrams = get_top_ngrams(positive_reviews, n=3, top_n=10)\n",
    "negative_trigrams = get_top_ngrams(negative_reviews, n=3, top_n=10)\n"
   ]
  },
  {
   "cell_type": "code",
   "execution_count": null,
   "metadata": {},
   "outputs": [],
   "source": [
    "# Display results\n",
    "print(\"Top 10 Bi-grams in Positive Reviews:\")\n",
    "print(positive_bigrams)\n",
    "\n",
    "print(\"\\nTop 10 Bi-grams in Negative Reviews:\")\n",
    "print(negative_bigrams)"
   ]
  },
  {
   "cell_type": "code",
   "execution_count": null,
   "metadata": {},
   "outputs": [],
   "source": [
    "print(\"\\nTop 10 Tri-grams in Positive Reviews:\")\n",
    "print(positive_trigrams)\n",
    "\n",
    "print(\"\\nTop 10 Tri-grams in Negative Reviews:\")\n",
    "print(negative_trigrams)"
   ]
  },
  {
   "cell_type": "markdown",
   "metadata": {},
   "source": [
    "4- Correlation Between Review Length and Sentiment: Calculate the correlation between sentiment and review length and\n",
    "analyze whether longer or shorter reviews tend to be positive or negative. Plot the average review length for positive and\n",
    "negative reviews to explore potential patterns."
   ]
  },
  {
   "cell_type": "code",
   "execution_count": null,
   "metadata": {},
   "outputs": [],
   "source": [
    "# Convert sentiment to numeric values: 1 for positive, 0 for negative\n",
    "df['sentiment_numeric'] = df['sentiment'].apply(lambda x: 1 if x == 'positive' else 0)\n",
    "\n",
    "# Calculate the correlation between sentiment and review length (word count)\n",
    "correlation = df['sentiment_numeric'].corr(df['word_count'])\n",
    "print(f\"Correlation between sentiment and review length: {correlation:.2f}\")"
   ]
  },
  {
   "cell_type": "code",
   "execution_count": null,
   "metadata": {},
   "outputs": [],
   "source": [
    "# Calculate average review length for positive and negative reviews\n",
    "average_length_positive = df[df['sentiment'] == 'positive']['word_count'].mean()\n",
    "average_length_negative = df[df['sentiment'] == 'negative']['word_count'].mean()\n",
    "\n",
    "print(f\"Average Review Length (Positive): {average_length_positive:.2f} words\")\n",
    "print(f\"Average Review Length (Negative): {average_length_negative:.2f} words\")"
   ]
  },
  {
   "cell_type": "code",
   "execution_count": null,
   "metadata": {},
   "outputs": [],
   "source": [
    "# Create a DataFrame for visualization\n",
    "avg_length_df = pd.DataFrame({\n",
    "    'Sentiment': ['Positive', 'Negative'],\n",
    "    'Average Word Count': [average_length_positive, average_length_negative]\n",
    "})\n",
    "\n",
    "# Plot the average review length\n",
    "plt.figure(figsize=(8, 6))\n",
    "sns.barplot(x='Sentiment', y='Average Word Count', data=avg_length_df, palette='viridis')\n",
    "plt.title('Average Review Length by Sentiment')\n",
    "plt.xlabel('Sentiment')\n",
    "plt.ylabel('Average Word Count')\n",
    "plt.show()"
   ]
  },
  {
   "cell_type": "markdown",
   "metadata": {},
   "source": [
    "5- Review Complexity Analysis: Calculate readability metrics such as the Flesch-Kincaid or Gunning Fog Index for each\n",
    "review to assess its complexity. This analysis explores whether there is a correlation between the complexity of the review\n",
    "and its sentiment (e.g., do more complex reviews tend to be positive or negative?). Also, lexical diversity, which is the ratio\n",
    "of unique words to total words, will be measured for each review. The lexical diversity of positive and negative reviews will\n",
    "then be compared to identify any differences in language richness between the two sentiment classes."
   ]
  },
  {
   "cell_type": "code",
   "execution_count": null,
   "metadata": {},
   "outputs": [],
   "source": [
    "import textstat\n",
    "\n",
    "# Function to calculate Flesch-Kincaid Grade Level and Gunning Fog Index\n",
    "def calculate_readability_metrics(text):\n",
    "    fk_grade = textstat.flesch_kincaid_grade(text)\n",
    "    fog_index = textstat.gunning_fog(text)\n",
    "    return fk_grade, fog_index\n",
    "\n",
    "# Apply functions to each review\n",
    "df['flesch_kincaid_grade'], df['gunning_fog_index'] = zip(*df['cleaned_review'].apply(calculate_readability_metrics))\n",
    "\n",
    "# Show a sample of the DataFrame\n",
    "df[['cleaned_review', 'flesch_kincaid_grade', 'gunning_fog_index', 'sentiment']].head()"
   ]
  },
  {
   "cell_type": "code",
   "execution_count": null,
   "metadata": {},
   "outputs": [],
   "source": [
    "def lexical_diversity(text):\n",
    "    words = text.split()\n",
    "    return len(set(words)) / len(words)\n",
    "\n",
    "df['lexical_diversity'] = df['cleaned_review'].apply(lexical_diversity)\n",
    "\n",
    "# Compare between positive and negative\n",
    "sns.boxplot(x='sentiment', y='lexical_diversity', data=df)\n",
    "plt.title('Lexical Diversity Comparison: Positive vs. Negative')\n",
    "plt.show()"
   ]
  },
  {
   "cell_type": "code",
   "execution_count": null,
   "metadata": {},
   "outputs": [],
   "source": [
    "# Calculate correlations\n",
    "fk_correlation = df['flesch_kincaid_grade'].corr(df['sentiment_numeric'])\n",
    "fog_correlation = df['gunning_fog_index'].corr(df['sentiment_numeric'])\n",
    "lexical_diversity_correlation = df['lexical_diversity'].corr(df['sentiment_numeric'])\n",
    "\n",
    "print(f\"Correlation between Flesch-Kincaid Grade Level and Sentiment: {fk_correlation:.2f}\")\n",
    "print(f\"Correlation between Gunning Fog Index and Sentiment: {fog_correlation:.2f}\")\n",
    "print(f\"Correlation between Lexical Diversity and Sentiment: {lexical_diversity_correlation:.2f}\")"
   ]
  },
  {
   "cell_type": "code",
   "execution_count": null,
   "metadata": {},
   "outputs": [],
   "source": [
    "# Calculate average lexical diversity for positive and negative reviews\n",
    "avg_lexical_diversity_positive = df[df['sentiment'] == 'positive']['lexical_diversity'].mean()\n",
    "avg_lexical_diversity_negative = df[df['sentiment'] == 'negative']['lexical_diversity'].mean()\n",
    "\n",
    "print(f\"Average Lexical Diversity (Positive): {avg_lexical_diversity_positive:.2f}\")\n",
    "print(f\"Average Lexical Diversity (Negative): {avg_lexical_diversity_negative:.2f}\")\n",
    "\n",
    "# Visualize lexical diversity comparison\n",
    "avg_lexical_diversity_df = pd.DataFrame({\n",
    "    'Sentiment': ['Positive', 'Negative'],\n",
    "    'Average Lexical Diversity': [avg_lexical_diversity_positive, avg_lexical_diversity_negative]\n",
    "})\n",
    "\n",
    "plt.figure(figsize=(8, 6))\n",
    "sns.barplot(x='Sentiment', y='Average Lexical Diversity', data=avg_lexical_diversity_df, palette='viridis')\n",
    "plt.title('Average Lexical Diversity by Sentiment')\n",
    "plt.xlabel('Sentiment')\n",
    "plt.ylabel('Lexical Diversity')\n",
    "plt.show()"
   ]
  },
  {
   "cell_type": "markdown",
   "metadata": {},
   "source": [
    "6- Part-of-Speech (POS) Tagging Analysis: Apply POS tagging to the text data to categorize words into grammatical\n",
    "categories such as nouns, verbs, adjectives, etc. The aim is to explore the frequency and distribution of various parts of speech\n",
    "in both positive and negative reviews. For instance, investigate whether adjectives and adverbs, which often convey sentiment,\n",
    "occur more frequently in positive reviews compared to negative ones.\n",
    "7- Sentiment Analysis on Review Topics: Using topic modeling tech"
   ]
  },
  {
   "cell_type": "code",
   "execution_count": null,
   "metadata": {},
   "outputs": [],
   "source": [
    "# Function to perform POS tagging and count frequencies of POS categories\n",
    "def pos_tag_analysis(text):\n",
    "    # Tokenize the text\n",
    "    tokens = nltk.word_tokenize(text)\n",
    "    # Perform POS tagging\n",
    "    pos_tags = nltk.pos_tag(tokens)\n",
    "    # Count POS categories\n",
    "    pos_counts = {\n",
    "        'nouns': 0,\n",
    "        'verbs': 0,\n",
    "        'adjectives': 0,\n",
    "        'adverbs': 0\n",
    "    }\n",
    "    for word, tag in pos_tags:\n",
    "        if tag.startswith('NN'):  # Noun\n",
    "            pos_counts['nouns'] += 1\n",
    "        elif tag.startswith('VB'):  # Verb\n",
    "            pos_counts['verbs'] += 1\n",
    "        elif tag.startswith('JJ'):  # Adjective\n",
    "            pos_counts['adjectives'] += 1\n",
    "        elif tag.startswith('RB'):  # Adverb\n",
    "            pos_counts['adverbs'] += 1\n",
    "    \n",
    "    return pos_counts\n",
    "\n",
    "# Apply the function to each review and store results in new columns\n",
    "df[['nouns', 'verbs', 'adjectives', 'adverbs']] = df['cleaned_review'].apply(lambda x: pd.Series(pos_tag_analysis(x)))\n",
    "\n",
    "# Show a sample of the DataFrame\n",
    "df[['cleaned_review', 'nouns', 'verbs', 'adjectives', 'adverbs', 'sentiment']].head()"
   ]
  },
  {
   "cell_type": "code",
   "execution_count": null,
   "metadata": {},
   "outputs": [],
   "source": [
    "# Calculate average counts of POS categories for positive and negative reviews\n",
    "avg_pos_positive = df[df['sentiment'] == 'positive'][['nouns', 'verbs', 'adjectives', 'adverbs']].mean()\n",
    "avg_pos_negative = df[df['sentiment'] == 'negative'][['nouns', 'verbs', 'adjectives', 'adverbs']].mean()\n",
    "\n",
    "# Combine into a DataFrame for easier comparison\n",
    "avg_pos_df = pd.DataFrame({\n",
    "    'POS': ['Nouns', 'Verbs', 'Adjectives', 'Adverbs'],\n",
    "    'Positive': avg_pos_positive.values,\n",
    "    'Negative': avg_pos_negative.values\n",
    "})\n",
    "\n",
    "print(avg_pos_df)"
   ]
  },
  {
   "cell_type": "code",
   "execution_count": null,
   "metadata": {},
   "outputs": [],
   "source": [
    "# Melt DataFrame for plotting\n",
    "avg_pos_melted = avg_pos_df.melt(id_vars='POS', value_vars=['Positive', 'Negative'], var_name='Sentiment', value_name='Average Count')\n",
    "\n",
    "# Plot the average POS counts\n",
    "plt.figure(figsize=(10, 6))\n",
    "sns.barplot(x='POS', y='Average Count', hue='Sentiment', data=avg_pos_melted, palette='viridis')\n",
    "plt.title('Average POS Counts by Sentiment')\n",
    "plt.xlabel('Part of Speech (POS)')\n",
    "plt.ylabel('Average Count')\n",
    "plt.show()"
   ]
  },
  {
   "cell_type": "markdown",
   "metadata": {},
   "source": [
    "7- Sentiment Analysis on Review Topics: Using topic modeling techniques such as Latent Dirichlet Allocation (LDA),\n",
    "identify the main topics in the reviews. After identifying these topics, analyze the sentiment of the reviews within each topic\n",
    "to determine if specific topics tend to evoke more positive or negative sentiment."
   ]
  },
  {
   "cell_type": "code",
   "execution_count": null,
   "metadata": {},
   "outputs": [],
   "source": [
    "def tokenize_text(text):\n",
    "    tokens = word_tokenize(text)\n",
    "    return tokens\n",
    "\n",
    "# Apply preprocessing to all reviews\n",
    "df['tokens'] = df['cleaned_review'].apply(tokenize_text)"
   ]
  },
  {
   "cell_type": "code",
   "execution_count": null,
   "metadata": {},
   "outputs": [],
   "source": [
    "# Create dictionary and corpus for LDA\n",
    "dictionary = corpora.Dictionary(df['tokens'])\n",
    "corpus = [dictionary.doc2bow(tokens) for tokens in df['tokens']]"
   ]
  },
  {
   "cell_type": "code",
   "execution_count": null,
   "metadata": {},
   "outputs": [],
   "source": [
    "# Set number of topics\n",
    "num_topics = 5\n",
    "\n",
    "# Train the LDA model\n",
    "lda_model = LdaModel(corpus, num_topics=num_topics, id2word=dictionary, passes=10)\n",
    "\n",
    "# Print the topics\n",
    "topics = lda_model.print_topics(num_words=5)\n",
    "for idx, topic in topics:\n",
    "    print(f\"Topic {idx}: {topic}\")"
   ]
  },
  {
   "cell_type": "code",
   "execution_count": null,
   "metadata": {},
   "outputs": [],
   "source": [
    "# Function to get the dominant topic for each review\n",
    "def get_dominant_topic(lda_model, bow):\n",
    "    topics = lda_model[bow]\n",
    "    dominant_topic = max(topics, key=lambda x: x[1])[0]\n",
    "    return dominant_topic\n",
    "\n",
    "# Apply the function to get the dominant topic for each review\n",
    "df['dominant_topic'] = [get_dominant_topic(lda_model, bow) for bow in corpus]"
   ]
  },
  {
   "cell_type": "code",
   "execution_count": null,
   "metadata": {},
   "outputs": [],
   "source": [
    "# Group by topic and sentiment to see distribution\n",
    "topic_sentiment_distribution = df.groupby(['dominant_topic', 'sentiment']).size().unstack().fillna(0)\n",
    "topic_sentiment_distribution['Total'] = topic_sentiment_distribution.sum(axis=1)\n",
    "\n",
    "# Calculate percentage of positive and negative reviews for each topic\n",
    "topic_sentiment_distribution['Positive %'] = (topic_sentiment_distribution['positive'] / topic_sentiment_distribution['Total']) * 100\n",
    "topic_sentiment_distribution['Negative %'] = (topic_sentiment_distribution['negative'] / topic_sentiment_distribution['Total']) * 100\n",
    "\n",
    "print(topic_sentiment_distribution[['Positive %', 'Negative %']])"
   ]
  },
  {
   "cell_type": "code",
   "execution_count": null,
   "metadata": {},
   "outputs": [],
   "source": [
    "# Visualize sentiment distribution for each topic\n",
    "topic_sentiment_distribution[['Positive %', 'Negative %']].plot(kind='bar', stacked=True, figsize=(10, 6), colormap='viridis')\n",
    "plt.title('Sentiment Distribution Across Topics')\n",
    "plt.xlabel('Topic')\n",
    "plt.ylabel('Percentage')\n",
    "plt.legend(loc='upper right')\n",
    "plt.show()"
   ]
  },
  {
   "cell_type": "markdown",
   "metadata": {},
   "source": [
    "8- Comparison of Pre-Trained Sentiment Models with Ground Truth Labels: Use pre-trained models like VADER and\n",
    "TextBlob to analyze the sentiment of the reviews, assigning a sentiment polarity score (positive, and negative) to each review.\n",
    "To compare these sentiment scores with the ground truth labels (positive or negative) in the dataset, create a confusion matrix\n",
    "to assess how well the pre-trained models align with the true labels. Calculate evaluation metrics such as accuracy, precision,\n",
    "recall, and F1-score for both VADER and TextBlob. Additionally, visualize the distribution of sentiment polarity scores\n",
    "generated by these models for both the positive and negative labeled reviews to identify any discrepancies between the model\n",
    "predictions and the actual labels. Use bar plots or stacked bar plots to show the agreement or disagreement between the pre-\n",
    "trained models’ polarity scores and the true sentiment labels. Also, conduct an error analysis to inspect cases where the pre-\n",
    "trained models significantly differ from the ground truth (e.g., reviews labeled as positive but classified as negative by\n",
    "VADER), and discuss patterns or common characteristics of reviews where these models perform poorly, such as sarcasm or\n",
    "ambiguous language."
   ]
  },
  {
   "cell_type": "code",
   "execution_count": null,
   "metadata": {},
   "outputs": [],
   "source": [
    "from vaderSentiment.vaderSentiment import SentimentIntensityAnalyzer\n",
    "from textblob import TextBlob\n",
    "from sklearn.metrics import confusion_matrix, accuracy_score, precision_score, recall_score, f1_score\n",
    "import seaborn as sns\n",
    "import matplotlib.pyplot as plt\n",
    "\n",
    "# Initialize VADER Sentiment Analyzer\n",
    "vader_analyzer = SentimentIntensityAnalyzer()"
   ]
  },
  {
   "cell_type": "code",
   "execution_count": null,
   "metadata": {},
   "outputs": [],
   "source": [
    "# Function to classify sentiment using VADER\n",
    "def vader_sentiment(review):\n",
    "    score = vader_analyzer.polarity_scores(review)['compound']\n",
    "    return 'positive' if score >= 0 else 'negative'\n",
    "\n",
    "# Apply VADER to classify reviews\n",
    "df['vader_sentiment'] = df['cleaned_review'].apply(vader_sentiment)"
   ]
  },
  {
   "cell_type": "code",
   "execution_count": null,
   "metadata": {},
   "outputs": [],
   "source": [
    "# Function to classify sentiment using TextBlob\n",
    "def textblob_sentiment(review):\n",
    "    score = TextBlob(review).sentiment.polarity\n",
    "    return 'positive' if score >= 0 else 'negative'\n",
    "\n",
    "# Apply TextBlob to classify reviews\n",
    "df['textblob_sentiment'] = df['cleaned_review'].apply(textblob_sentiment)"
   ]
  },
  {
   "cell_type": "code",
   "execution_count": null,
   "metadata": {},
   "outputs": [],
   "source": [
    "# Function to print evaluation metrics\n",
    "def evaluate_model(true_labels, predicted_labels):\n",
    "    accuracy = accuracy_score(true_labels, predicted_labels)\n",
    "    precision = precision_score(true_labels, predicted_labels, pos_label='positive')\n",
    "    recall = recall_score(true_labels, predicted_labels, pos_label='positive')\n",
    "    f1 = f1_score(true_labels, predicted_labels, pos_label='positive')\n",
    "    print(f\"Accuracy: {accuracy:.2f}\")\n",
    "    print(f\"Precision: {precision:.2f}\")\n",
    "    print(f\"Recall: {recall:.2f}\")\n",
    "    print(f\"F1-Score: {f1:.2f}\")\n",
    "\n",
    "# Evaluate VADER\n",
    "print(\"VADER Evaluation:\")\n",
    "evaluate_model(df['sentiment'], df['vader_sentiment'])\n",
    "\n",
    "# Confusion matrix for VADER\n",
    "vader_cm = confusion_matrix(df['sentiment'], df['vader_sentiment'], labels=['positive', 'negative'])\n",
    "sns.heatmap(vader_cm, annot=True, fmt='d', cmap='Blues', xticklabels=['positive', 'negative'], yticklabels=['positive', 'negative'])\n",
    "plt.title(\"VADER Confusion Matrix\")\n",
    "plt.xlabel(\"Predicted\")\n",
    "plt.ylabel(\"Actual\")\n",
    "plt.show()\n",
    "\n",
    "# Evaluate TextBlob\n",
    "print(\"TextBlob Evaluation:\")\n",
    "evaluate_model(df['sentiment'], df['textblob_sentiment'])\n",
    "\n",
    "# Confusion matrix for TextBlob\n",
    "textblob_cm = confusion_matrix(df['sentiment'], df['textblob_sentiment'], labels=['positive', 'negative'])\n",
    "sns.heatmap(textblob_cm, annot=True, fmt='d', cmap='Greens', xticklabels=['positive', 'negative'], yticklabels=['positive', 'negative'])\n",
    "plt.title(\"TextBlob Confusion Matrix\")\n",
    "plt.xlabel(\"Predicted\")\n",
    "plt.ylabel(\"Actual\")\n",
    "plt.show()"
   ]
  },
  {
   "cell_type": "code",
   "execution_count": null,
   "metadata": {},
   "outputs": [],
   "source": [
    "# Function to get VADER polarity scores\n",
    "df['vader_polarity'] = df['cleaned_review'].apply(lambda x: vader_analyzer.polarity_scores(x)['compound'])\n",
    "df['textblob_polarity'] = df['cleaned_review'].apply(lambda x: TextBlob(x).sentiment.polarity)\n",
    "\n",
    "# Visualize polarity score distributions\n",
    "plt.figure(figsize=(12, 6))\n",
    "sns.histplot(data=df, x='vader_polarity', hue='sentiment', kde=True, palette='Set1', bins=30)\n",
    "plt.title('Distribution of VADER Polarity Scores')\n",
    "plt.xlabel('VADER Polarity Score')\n",
    "plt.ylabel('Frequency')\n",
    "plt.show()\n",
    "\n",
    "plt.figure(figsize=(12, 6))\n",
    "sns.histplot(data=df, x='textblob_polarity', hue='sentiment', kde=True, palette='Set2', bins=30)\n",
    "plt.title('Distribution of TextBlob Polarity Scores')\n",
    "plt.xlabel('TextBlob Polarity Score')\n",
    "plt.ylabel('Frequency')\n",
    "plt.show()"
   ]
  },
  {
   "cell_type": "code",
   "execution_count": null,
   "metadata": {},
   "outputs": [],
   "source": [
    "# Extract misclassified reviews by VADER\n",
    "vader_misclassified = df[(df['sentiment'] != df['vader_sentiment'])]\n",
    "print(\"Examples of Misclassified Reviews by VADER:\")\n",
    "print(vader_misclassified[['review', 'sentiment', 'vader_sentiment']].head())\n",
    "\n",
    "# Extract misclassified reviews by TextBlob\n",
    "textblob_misclassified = df[(df['sentiment'] != df['textblob_sentiment'])]\n",
    "print(\"Examples of Misclassified Reviews by TextBlob:\")\n",
    "print(textblob_misclassified[['review', 'sentiment', 'textblob_sentiment']].head())\n",
    "\n",
    "# Analyze common patterns\n",
    "vader_negative_as_positive = vader_misclassified[(vader_misclassified['sentiment'] == 'negative') & (vader_misclassified['vader_sentiment'] == 'positive')]\n",
    "vader_positive_as_negative = vader_misclassified[(vader_misclassified['sentiment'] == 'positive') & (vader_misclassified['vader_sentiment'] == 'negative')]\n",
    "\n",
    "# Count and analyze patterns\n",
    "print(f\"VADER Negative as Positive: {len(vader_negative_as_positive)}\")\n",
    "print(f\"VADER Positive as Negative: {len(vader_positive_as_negative)}\")"
   ]
  },
  {
   "cell_type": "markdown",
   "metadata": {},
   "source": [
    "9- Feature Extraction for Sentiment Classification: Convert the text reviews into numerical representations suitable for\n",
    "machine learning models. First, apply the Bag of Words (BoW) method, which represents the text based on word frequency\n",
    "without considering word order. Next, implement TF-IDF to assign higher importance to less frequent but more meaningful words in the reviews. Finally, explore word embeddings such as Word2Vec, GloVe, or BERT to capture more advanced and\n",
    "contextual word representations, providing richer semantic information for the sentiment classification models."
   ]
  },
  {
   "cell_type": "code",
   "execution_count": null,
   "metadata": {},
   "outputs": [],
   "source": [
    "from sklearn.feature_extraction.text import CountVectorizer, TfidfVectorizer\n",
    "from gensim.models import Word2Vec\n",
    "from transformers import BertTokenizer, BertModel\n",
    "import torch\n",
    "import numpy as np"
   ]
  },
  {
   "cell_type": "code",
   "execution_count": null,
   "metadata": {},
   "outputs": [],
   "source": [
    "# Create Bag of Words (BoW) model\n",
    "vectorizer_bow = CountVectorizer(max_features=5000)  # Limit to 5000 most frequent words\n",
    "X_bow = vectorizer_bow.fit_transform(df['cleaned_review']).toarray()\n",
    "\n",
    "# Check BoW features\n",
    "print(\"BoW Feature Shape:\", X_bow.shape)"
   ]
  },
  {
   "cell_type": "code",
   "execution_count": null,
   "metadata": {},
   "outputs": [],
   "source": [
    "# Create TF-IDF model\n",
    "vectorizer_tfidf = TfidfVectorizer(max_features=5000)\n",
    "X_tfidf = vectorizer_tfidf.fit_transform(df['cleaned_review']).toarray()\n",
    "\n",
    "# Check TF-IDF features\n",
    "print(\"TF-IDF Feature Shape:\", X_tfidf.shape)"
   ]
  },
  {
   "cell_type": "code",
   "execution_count": null,
   "metadata": {},
   "outputs": [],
   "source": [
    "# Train Word2Vec model\n",
    "word2vec_model = Word2Vec(sentences=df['tokens'], vector_size=100, window=5, min_count=5, workers=4)\n",
    "X_word2vec = np.array([np.mean([word2vec_model.wv[word] for word in words if word in word2vec_model.wv] or [np.zeros(100)], axis=0) for words in df['tokens']])\n",
    "\n",
    "# Check Word2Vec features\n",
    "print(\"Word2Vec Feature Shape:\", X_word2vec.shape)"
   ]
  },
  {
   "cell_type": "code",
   "execution_count": null,
   "metadata": {},
   "outputs": [],
   "source": [
    "import gensim.downloader as api\n",
    "\n",
    "# Load pre-trained GloVe embeddings\n",
    "glove_model = api.load(\"glove-wiki-gigaword-100\")  # 100-dimensional embeddings\n",
    "\n",
    "# Convert reviews to GloVe vectors\n",
    "def get_glove_embeddings(review):\n",
    "    words = review.split()\n",
    "    return np.mean([glove_model[word] for word in words if word in glove_model] or [np.zeros(100)], axis=0)\n",
    "\n",
    "X_glove = np.array([get_glove_embeddings(review) for review in df['cleaned_review']])\n",
    "\n",
    "# Check GloVe features\n",
    "print(\"GloVe Feature Shape:\", X_glove.shape)"
   ]
  },
  {
   "cell_type": "code",
   "execution_count": null,
   "metadata": {},
   "outputs": [],
   "source": [
    "# Initialize BERT tokenizer and model\n",
    "bert_tokenizer = BertTokenizer.from_pretrained('bert-base-uncased')\n",
    "bert_model = BertModel.from_pretrained('bert-base-uncased')\n",
    "\n",
    "# Function to get BERT embeddings\n",
    "def get_bert_embeddings(review):\n",
    "    inputs = bert_tokenizer(review, return_tensors='pt', max_length=512, truncation=True, padding='max_length')\n",
    "    outputs = bert_model(**inputs)\n",
    "    return outputs.last_hidden_state.mean(dim=1).detach().numpy()\n",
    "\n",
    "# Convert reviews to BERT embeddings\n",
    "X_bert = np.array([get_bert_embeddings(review)[0] for review in df['cleaned_review']])\n",
    "\n",
    "# Check BERT features\n",
    "print(\"BERT Feature Shape:\", X_bert.shape)"
   ]
  },
  {
   "cell_type": "markdown",
   "metadata": {},
   "source": [
    "10- Sentiment Prediction Using Extracted Features: Build a sentiment classification model using the features extracted in\n",
    "Task 13. Train the model on the training dataset using features extracted via Bag of Words (BoW), TF-IDF, and word\n",
    "embeddings such as Word2Vec, GloVe, or BERT. After training, evaluate the performance of the model on the test dataset.\n",
    "The goal is to predict whether a review is positive or negative based on these numerical representations. You are required to\n",
    "compare the performance of various classifiers, including Logistic Regression, Support Vector Machines (SVM), Random\n",
    "Forest, and Deep Learning models (LSTM or CNN). Each classifier will be applied to BoW, TF-IDF and word embeddings,\n",
    "and the results should be evaluated using metrics such as accuracy, precision, recall, and F1-score."
   ]
  },
  {
   "cell_type": "code",
   "execution_count": null,
   "metadata": {},
   "outputs": [],
   "source": [
    "from sklearn.model_selection import train_test_split\n",
    "from sklearn.linear_model import LogisticRegression\n",
    "\n",
    "# Split data into training and testing\n",
    "X_train, X_test, y_train, y_test = train_test_split(X_tfidf, df['sentiment'], test_size=0.2, random_state=42)\n",
    "\n",
    "# Train a Logistic Regression model\n",
    "clf = LogisticRegression()\n",
    "clf.fit(X_train, y_train)\n",
    "\n",
    "evaluate_model(y_test, clf.predict(X_test))"
   ]
  },
  {
   "cell_type": "code",
   "execution_count": null,
   "metadata": {},
   "outputs": [],
   "source": [
    "# Split data into training and testing\n",
    "X_train, X_test, y_train, y_test = train_test_split(X_bow, df['sentiment'], test_size=0.2, random_state=42)\n",
    "\n",
    "# Train a Logistic Regression model\n",
    "clf = LogisticRegression()\n",
    "clf.fit(X_train, y_train)\n",
    "\n",
    "evaluate_model(y_test, clf.predict(X_test))"
   ]
  },
  {
   "cell_type": "code",
   "execution_count": null,
   "metadata": {},
   "outputs": [],
   "source": [
    "# Split data into training and testing\n",
    "X_train, X_test, y_train, y_test = train_test_split(X_word2vec, df['sentiment'], test_size=0.2, random_state=42)\n",
    "\n",
    "# Train a Logistic Regression model\n",
    "clf = LogisticRegression()\n",
    "clf.fit(X_train, y_train)\n",
    "\n",
    "evaluate_model(y_test, clf.predict(X_test))"
   ]
  },
  {
   "cell_type": "code",
   "execution_count": null,
   "metadata": {},
   "outputs": [],
   "source": [
    "# Split data into training and testing\n",
    "X_train, X_test, y_train, y_test = train_test_split(X_glove, df['sentiment'], test_size=0.2, random_state=42)\n",
    "\n",
    "# Train a Logistic Regression model\n",
    "clf = LogisticRegression()\n",
    "clf.fit(X_train, y_train)\n",
    "\n",
    "evaluate_model(y_test, clf.predict(X_test))"
   ]
  },
  {
   "cell_type": "code",
   "execution_count": null,
   "metadata": {},
   "outputs": [],
   "source": [
    "# Split data into training and testing\n",
    "X_train, X_test, y_train, y_test = train_test_split(X_bert, df['sentiment'], test_size=0.2, random_state=42)\n",
    "\n",
    "# Train a Logistic Regression model\n",
    "clf = LogisticRegression()\n",
    "clf.fit(X_train, y_train)\n",
    "\n",
    "evaluate_model(y_test, clf.predict(X_test))"
   ]
  }
 ],
 "metadata": {
  "kernelspec": {
   "display_name": "nlp-project",
   "language": "python",
   "name": "python3"
  },
  "language_info": {
   "codemirror_mode": {
    "name": "ipython",
    "version": 3
   },
   "file_extension": ".py",
   "mimetype": "text/x-python",
   "name": "python",
   "nbconvert_exporter": "python",
   "pygments_lexer": "ipython3",
   "version": "3.12.5"
  }
 },
 "nbformat": 4,
 "nbformat_minor": 2
}
