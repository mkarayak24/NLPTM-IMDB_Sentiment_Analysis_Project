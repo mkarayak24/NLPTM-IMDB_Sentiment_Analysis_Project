{
 "cells": [
  {
   "cell_type": "code",
   "execution_count": 1,
   "metadata": {
    "id": "Rc_QKidSZ97b"
   },
   "outputs": [],
   "source": [
    "import torch\n",
    "import torch.nn as nn\n",
    "import torch.optim as optim\n",
    "import matplotlib.pyplot as plt\n",
    "import numpy as np\n",
    "import pandas as pd\n",
    "import seaborn as sns\n",
    "\n",
    "from sklearn.model_selection import train_test_split\n",
    "from sklearn.metrics import accuracy_score, precision_score, recall_score, f1_score\n",
    "from torch.utils.data import Dataset, DataLoader\n",
    "from sklearn.preprocessing import StandardScaler\n",
    "from sklearn.metrics import confusion_matrix"
   ]
  },
  {
   "cell_type": "code",
   "execution_count": 2,
   "metadata": {
    "colab": {
     "base_uri": "https://localhost:8080/"
    },
    "id": "IdPebWh0henk",
    "outputId": "5df4e97b-9220-4358-962c-b16b62669e68"
   },
   "outputs": [
    {
     "name": "stdout",
     "output_type": "stream",
     "text": [
      "Mounted at /content/drive\n"
     ]
    }
   ],
   "source": [
    "# Mounting Google Drive to access files stored in Google Colab\n",
    "from google.colab import drive\n",
    "drive.mount('/content/drive')"
   ]
  },
  {
   "cell_type": "code",
   "execution_count": 3,
   "metadata": {
    "id": "N3XSOBOmhju_"
   },
   "outputs": [],
   "source": [
    "# Load data\n",
    "df = pd.read_csv('/content/drive/MyDrive/NLP_Project/IMDB_Dataset_Preprocessed.csv')"
   ]
  },
  {
   "cell_type": "code",
   "execution_count": 4,
   "metadata": {
    "colab": {
     "base_uri": "https://localhost:8080/"
    },
    "id": "ADePLt4IZ_Vv",
    "outputId": "3e4ecccf-69e2-4f62-fe22-811c286729e3"
   },
   "outputs": [
    {
     "name": "stdout",
     "output_type": "stream",
     "text": [
      "Using device: cuda\n"
     ]
    }
   ],
   "source": [
    "# Check for CUDA\n",
    "device = torch.device(\"cuda\" if torch.cuda.is_available() else \"cpu\")\n",
    "print(f\"Using device: {device}\")"
   ]
  },
  {
   "cell_type": "code",
   "execution_count": 5,
   "metadata": {
    "id": "P57joGt7aCSd"
   },
   "outputs": [],
   "source": [
    "# 1. Define Custom Dataset Class\n",
    "class NumpyDataset(Dataset):\n",
    "    def __init__(self, features, targets):\n",
    "        self.features = features\n",
    "        self.targets = targets\n",
    "\n",
    "    def __len__(self):\n",
    "        return len(self.features)\n",
    "\n",
    "    def __getitem__(self, idx):\n",
    "        x = self.features[idx]\n",
    "        y = self.targets[idx]\n",
    "        x = torch.tensor(x, dtype=torch.float32)\n",
    "        y = torch.tensor(y, dtype=torch.float32)\n",
    "        return x, y\n",
    "\n",
    "# 2. Define LSTM Model Class\n",
    "class LSTMNetwork(nn.Module):\n",
    "    def __init__(self, input_size, hidden_size, num_layers, output_size):\n",
    "        super(LSTMNetwork, self).__init__()\n",
    "        self.hidden_size = hidden_size\n",
    "        self.num_layers = num_layers\n",
    "        self.lstm = nn.LSTM(input_size, hidden_size, num_layers, batch_first=True)\n",
    "        self.fc = nn.Linear(hidden_size, output_size)\n",
    "\n",
    "    def forward(self, x):\n",
    "        h0 = torch.zeros(self.num_layers, x.size(0), self.hidden_size).to(x.device)\n",
    "        c0 = torch.zeros(self.num_layers, x.size(0), self.hidden_size).to(x.device)\n",
    "        out, _ = self.lstm(x.unsqueeze(1), (h0, c0))\n",
    "        out = self.fc(out[:, -1, :])\n",
    "        out = torch.sigmoid(out)\n",
    "        return out\n",
    "\n",
    "# 3. Training Loop\n",
    "def train_model(model, train_loader, criterion, optimizer, num_epochs):\n",
    "    for epoch in range(num_epochs):\n",
    "        model.train()\n",
    "        for inputs, targets in train_loader:\n",
    "            inputs, targets = inputs.to(device), targets.to(device).view(-1, 1)\n",
    "            optimizer.zero_grad()\n",
    "            outputs = model(inputs)\n",
    "            loss = criterion(outputs, targets)\n",
    "            loss.backward()\n",
    "            optimizer.step()\n",
    "        print(f'Epoch [{epoch + 1}/{num_epochs}], Loss: {loss.item():.8f}')\n",
    "\n",
    "# 4. Create Test Function\n",
    "def test_model(model, test_loader):\n",
    "    model.eval()\n",
    "    all_preds = []\n",
    "    all_targets = []\n",
    "    with torch.no_grad():\n",
    "        for inputs, targets in test_loader:\n",
    "            inputs, targets = inputs.to(device), targets.to(device).view(-1, 1)\n",
    "            outputs = model(inputs)\n",
    "            all_preds.append(outputs.cpu().numpy())\n",
    "            all_targets.append(targets.cpu().numpy())\n",
    "    all_preds = np.concatenate(all_preds).flatten().round()\n",
    "    all_targets = np.concatenate(all_targets).flatten()\n",
    "    return all_targets, all_preds\n",
    "\n",
    "# 5. Create Evaluation Function\n",
    "def evaluate_model(true_labels, predicted_labels):\n",
    "    accuracy = accuracy_score(true_labels, predicted_labels)\n",
    "    precision = precision_score(true_labels, predicted_labels)\n",
    "    recall = recall_score(true_labels, predicted_labels)\n",
    "    f1 = f1_score(true_labels, predicted_labels)\n",
    "\n",
    "    print(f\"Accuracy: {accuracy:.2f}\")\n",
    "    print(f\"Precision: {precision:.2f}\")\n",
    "    print(f\"Recall: {recall:.2f}\")\n",
    "    print(f\"F1-Score: {f1:.2f}\")"
   ]
  },
  {
   "cell_type": "code",
   "execution_count": 6,
   "metadata": {
    "id": "zCOVCDAhwGPd"
   },
   "outputs": [],
   "source": [
    "# Define Training Parameters\n",
    "input_size = 768  # Number of features\n",
    "hidden_size = 128  # Example hidden layer size\n",
    "num_layers = 2 # Number of LSTM layers\n",
    "output_size = 1 # Output size (single scalar value)\n",
    "batch_size = 256 # Define Batch Size\n",
    "num_epochs = 10 # Number of epochs"
   ]
  },
  {
   "cell_type": "markdown",
   "metadata": {
    "id": "PKDNrKCSv7EC"
   },
   "source": [
    "**RoBERTa**"
   ]
  },
  {
   "cell_type": "code",
   "execution_count": 7,
   "metadata": {
    "colab": {
     "base_uri": "https://localhost:8080/"
    },
    "id": "cHOibnDyhwlY",
    "outputId": "436a6bb5-6bfe-4615-eeaa-3048f9b3c25a"
   },
   "outputs": [
    {
     "name": "stdout",
     "output_type": "stream",
     "text": [
      "RoBERTa Feature Shape: (50000, 768)\n"
     ]
    }
   ],
   "source": [
    "# Loading data and Normalization\n",
    "X_roberta = np.load('/content/drive/MyDrive/NLP_Project/X_roberta.npy')\n",
    "print(\"RoBERTa Feature Shape:\", X_roberta.shape)\n",
    "scaler = StandardScaler()\n",
    "model = scaler.fit(X_roberta)\n",
    "X_roberta = model.transform(X_roberta)"
   ]
  },
  {
   "cell_type": "code",
   "execution_count": 8,
   "metadata": {
    "colab": {
     "base_uri": "https://localhost:8080/"
    },
    "id": "uGMjK_BfieJD",
    "outputId": "66fbdc08-7910-4d57-a41d-21e5d3107eab"
   },
   "outputs": [
    {
     "name": "stdout",
     "output_type": "stream",
     "text": [
      "Train Feature Shape: (25000, 768)\n",
      "Train Labels Shape: (25000,)\n",
      "Test Feature Shape: (25000, 768)\n",
      "Test Labels Shape: (25000,)\n"
     ]
    }
   ],
   "source": [
    "# Prepare Dataset\n",
    "X_train, X_test, y_train, y_test = train_test_split(X_roberta, df['sentiment_numeric'].values, test_size=0.5, random_state=42)\n",
    "print(\"Train Feature Shape:\", X_train.shape)\n",
    "print(\"Train Labels Shape:\", y_train.shape)\n",
    "print(\"Test Feature Shape:\", X_test.shape)\n",
    "print(\"Test Labels Shape:\", y_test.shape)\n",
    "train_dataset = NumpyDataset(X_train, y_train)\n",
    "test_dataset = NumpyDataset(X_test, y_test)"
   ]
  },
  {
   "cell_type": "code",
   "execution_count": 9,
   "metadata": {
    "colab": {
     "base_uri": "https://localhost:8080/"
    },
    "id": "rhVPMDYDwwA4",
    "outputId": "962e0853-1a4e-44d4-dc96-2e724d937c83"
   },
   "outputs": [
    {
     "name": "stdout",
     "output_type": "stream",
     "text": [
      "Epoch [1/10], Loss: 0.08969279\n",
      "Epoch [2/10], Loss: 0.11970105\n",
      "Epoch [3/10], Loss: 0.06743158\n",
      "Epoch [4/10], Loss: 0.07175634\n",
      "Epoch [5/10], Loss: 0.05594188\n",
      "Epoch [6/10], Loss: 0.05824358\n",
      "Epoch [7/10], Loss: 0.00933051\n",
      "Epoch [8/10], Loss: 0.01874436\n",
      "Epoch [9/10], Loss: 0.02446622\n",
      "Epoch [10/10], Loss: 0.01518180\n"
     ]
    }
   ],
   "source": [
    "# Prepare DataLoader\n",
    "train_loader = DataLoader(dataset=train_dataset, batch_size=batch_size, shuffle=True)\n",
    "test_loader = DataLoader(dataset=test_dataset, batch_size=batch_size, shuffle=False)\n",
    "# Instantiate Model, Define Loss and Optimizer\n",
    "model = LSTMNetwork(input_size, hidden_size, num_layers, output_size)\n",
    "model = model.to(device)\n",
    "criterion = nn.MSELoss()\n",
    "optimizer = optim.Adam(model.parameters(), lr=0.001)\n",
    "# Run Training Loops\n",
    "train_model(model, train_loader, criterion, optimizer, num_epochs)"
   ]
  },
  {
   "cell_type": "code",
   "execution_count": 10,
   "metadata": {
    "colab": {
     "base_uri": "https://localhost:8080/",
     "height": 561
    },
    "id": "PiJ5cWTbzYcr",
    "outputId": "38d1b879-104e-4de4-8572-a06d807f3932"
   },
   "outputs": [
    {
     "name": "stdout",
     "output_type": "stream",
     "text": [
      "LSTM with RoBERTa Features:\n",
      "Accuracy: 0.85\n",
      "Precision: 0.85\n",
      "Recall: 0.84\n",
      "F1-Score: 0.85\n"
     ]
    },
    {
     "data": {
      "image/png": "[encoded data removed]",
      "text/plain": [
       "<Figure size 640x480 with 2 Axes>"
      ]
     },
     "metadata": {},
     "output_type": "display_data"
    }
   ],
   "source": [
    "# Run Test\n",
    "y_test, y_pre = test_model(model, test_loader)\n",
    "print(\"LSTM with RoBERTa Features:\")\n",
    "evaluate_model(y_test, y_pre)\n",
    "# Confusion matrix\n",
    "textblob_cm = confusion_matrix(y_test, y_pre, labels=[0, 1])\n",
    "sns.heatmap(textblob_cm, annot=True, fmt='d', cmap='Greens', xticklabels=['positive', 'negative'], yticklabels=['positive', 'negative'])\n",
    "plt.title(\"LSTM with Embeddings from RoBERTa Confusion Matrix\")\n",
    "plt.xlabel(\"Predicted\")\n",
    "plt.ylabel(\"Actual\")\n",
    "plt.show()"
   ]
  },
  {
   "cell_type": "markdown",
   "metadata": {
    "id": "evR-fo9MvzUB"
   },
   "source": [
    "**DistilBERT**"
   ]
  },
  {
   "cell_type": "code",
   "execution_count": 11,
   "metadata": {
    "colab": {
     "base_uri": "https://localhost:8080/"
    },
    "id": "XC5eLCZMw36-",
    "outputId": "83d02fd6-cd64-42e8-cb7b-1ee36f6ccf2e"
   },
   "outputs": [
    {
     "name": "stdout",
     "output_type": "stream",
     "text": [
      "DistilBERT Feature Shape: (50000, 768)\n"
     ]
    }
   ],
   "source": [
    "# Loading data and Normalization\n",
    "X_distilbert = np.load('/content/drive/MyDrive/NLP_Project/X_distilbert.npy')\n",
    "print(\"DistilBERT Feature Shape:\", X_distilbert.shape)\n",
    "scaler = StandardScaler()\n",
    "model = scaler.fit(X_distilbert)\n",
    "X_distilbert = model.transform(X_distilbert)"
   ]
  },
  {
   "cell_type": "code",
   "execution_count": 12,
   "metadata": {
    "colab": {
     "base_uri": "https://localhost:8080/"
    },
    "id": "lgdwctP4uAR4",
    "outputId": "c5152b93-6e53-4dab-ff4a-0f5be43acbdd"
   },
   "outputs": [
    {
     "name": "stdout",
     "output_type": "stream",
     "text": [
      "Train Feature Shape: (25000, 768)\n",
      "Train Labels Shape: (25000,)\n",
      "Test Feature Shape: (25000, 768)\n",
      "Test Labels Shape: (25000,)\n"
     ]
    }
   ],
   "source": [
    "# Prepare Dataset\n",
    "X_train, X_test, y_train, y_test = train_test_split(X_distilbert, df['sentiment_numeric'].values, test_size=0.5, random_state=42)\n",
    "print(\"Train Feature Shape:\", X_train.shape)\n",
    "print(\"Train Labels Shape:\", y_train.shape)\n",
    "print(\"Test Feature Shape:\", X_test.shape)\n",
    "print(\"Test Labels Shape:\", y_test.shape)\n",
    "train_dataset = NumpyDataset(X_train, y_train)\n",
    "test_dataset = NumpyDataset(X_test, y_test)"
   ]
  },
  {
   "cell_type": "code",
   "execution_count": 13,
   "metadata": {
    "colab": {
     "base_uri": "https://localhost:8080/"
    },
    "id": "lQdxKm7MwQQm",
    "outputId": "14c7f7be-7dc5-4ce0-be5f-67b264f823cc"
   },
   "outputs": [
    {
     "name": "stdout",
     "output_type": "stream",
     "text": [
      "Epoch [1/10], Loss: 0.13790907\n",
      "Epoch [2/10], Loss: 0.08568916\n",
      "Epoch [3/10], Loss: 0.08070067\n",
      "Epoch [4/10], Loss: 0.06991620\n",
      "Epoch [5/10], Loss: 0.06133202\n",
      "Epoch [6/10], Loss: 0.05329083\n",
      "Epoch [7/10], Loss: 0.05297154\n",
      "Epoch [8/10], Loss: 0.02902147\n",
      "Epoch [9/10], Loss: 0.01809844\n",
      "Epoch [10/10], Loss: 0.03133636\n"
     ]
    }
   ],
   "source": [
    "# Prepare DataLoader\n",
    "train_loader = DataLoader(dataset=train_dataset, batch_size=batch_size, shuffle=True)\n",
    "test_loader = DataLoader(dataset=test_dataset, batch_size=batch_size, shuffle=False)\n",
    "# Instantiate Model, Define Loss and Optimizer\n",
    "model = LSTMNetwork(input_size, hidden_size, num_layers, output_size)\n",
    "model = model.to(device)\n",
    "criterion = nn.MSELoss()\n",
    "optimizer = optim.Adam(model.parameters(), lr=0.001)\n",
    "# Run Training Loops\n",
    "train_model(model, train_loader, criterion, optimizer, num_epochs)"
   ]
  },
  {
   "cell_type": "code",
   "execution_count": 14,
   "metadata": {
    "colab": {
     "base_uri": "https://localhost:8080/",
     "height": 561
    },
    "id": "MClAwOB8zbDP",
    "outputId": "26230e6e-ef03-4af9-cbf9-181701bbfc86"
   },
   "outputs": [
    {
     "name": "stdout",
     "output_type": "stream",
     "text": [
      "LSTM with DistilBERT Features:\n",
      "Accuracy: 0.83\n",
      "Precision: 0.84\n",
      "Recall: 0.82\n",
      "F1-Score: 0.83\n"
     ]
    },
    {
     "data": {
      "image/png": "[encoded data removed]",
      "text/plain": [
       "<Figure size 640x480 with 2 Axes>"
      ]
     },
     "metadata": {},
     "output_type": "display_data"
    }
   ],
   "source": [
    "# Run Test\n",
    "y_test, y_pre = test_model(model, test_loader)\n",
    "print(\"LSTM with DistilBERT Features:\")\n",
    "evaluate_model(y_test, y_pre)\n",
    "# Confusion matrix\n",
    "textblob_cm = confusion_matrix(y_test, y_pre, labels=[0, 1])\n",
    "sns.heatmap(textblob_cm, annot=True, fmt='d', cmap='Greens', xticklabels=['positive', 'negative'], yticklabels=['positive', 'negative'])\n",
    "plt.title(\"LSTM with Embeddings from DistilBERT Confusion Matrix\")\n",
    "plt.xlabel(\"Predicted\")\n",
    "plt.ylabel(\"Actual\")\n",
    "plt.show()"
   ]
  }
 ],
 "metadata": {
  "accelerator": "GPU",
  "colab": {
   "gpuType": "T4",
   "provenance": []
  },
  "kernelspec": {
   "display_name": "Python 3",
   "name": "python3"
  },
  "language_info": {
   "name": "python"
  }
 },
 "nbformat": 4,
 "nbformat_minor": 0
}
