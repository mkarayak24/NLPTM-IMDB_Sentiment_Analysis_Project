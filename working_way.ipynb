{
 "cells": [
  {
   "cell_type": "code",
   "execution_count": 1,
   "metadata": {},
   "outputs": [],
   "source": [
    "import torch\n",
    "import torch.nn as nn\n",
    "import torch.optim as optim\n",
    "import matplotlib.pyplot as plt\n",
    "import numpy as np\n",
    "import pandas as pd\n",
    "import seaborn as sns\n",
    "\n",
    "from sklearn.model_selection import train_test_split\n",
    "from sklearn.metrics import accuracy_score, precision_score, recall_score, f1_score\n",
    "from torch.utils.data import Dataset, DataLoader\n",
    "from sklearn.preprocessing import StandardScaler\n",
    "from sklearn.metrics import confusion_matrix"
   ]
  },
  {
   "cell_type": "code",
   "execution_count": 2,
   "metadata": {},
   "outputs": [],
   "source": [
    "# Load data\n",
    "df = pd.read_csv('IMDB_Dataset_Preprocessed.csv')\n",
    "\n",
    "# Check for CUDA\n",
    "device = torch.device(\"cuda\" if torch.cuda.is_available() else \"cpu\")\n",
    "print(f\"Using device: {device}\")\n"
   ]
  },
  {
   "cell_type": "code",
   "execution_count": 3,
   "metadata": {},
   "outputs": [],
   "source": [
    "# 1. Define Custom Dataset Class\n",
    "class NumpyDataset(Dataset):\n",
    "    def __init__(self, features, targets):\n",
    "        self.features = features\n",
    "        self.targets = targets\n",
    "\n",
    "    def __len__(self):\n",
    "        return len(self.features)\n",
    "\n",
    "    def __getitem__(self, idx):\n",
    "        x = self.features[idx]\n",
    "        y = self.targets[idx]\n",
    "        x = torch.tensor(x, dtype=torch.float32)\n",
    "        y = torch.tensor(y, dtype=torch.float32)\n",
    "        return x, y\n",
    "\n",
    "# 2. Define LSTM Model Class\n",
    "class LSTMNetwork(nn.Module):\n",
    "    def __init__(self, input_size, hidden_size, num_layers, output_size):\n",
    "        super(LSTMNetwork, self).__init__()\n",
    "        self.hidden_size = hidden_size\n",
    "        self.num_layers = num_layers\n",
    "        self.lstm = nn.LSTM(input_size, hidden_size, num_layers, batch_first=True)\n",
    "        self.fc = nn.Linear(hidden_size, output_size)\n",
    "\n",
    "    def forward(self, x):\n",
    "        h0 = torch.zeros(self.num_layers, x.size(0), self.hidden_size).to(x.device)\n",
    "        c0 = torch.zeros(self.num_layers, x.size(0), self.hidden_size).to(x.device)\n",
    "        out, _ = self.lstm(x.unsqueeze(1), (h0, c0))\n",
    "        out = self.fc(out[:, -1, :])\n",
    "        return out\n",
    "\n",
    "# 3. Training Loop\n",
    "def train_model(model, train_loader, criterion, optimizer, num_epochs):\n",
    "    for epoch in range(num_epochs):\n",
    "        model.train()\n",
    "        for inputs, targets in train_loader:\n",
    "            inputs, targets = inputs.to(device), targets.to(device).view(-1, 1)\n",
    "            optimizer.zero_grad()\n",
    "            outputs = model(inputs)\n",
    "            loss = criterion(outputs, targets)\n",
    "            loss.backward()\n",
    "            optimizer.step()\n",
    "        print(f'Epoch [{epoch + 1}/{num_epochs}], Loss: {loss.item():.4f}')\n",
    "\n",
    "# 4. Create Test Function\n",
    "def test_model(model, data_loader):\n",
    "    model.eval()\n",
    "    all_preds = []\n",
    "    all_targets = []\n",
    "    with torch.no_grad():\n",
    "        for inputs, targets in test_loader:\n",
    "            inputs, targets = inputs.to(device), targets.to(device).view(-1, 1)\n",
    "            outputs = model(inputs)\n",
    "            all_preds.append(outputs.cpu().numpy())\n",
    "            all_targets.append(targets.cpu().numpy())\n",
    "    all_preds = np.concatenate(all_preds).flatten().round()\n",
    "    all_targets = np.concatenate(all_targets).flatten()\n",
    "    return all_targets, all_preds\n",
    "\n",
    "# 5. Create Evaluation Function\n",
    "def evaluate_model(true_labels, predicted_labels):\n",
    "    accuracy = accuracy_score(true_labels, predicted_labels)\n",
    "    precision = precision_score(true_labels, predicted_labels)\n",
    "    recall = recall_score(true_labels, predicted_labels)\n",
    "    f1 = f1_score(true_labels, predicted_labels)\n",
    "\n",
    "    print(f\"Accuracy: {accuracy:.2f}\")\n",
    "    print(f\"Precision: {precision:.2f}\")\n",
    "    print(f\"Recall: {recall:.2f}\")\n",
    "    print(f\"F1-Score: {f1:.2f}\")"
   ]
  },
  {
   "cell_type": "code",
   "execution_count": null,
   "metadata": {},
   "outputs": [],
   "source": [
    "# Define Training Parameters\n",
    "#input_size = 768  # Number of features\n",
    "hidden_size = 128  # Example hidden layer size\n",
    "num_layers = 2 # Number of LSTM layers\n",
    "output_size = 1 # Output size (single scalar value)\n",
    "batch_size = 32 # Define Batch Size\n",
    "num_epochs = 10 # Number of epochs"
   ]
  },
  {
   "cell_type": "markdown",
   "metadata": {},
   "source": [
    "# BoW"
   ]
  },
  {
   "cell_type": "markdown",
   "metadata": {},
   "source": [
    "## 3000 Features"
   ]
  },
  {
   "cell_type": "markdown",
   "metadata": {},
   "source": [
    "### Unigram"
   ]
  },
  {
   "cell_type": "code",
   "execution_count": null,
   "metadata": {},
   "outputs": [],
   "source": [
    "input_size = 3000  # Number of features\n",
    "\n",
    "# Bow 3000 Unigram\n",
    "from sklearn.metrics import accuracy_score, precision_score, recall_score\n",
    "from sklearn.feature_extraction.text import CountVectorizer\n",
    "\n",
    "\n",
    "# Unigram (varsayılan)\n",
    "vectorizer_bow_unigram = CountVectorizer(max_features=3000)\n",
    "X_bow_unigram = vectorizer_bow_unigram.fit_transform(df['cleaned_review'])\n",
    "\n",
    "# Convert sparse matrix to dense matrix\n",
    "X_bow_unigram = X_bow_unigram.todense()\n",
    "\n",
    "print(\"X_bow_unigram Feature Shape:\", X_bow_unigram.shape)\n",
    "\n",
    "# Convert to numpy array\n",
    "X_bow_unigram = np.asarray(X_bow_unigram)\n",
    "\n",
    "scaler = StandardScaler()\n",
    "model = scaler.fit(X_bow_unigram)\n",
    "X_bow_unigram = model.transform(X_bow_unigram)\n"
   ]
  },
  {
   "cell_type": "code",
   "execution_count": 13,
   "metadata": {},
   "outputs": [],
   "source": [
    "# Prepare Dataset\n",
    "X_train, X_test, y_train, y_test = train_test_split(X_bow_unigram, df['sentiment_numeric'].values, test_size=0.5, random_state=42)\n",
    "print(\"Train Feature Shape:\", X_train.shape)\n",
    "print(\"Train Labels Shape:\", y_train.shape)\n",
    "print(\"Test Feature Shape:\", X_test.shape)\n",
    "print(\"Test Labels Shape:\", y_test.shape)\n",
    "train_dataset = NumpyDataset(X_train, y_train)\n",
    "test_dataset = NumpyDataset(X_test, y_test)"
   ]
  },
  {
   "cell_type": "code",
   "execution_count": 19,
   "metadata": {},
   "outputs": [],
   "source": [
    "# Prepare DataLoader\n",
    "train_loader = DataLoader(dataset=train_dataset, batch_size=batch_size, shuffle=True)\n",
    "test_loader = DataLoader(dataset=test_dataset, batch_size=batch_size, shuffle=False)\n",
    "# Instantiate Model, Define Loss and Optimizer\n",
    "model = LSTMNetwork(input_size, hidden_size, num_layers, output_size)\n",
    "model = model.to(device)\n",
    "criterion = nn.MSELoss()\n",
    "optimizer = optim.Adam(model.parameters(), lr=0.001)\n",
    "# Run Training Loops\n",
    "train_model(model, train_loader, criterion, optimizer, num_epochs)\n",
    "     "
   ]
  },
  {
   "cell_type": "code",
   "execution_count": null,
   "metadata": {},
   "outputs": [],
   "source": [
    "# Prepare DataLoader\n",
    "train_loader = DataLoader(dataset=train_dataset, batch_size=batch_size, shuffle=True)\n",
    "test_loader = DataLoader(dataset=test_dataset, batch_size=batch_size, shuffle=False)\n",
    "# Instantiate Model, Define Loss and Optimizer\n",
    "model = LSTMNetwork(input_size, hidden_size, num_layers, output_size)\n",
    "model = model.to(device)\n",
    "criterion = nn.MSELoss()\n",
    "optimizer = optim.Adam(model.parameters(), lr=0.001)\n",
    "# Run Training Loops\n",
    "train_model(model, train_loader, criterion, optimizer, num_epochs)\n",
    "     "
   ]
  },
  {
   "cell_type": "code",
   "execution_count": null,
   "metadata": {},
   "outputs": [],
   "source": [
    "# Run Test\n",
    "y_test, y_pre = test_model(model, test_loader)\n",
    "print(\"LSTM with BoW using unigrams and 3000 features:\")\n",
    "evaluate_model(y_test, y_pre)"
   ]
  },
  {
   "cell_type": "markdown",
   "metadata": {},
   "source": [
    "### Bigram"
   ]
  },
  {
   "cell_type": "code",
   "execution_count": 23,
   "metadata": {},
   "outputs": [
    {
     "name": "stdout",
     "output_type": "stream",
     "text": [
      "X_bow_bigram Feature Shape: (50000, 3000)\n"
     ]
    }
   ],
   "source": [
    "input_size = 3000  # Number of features\n",
    "\n",
    "# Bow 3000 Unigram\n",
    "from sklearn.metrics import accuracy_score, precision_score, recall_score\n",
    "from sklearn.feature_extraction.text import CountVectorizer\n",
    "\n",
    "\n",
    "# Bigram\n",
    "vectorizer_bow_bigram = CountVectorizer(max_features=3000, ngram_range=(1, 2))\n",
    "X_bow_bigram = vectorizer_bow_bigram.fit_transform(df['cleaned_review'])\n",
    "\n",
    "# Convert sparse matrix to dense matrix\n",
    "X_bow_bigram = X_bow_bigram.todense()\n",
    "\n",
    "print(\"X_bow_bigram Feature Shape:\", X_bow_bigram.shape)\n",
    "\n",
    "# Convert to numpy array\n",
    "X_bow_bigram = np.asarray(X_bow_bigram)\n",
    "\n",
    "scaler = StandardScaler()\n",
    "model = scaler.fit(X_bow_bigram)\n",
    "X_bow_bigram = model.transform(X_bow_bigram)\n"
   ]
  },
  {
   "cell_type": "code",
   "execution_count": 24,
   "metadata": {},
   "outputs": [
    {
     "name": "stdout",
     "output_type": "stream",
     "text": [
      "Train Feature Shape: (25000, 3000)\n",
      "Train Labels Shape: (25000,)\n",
      "Test Feature Shape: (25000, 3000)\n",
      "Test Labels Shape: (25000,)\n"
     ]
    }
   ],
   "source": [
    "# Prepare Dataset\n",
    "X_train, X_test, y_train, y_test = train_test_split(X_bow_bigram, df['sentiment_numeric'].values, test_size=0.5, random_state=42)\n",
    "print(\"Train Feature Shape:\", X_train.shape)\n",
    "print(\"Train Labels Shape:\", y_train.shape)\n",
    "print(\"Test Feature Shape:\", X_test.shape)\n",
    "print(\"Test Labels Shape:\", y_test.shape)\n",
    "train_dataset = NumpyDataset(X_train, y_train)\n",
    "test_dataset = NumpyDataset(X_test, y_test)"
   ]
  },
  {
   "cell_type": "code",
   "execution_count": 25,
   "metadata": {},
   "outputs": [
    {
     "name": "stdout",
     "output_type": "stream",
     "text": [
      "Epoch [1/10], Loss: 0.0137\n",
      "Epoch [2/10], Loss: 0.0263\n",
      "Epoch [3/10], Loss: 0.0005\n",
      "Epoch [4/10], Loss: 0.0002\n",
      "Epoch [5/10], Loss: 0.0000\n",
      "Epoch [6/10], Loss: 0.0000\n",
      "Epoch [7/10], Loss: 0.0000\n",
      "Epoch [8/10], Loss: 0.0000\n",
      "Epoch [9/10], Loss: 0.0000\n",
      "Epoch [10/10], Loss: 0.0001\n"
     ]
    }
   ],
   "source": [
    "# Prepare DataLoader\n",
    "train_loader = DataLoader(dataset=train_dataset, batch_size=batch_size, shuffle=True)\n",
    "test_loader = DataLoader(dataset=test_dataset, batch_size=batch_size, shuffle=False)\n",
    "# Instantiate Model, Define Loss and Optimizer\n",
    "model = LSTMNetwork(input_size, hidden_size, num_layers, output_size)\n",
    "model = model.to(device)\n",
    "criterion = nn.MSELoss()\n",
    "optimizer = optim.Adam(model.parameters(), lr=0.001)\n",
    "# Run Training Loops\n",
    "train_model(model, train_loader, criterion, optimizer, num_epochs)"
   ]
  },
  {
   "cell_type": "code",
   "execution_count": null,
   "metadata": {},
   "outputs": [
    {
     "name": "stdout",
     "output_type": "stream",
     "text": [
      "LSTM with BoW using unigrams and 3000 features:\n",
      "Accuracy: 0.87\n",
      "Precision: 0.86\n",
      "Recall: 0.88\n",
      "F1-Score: 0.87\n"
     ]
    }
   ],
   "source": [
    "# Run Test\n",
    "y_test, y_pre = test_model(model, test_loader)\n",
    "print(\"LSTM with BoW using bigrams and 3000 features:\")\n",
    "evaluate_model(y_test, y_pre)"
   ]
  },
  {
   "cell_type": "markdown",
   "metadata": {},
   "source": [
    "### Trigram"
   ]
  },
  {
   "cell_type": "code",
   "execution_count": null,
   "metadata": {},
   "outputs": [],
   "source": [
    "input_size = 3000  # Number of features\n",
    "\n",
    "# Bow 3000 Unigram\n",
    "from sklearn.metrics import accuracy_score, precision_score, recall_score\n",
    "from sklearn.feature_extraction.text import CountVectorizer\n",
    "\n",
    "# Trigram\n",
    "vectorizer_bow_trigram = CountVectorizer(max_features=3000, ngram_range=(1, 3))\n",
    "X_bow_trigram = vectorizer_bow_trigram.fit_transform(df['cleaned_review'])\n",
    "\n",
    "# Convert sparse matrix to dense matrix\n",
    "X_bow_trigram = X_bow_trigram.todense()\n",
    "\n",
    "\n",
    "print(\"X_bow_trigram Feature Shape:\", X_bow_trigram.shape)\n",
    "\n",
    "# Convert to numpy array\n",
    "X_bow_trigram = np.asarray(X_bow_trigram)\n",
    "\n",
    "scaler = StandardScaler()\n",
    "model = scaler.fit(X_bow_trigram)\n",
    "X_bow_trigram = model.transform(X_bow_trigram)"
   ]
  },
  {
   "cell_type": "code",
   "execution_count": null,
   "metadata": {},
   "outputs": [],
   "source": [
    "# Prepare Dataset\n",
    "X_train, X_test, y_train, y_test = train_test_split(X_bow_trigram, df['sentiment_numeric'].values, test_size=0.5, random_state=42)\n",
    "print(\"Train Feature Shape:\", X_train.shape)\n",
    "print(\"Train Labels Shape:\", y_train.shape)\n",
    "print(\"Test Feature Shape:\", X_test.shape)\n",
    "print(\"Test Labels Shape:\", y_test.shape)\n",
    "train_dataset = NumpyDataset(X_train, y_train)\n",
    "test_dataset = NumpyDataset(X_test, y_test)"
   ]
  },
  {
   "cell_type": "code",
   "execution_count": null,
   "metadata": {},
   "outputs": [],
   "source": [
    "# Prepare DataLoader\n",
    "train_loader = DataLoader(dataset=train_dataset, batch_size=batch_size, shuffle=True)\n",
    "test_loader = DataLoader(dataset=test_dataset, batch_size=batch_size, shuffle=False)\n",
    "# Instantiate Model, Define Loss and Optimizer\n",
    "model = LSTMNetwork(input_size, hidden_size, num_layers, output_size)\n",
    "model = model.to(device)\n",
    "criterion = nn.MSELoss()\n",
    "optimizer = optim.Adam(model.parameters(), lr=0.001)\n",
    "# Run Training Loops\n",
    "train_model(model, train_loader, criterion, optimizer, num_epochs)"
   ]
  },
  {
   "cell_type": "code",
   "execution_count": null,
   "metadata": {},
   "outputs": [],
   "source": [
    "# Run Test\n",
    "y_test, y_pre = test_model(model, test_loader)\n",
    "print(\"LSTM with BoW using trigrams and 3000 features:\")\n",
    "evaluate_model(y_test, y_pre)"
   ]
  },
  {
   "cell_type": "code",
   "execution_count": null,
   "metadata": {},
   "outputs": [],
   "source": []
  }
 ],
 "metadata": {
  "kernelspec": {
   "display_name": "fth_cuda_3_8",
   "language": "python",
   "name": "python3"
  },
  "language_info": {
   "codemirror_mode": {
    "name": "ipython",
    "version": 3
   },
   "file_extension": ".py",
   "mimetype": "text/x-python",
   "name": "python",
   "nbconvert_exporter": "python",
   "pygments_lexer": "ipython3",
   "version": "3.8.20"
  }
 },
 "nbformat": 4,
 "nbformat_minor": 2
}
